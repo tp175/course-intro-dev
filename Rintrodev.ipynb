{
 "cells": [
  {
   "cell_type": "markdown",
   "metadata": {},
   "source": []
  },
  {
   "cell_type": "markdown",
   "metadata": {},
   "source": [
    "<font style=\"color:#68829E; font-family:calibri; font-size:36px\"> <b> Introduction: R and Jupyter </b> </font>"
   ]
  },
  {
   "cell_type": "markdown",
   "metadata": {},
   "source": [
    "<font style=\"color:black; font-family:calibri; font-size:15px\">\n",
    "Welcome to <em>R</em>, on HCC/Binder, through Jupyter. <br>\n",
    "\n",
    "<p style=\"margin-left: 2em\">\n",
    "<b><em>\"R is a free software environment for statistical computing and graphics\" </em></b><br>\n",
    "<a href=\"https://www.r-project.org/\"> www.r-project.org </a> <br> <br>\n",
    "<b><em>\"The Jupyter Notebook is an open-source web application that allows you to create and share documents that contain live code, equations, visualizations and narrative text\" </em></b><br>\n",
    "<a href=\"https://jupyter.org/\"> www.jupyter.org </a> <br> <br>\n",
    "</p>\n",
    "\n",
    "Here, we'll be touching upon some of the fundamentals of programming in the <em>R</em> language. Topics to be covered include: functions, structures, packages, manipulation, graphics, saving and loading. XXX <br><br>\n",
    "First though lets briefly talk Jupyter ...\n",
    "</font>"
   ]
  },
  {
   "cell_type": "markdown",
   "metadata": {},
   "source": [
    "<font style=\"color:#68829E; font-family:calibri; font-size:29px\">\n",
    "<b> Jupyter Notebook </b>\n",
    "</font>\n",
    "<br>\n",
    "<font style=\"color:black; font-family:calibri; font-size:15px\">\n",
    "Segregated into a kernel (execute code) and dashboard/editor (interface), Jupyter permits mixing real-time coding with interactive rich-text ouputs in self-contained <em>.ipynb(JSON)</em> documents (local or remote). <br>\n",
    "Kernels include Julia, Python, R, MATLAB/Octave, etc. <br>\n",
    "Interact with input cells (code, markdown, etc) that exhibit an order and mode - insert, edit, run. <br>\n",
    "</font>"
   ]
  },
  {
   "cell_type": "markdown",
   "metadata": {},
   "source": [
    "``` $ jupyter notebook ```"
   ]
  },
  {
   "cell_type": "markdown",
   "metadata": {},
   "source": [
    "<font style=\"color:#68829E; font-family:calibri; font-size:29px\">\n",
    "<b> R </b>\n",
    "</font>\n",
    "<br>\n",
    "<font style=\"color:black; font-family:calibri; font-size:15px\">\n",
    "Starting <em>R</em> loads an interpreter and creates a workspace/environment to store values and perform commands - 'session'. <br>\n",
    "Interact with terminal directly or indirectly through scripts (<em>.R</em> extension).\n",
    "</font>"
   ]
  },
  {
   "cell_type": "code",
   "execution_count": null,
   "metadata": {
    "collapsed": true
   },
   "outputs": [],
   "source": [
    "#R - load & open (terminal)\n",
    "#module load R.3.4\n",
    "#R"
   ]
  },
  {
   "cell_type": "code",
   "execution_count": null,
   "metadata": {
    "collapsed": true
   },
   "outputs": [],
   "source": [
    "#get (/set) current/working directory\n",
    "getwd()\n",
    "#setwd('/home/XXX');\n",
    "\n",
    "#list.files(); #RUN BELOW, INSERT NEW CELL ..."
   ]
  },
  {
   "cell_type": "code",
   "execution_count": null,
   "metadata": {
    "collapsed": true
   },
   "outputs": [],
   "source": [
    "list.files()"
   ]
  },
  {
   "cell_type": "markdown",
   "metadata": {},
   "source": [
    "<div class=\"alert alert-block alert-info\" style=\"font-style:italic; font-size:13px\">\n",
    "<b>#Tip 1.</b>  a popular GUI alternative is R Studio.\n",
    "</div>"
   ]
  },
  {
   "cell_type": "markdown",
   "metadata": {},
   "source": [
    "<font style=\"color:#68829E; font-family:calibri; font-size:29px\">\n",
    "<b> Calculations </b>\n",
    "</font>\n",
    "<br>\n",
    "<font style=\"color:black; font-family:calibri; font-size:15px\">\n",
    "Mathematical calculations - elements & arrays (/vectors). <br>\n",
    "Example operators: <code>+</code>, <code>-</code>, <code>*</code>, <code>/</code>, <code>^</code>.\n",
    "</font>"
   ]
  },
  {
   "cell_type": "code",
   "execution_count": null,
   "metadata": {
    "collapsed": true,
    "scrolled": true
   },
   "outputs": [],
   "source": [
    "(20+20)/5"
   ]
  },
  {
   "cell_type": "code",
   "execution_count": null,
   "metadata": {
    "collapsed": true
   },
   "outputs": [],
   "source": [
    "c(1,2,3,4) * c(1,2,3,4)"
   ]
  },
  {
   "cell_type": "code",
   "execution_count": null,
   "metadata": {
    "collapsed": true
   },
   "outputs": [],
   "source": [
    "81^(1/2)"
   ]
  },
  {
   "cell_type": "code",
   "execution_count": null,
   "metadata": {
    "collapsed": true
   },
   "outputs": [],
   "source": [
    "sqrt(81); #built-in code (base functions)"
   ]
  },
  {
   "cell_type": "markdown",
   "metadata": {},
   "source": [
    "<font style=\"color:#68829E; font-family:calibri; font-size:29px\">\n",
    "<b> Functions </b>\n",
    "</font>\n",
    "<br>\n",
    "<font style=\"color:black; font-family:calibri; font-size:15px\">\n",
    "Perform procedures - Input to Output with options/arguments (<em>round brackets</em>). <br>\n",
    "Combining elements <code>c()</code> is one of the simplest 'base' functions. <br>\n",
    "With no defined arguments, functions when called will resort to default values found in documentation (? / help).\n",
    "</font>"
   ]
  },
  {
   "cell_type": "code",
   "execution_count": null,
   "metadata": {
    "collapsed": true
   },
   "outputs": [],
   "source": [
    "#nested example (runif = generate random number) \n",
    "sort( runif(10, min=0, max=1) , decreasing=FALSE, index.return=FALSE )"
   ]
  },
  {
   "cell_type": "code",
   "execution_count": null,
   "metadata": {
    "collapsed": true
   },
   "outputs": [],
   "source": [
    "#check documentation (usage, arguments, details, examples, etc)\n",
    "?runif\n",
    "?sort"
   ]
  },
  {
   "cell_type": "code",
   "execution_count": null,
   "metadata": {
    "collapsed": true
   },
   "outputs": [],
   "source": [
    "calculate_SE <- function(x){\n",
    "    #define function to calculate standard error ({body - local env})\n",
    "    return( sqrt(var(x) / length(x)) )\n",
    "}\n",
    "\n",
    "calculate_SE( c(10.4, 5.6, 3.1, 6.4, 21.7) ); #run function"
   ]
  },
  {
   "cell_type": "markdown",
   "metadata": {},
   "source": [
    "<div class=\"alert alert-block alert-info\" style=\"font-style:italic; font-size:13px\">\n",
    "<b>#Tip 2.</b>  source(\"Rcode.R\").\n",
    "</div>"
   ]
  },
  {
   "cell_type": "markdown",
   "metadata": {},
   "source": [
    "<font style=\"color:#68829E; font-family:calibri; font-size:29px\">\n",
    "<b> Assignment </b>\n",
    "</font>\n",
    "<br>\n",
    "<font style=\"color:black; font-family:calibri; font-size:15px\">\n",
    "Commands <code>-></code> OR <code>=</code> assigns and stores outputs/results as well as functions to memory (case-sensitive). <br> <br>\n",
    "<em>R</em> operates on named data structures, that is, sets of ordered entities.<br>\n",
    "Example vectors: numeric (double, integer, complex), logical, character.\n",
    "</font>"
   ]
  },
  {
   "cell_type": "code",
   "execution_count": null,
   "metadata": {
    "collapsed": true
   },
   "outputs": [],
   "source": [
    "x <- c(10.4, 5.6, 3.1, 6.4, 21.7); \n",
    "#x = c(10.4, 5.6, 3.1, 6.4, 21.7);\n",
    "\n",
    "typeof(x)\n",
    "x"
   ]
  },
  {
   "cell_type": "code",
   "execution_count": null,
   "metadata": {
    "collapsed": true
   },
   "outputs": [],
   "source": [
    "y <- c(\"test\", \"control\", \"control\", \"control\", \"test\");\n",
    "#y = c(\"test\", \"control\", \"control\", \"control\", \"test\");\n",
    "\n",
    "typeof(y)\n",
    "y"
   ]
  },
  {
   "cell_type": "markdown",
   "metadata": {},
   "source": [
    "<div class=\"alert alert-block alert-info\" style=\"font-style:italic; font-size:13px\">\n",
    "<b>#Tip 3.</b>  quotation characters, double (\") and single ('), are exchangeable.\n",
    "</div>"
   ]
  },
  {
   "cell_type": "markdown",
   "metadata": {},
   "source": [
    "<font style=\"color:#68829E; font-family:calibri; font-size:29px\">\n",
    "<b> Structures </b>\n",
    "</font>\n",
    "<br>\n",
    "<font style=\"color:black; font-family:calibri; font-size:15px\">\n",
    "While vectors are the most important type of object/structure/variable in <em>R</em>, others exist each with intrinsic attributes (mode and length). Conversion between types is relatively intuitive - <code>as.character</code>, <code>as.numeric</code>, <code>as.data.frame</code>. <br> <br>\n",
    "Examples: matrices, lists, dataframes.\n",
    "</font>"
   ]
  },
  {
   "cell_type": "code",
   "execution_count": null,
   "metadata": {
    "collapsed": true,
    "scrolled": false
   },
   "outputs": [],
   "source": [
    "#matrices - visualize toy example\n",
    "set.seed(5); #define seed to reproduce random results \n",
    "X = matrix( runif(20, min=0, max=10) , nrow=4, ncol=5, byrow=FALSE);\n",
    "\n",
    "dim(X)\n",
    "X"
   ]
  },
  {
   "cell_type": "markdown",
   "metadata": {},
   "source": [
    "<font style=\"color:#68829E; font-family:calibri; font-size:29px\">\n",
    "<b> Indexing </b>\n",
    "</font>\n",
    "<br>\n",
    "<font style=\"color:black; font-family:calibri; font-size:15px\">\n",
    "Access parts of a dataset, rows then columns (<em>square brackets</em>), starting with 1, can be coded multiple ways. <br>\n",
    "Wildcard <code>:</code> generates a regular sequence from start to stop (by 1).\n",
    "</font>"
   ]
  },
  {
   "cell_type": "code",
   "execution_count": null,
   "metadata": {
    "collapsed": true,
    "scrolled": true
   },
   "outputs": [],
   "source": [
    "X[2, 4]"
   ]
  },
  {
   "cell_type": "code",
   "execution_count": null,
   "metadata": {
    "collapsed": true
   },
   "outputs": [],
   "source": [
    "t(X)[2, 4]; #transpose (rows to columns, columns to rows)"
   ]
  },
  {
   "cell_type": "code",
   "execution_count": null,
   "metadata": {
    "collapsed": true
   },
   "outputs": [],
   "source": [
    "X[c(2,4), 4] = c(0,10); #replace elements\n",
    "X"
   ]
  },
  {
   "cell_type": "code",
   "execution_count": null,
   "metadata": {
    "collapsed": true
   },
   "outputs": [],
   "source": [
    "X[1:3, 2:3]\n",
    "\n",
    "cbind(X[1:3, 2], X[1:3, 3]); #concatenate columns\n",
    "\n",
    "rbind(X[1, 2:3], X[2, 2:3], X[3, 2:3]); #concatenate rows"
   ]
  },
  {
   "cell_type": "markdown",
   "metadata": {},
   "source": [
    "<font style=\"color:#68829E; font-family:calibri; font-size:29px\">\n",
    "<b> Conditions </b>\n",
    "</font>\n",
    "<br>\n",
    "<font style=\"color:black; font-family:calibri; font-size:15px\">\n",
    "Checks that control the flow of actions/execution (if / else). <br>\n",
    "Comparsion: lesser than (<code><</code>), greater than (<code>></code>), equal (<code>==</code>), different (<code>!=</code>). <br>\n",
    "Logical/Boolean: AND (<code>&</code>) if both <em>true</em>, OR (<code>|</code>) if either <em>true</em>, NOT (<code>!</code>) converts <em>true</em> to <em>false</em>.\n",
    "</font>"
   ]
  },
  {
   "cell_type": "code",
   "execution_count": null,
   "metadata": {
    "collapsed": true
   },
   "outputs": [],
   "source": [
    "X[X > 5]; #output - free from dimensions (byrow=FALSE)\n",
    "X"
   ]
  },
  {
   "cell_type": "code",
   "execution_count": null,
   "metadata": {
    "collapsed": true
   },
   "outputs": [],
   "source": [
    "X[X >= 6 & X <= 7]; #across whole matrix\n",
    "X[1, X[1, ] >= 6 & X[1, ] <= 7]; #only first row"
   ]
  },
  {
   "cell_type": "code",
   "execution_count": null,
   "metadata": {
    "collapsed": true
   },
   "outputs": [],
   "source": [
    "if (dim(X)[1] != 4) {\n",
    "    print(\"check - dimensions don't match\"); #first check cond.1, TRUE do something\n",
    "} else if (dim(X)[2] != 5) {\n",
    "    print(\"check - dimensions don't match\"); #FALSE then try cond.2, TRUE now do something different\n",
    "} else {\n",
    "    print(\"good - dimensions match\"); #FALSE again, do something else\n",
    "}"
   ]
  },
  {
   "cell_type": "code",
   "execution_count": null,
   "metadata": {
    "collapsed": true
   },
   "outputs": [],
   "source": [
    "y[y == \"test\"]"
   ]
  },
  {
   "cell_type": "markdown",
   "metadata": {},
   "source": [
    "<div class=\"alert alert-block alert-info\" style=\"font-style:italic; font-size:13px\">\n",
    "<b>#Tip 4.</b>  use tab for auto-completion & arrow keys for command history.\n",
    "</div>"
   ]
  },
  {
   "cell_type": "code",
   "execution_count": null,
   "metadata": {
    "collapsed": true
   },
   "outputs": [],
   "source": [
    "#CHECK-IN POINT\n",
    "#EXERCISE - create new variable, randlett, of 2000 randomly sampled ?LETTERS (hint), and count occurrences (a-z).\n",
    "\n",
    "#EXERCISE - define new function, roundndivide, to take two numeric/double inputs (x1 and x2), rounds to nearest integers,\n",
    "#divides integers, and returns logical output (TRUE/FALSE) if absolute of result is greater than 1. \n"
   ]
  },
  {
   "cell_type": "markdown",
   "metadata": {},
   "source": [
    "<font style=\"color:#68829E; font-family:calibri; font-size:29px\">\n",
    "<b> Iterations </b>\n",
    "</font>\n",
    "<br>\n",
    "<font style=\"color:black; font-family:calibri; font-size:15px\">\n",
    "Scalar loops, element by element, can be used to repeat procedures (for / while). <br>\n",
    "Vectorization, all elements at once, however is faster and scalable - <code>apply</code> (array), <code>lapply</code> (list), <code>sapply</code> (vector) - reducing redundancies/overhead, <br>\n",
    "using Fortan / C / C++ routines, and so on.\n",
    "</font>"
   ]
  },
  {
   "cell_type": "code",
   "execution_count": null,
   "metadata": {
    "collapsed": true
   },
   "outputs": [],
   "source": [
    "#initiate variable of NA (missing values) to fill during loop (preallocate - growing objects inefficient)\n",
    "colMean = rep(NA, times=dim(X)[2]);\n",
    "\n",
    "for (i in 1:dim(X)[2]){\n",
    "    #variable i in sequence start:end\n",
    "    print(i)\n",
    "    colMean[i] = mean(X[ ,i])\n",
    "    #break;#next\n",
    "}\n",
    "\n",
    "colMean"
   ]
  },
  {
   "cell_type": "code",
   "execution_count": null,
   "metadata": {
    "collapsed": true
   },
   "outputs": [],
   "source": [
    "colMean = apply(X, 2, mean); #column by column\n",
    "colMean\n",
    "\n",
    "#colMeans(X) #built-in"
   ]
  },
  {
   "cell_type": "code",
   "execution_count": null,
   "metadata": {
    "collapsed": true
   },
   "outputs": [],
   "source": [
    "rowSE = apply(X, 1, calculate_SE); #row by row\n",
    "rowSE"
   ]
  },
  {
   "cell_type": "markdown",
   "metadata": {},
   "source": [
    "<div class=\"alert alert-block alert-info\" style=\"font-style:italic; font-size:13px\">\n",
    "<b>#Tip 5.</b>  check system.time().\n",
    "</div>"
   ]
  },
  {
   "cell_type": "markdown",
   "metadata": {},
   "source": [
    "<font style=\"color:#68829E; font-family:calibri; font-size:29px\">\n",
    "<b> Packages </b>\n",
    "</font>\n",
    "<br>\n",
    "<font style=\"color:black; font-family:calibri; font-size:15px\">\n",
    "Executable codes/functions developed by the community are organised and shared online in resposities - these can be retrieved/downloaded (source (compile) vs bundled (compressed) vs binary (pre-built)), structured into directories (libraries) and loaded into memory to use. Packages will often require other packages - dependencies. <br> <br>\n",
    "Repositories: CRAN (official network), Bioconductor (bioinformatic specific), GitHub. <br>\n",
    "Packages: <code>Tidyverse</code>, <code>Shiny</code>, <code>dada2</code>, <code>phyloseq</code>, <code>MetaboAnalystR</code>, <code>lme4</code>.\n",
    "</font>"
   ]
  },
  {
   "cell_type": "code",
   "execution_count": null,
   "metadata": {
    "collapsed": true
   },
   "outputs": [],
   "source": [
    "#lapply(.libPaths(), dir)\n",
    "lapply(.libPaths(), list.files) #print available/downloaded packages"
   ]
  },
  {
   "cell_type": "code",
   "execution_count": null,
   "metadata": {
    "collapsed": true
   },
   "outputs": [],
   "source": [
    "#install.packages('ggplot2')\n",
    "library(ggplot2) #load into session\n",
    "\n",
    "#source(\"https://bioconductor.org/biocLite.R\");biocLite()\n",
    "#install.packages('devtools');devtools::install_github()"
   ]
  },
  {
   "cell_type": "code",
   "execution_count": null,
   "metadata": {
    "collapsed": true
   },
   "outputs": [],
   "source": [
    "#packages can contain data also \n",
    "data(package = \"ggplot2\")"
   ]
  },
  {
   "cell_type": "code",
   "execution_count": null,
   "metadata": {
    "collapsed": true
   },
   "outputs": [],
   "source": [
    "#data(\"mpg\", package = \"ggplot2\")\n",
    "data(\"midwest\", package = \"ggplot2\"); #call dataset (midwest demographics) into memory/env\n",
    "\n",
    "class(midwest)\n",
    "dim(midwest)\n",
    "\n",
    "#?detach();#?remove.packages()"
   ]
  },
  {
   "cell_type": "markdown",
   "metadata": {},
   "source": [
    "<font style=\"color:#68829E; font-family:calibri; font-size:29px\">\n",
    "<b> Dataframes </b>\n",
    "</font>\n",
    "<br>\n",
    "<font style=\"color:black; font-family:calibri; font-size:15px\">\n",
    "A special list of vectors of equal length that suggests an implicit relationship between elements. <br>\n",
    "Without such restrictions, variable type would default to a basic list.\n",
    "</font>"
   ]
  },
  {
   "cell_type": "code",
   "execution_count": null,
   "metadata": {
    "collapsed": true
   },
   "outputs": [],
   "source": [
    "head(midwest, n=2)"
   ]
  },
  {
   "cell_type": "code",
   "execution_count": null,
   "metadata": {
    "collapsed": true
   },
   "outputs": [],
   "source": [
    "print(colnames(midwest))\n",
    "#rownames(midwest)"
   ]
  },
  {
   "cell_type": "code",
   "execution_count": null,
   "metadata": {
    "collapsed": true
   },
   "outputs": [],
   "source": [
    "#get unique 'states' (with example indexing)\n",
    "unique(midwest$state)\n",
    "unique(midwest[ ,\"state\"])\n",
    "unique(midwest[ ,3])"
   ]
  },
  {
   "cell_type": "markdown",
   "metadata": {},
   "source": [
    "<div class=\"alert alert-block alert-info\" style=\"font-style:italic; font-size:13px\">\n",
    "<b>#Tip 6.</b>  tibbles are modern dataframes with subtleties (printing & subsetting).\n",
    "</div>"
   ]
  },
  {
   "cell_type": "markdown",
   "metadata": {},
   "source": [
    "<font style=\"color:#68829E; font-family:calibri; font-size:29px\">\n",
    "<b> Manipulation </b>\n",
    "</font>\n",
    "<br>\n",
    "<font style=\"color:black; font-family:calibri; font-size:15px\">\n",
    "Packages <code>dplyr</code> and <code>tidyr</code> are popular methods to wield (<em>select, exclude, add</em>) dataframes - rows/columns. <br>\n",
    "Base functions exist also and again can be coded multiple ways.\n",
    "</font>"
   ]
  },
  {
   "cell_type": "code",
   "execution_count": null,
   "metadata": {
    "collapsed": true
   },
   "outputs": [],
   "source": [
    "#base method (logical TRUE/FALSE)\n",
    "datOH = midwest[midwest$state==\"OH\", ];datOH[1:2,]\n",
    "#datOHc = midwest[midwest$state==\"OH\", 2];datOHc[1:2,]"
   ]
  },
  {
   "cell_type": "code",
   "execution_count": null,
   "metadata": {
    "collapsed": true
   },
   "outputs": [],
   "source": [
    "#base method (indexed INTEGER)\n",
    "indexOH = which(midwest$state==\"OH\");indexOH[1:10]\n",
    "#datOH = midwest[indexOH, ];head(datOH)\n",
    "\n",
    "#datminusOH = midwest[-indexOH, ]; #exclude (-)"
   ]
  },
  {
   "cell_type": "code",
   "execution_count": null,
   "metadata": {
    "collapsed": true
   },
   "outputs": [],
   "source": [
    "#install.packages('dplyr')\n",
    "library(dplyr)"
   ]
  },
  {
   "cell_type": "code",
   "execution_count": null,
   "metadata": {
    "collapsed": true
   },
   "outputs": [],
   "source": [
    "#dplyr uses '%>%' as a pipe - pass left side as first argument of right side\n",
    "unique(midwest$state)\n",
    "distinct(midwest, state)\n",
    "midwest %>% distinct(state)"
   ]
  },
  {
   "cell_type": "code",
   "execution_count": null,
   "metadata": {
    "collapsed": true
   },
   "outputs": [],
   "source": [
    "#dplyr filters rows & selects columns (%in% = belong to/member of | INVERSE with !%in%)\n",
    "datsubAAR = midwest %>%\n",
    "    #filter(category==\"AAR\") %>%\n",
    "    filter(category %in% \"AAR\" & state %in% \"IL\") %>% #multiple cond. (category & state)\n",
    "    #arrange(desc(popdensity)) %>% \n",
    "    select(county, state, popdensity, popwhite, popblack, popamerindian, popasian, category)\n",
    "\n",
    "datsubAAR"
   ]
  },
  {
   "cell_type": "code",
   "execution_count": null,
   "metadata": {
    "collapsed": true
   },
   "outputs": [],
   "source": [
    "#add new columns (using current data or not)\n",
    "datsubAAR = datsubAAR %>%\n",
    "    mutate(poptotalrecal = popwhite + popblack + popamerindian + popasian,\n",
    "           fakegroups = rep( c(\"North\",\"South\",\"Central\"), times=17) )\n",
    "    #transmute(poptotalrecal = popwhite + popblack + popamerindian + popasian)\n",
    "\n",
    "datsubAAR"
   ]
  },
  {
   "cell_type": "code",
   "execution_count": null,
   "metadata": {
    "collapsed": true
   },
   "outputs": [],
   "source": [
    "#dplyr has helper functions for ease/speed\n",
    "datsubAAR = datsubAAR %>%\n",
    "    #select(-starts_with(\"poptotal\")) #exclude (-)\n",
    "    #select(-ends_with(\"recal\")) #exclude (-)\n",
    "    select(-contains(\"recal\")) #exclude (-)\n",
    "\n",
    "datsubAAR"
   ]
  },
  {
   "cell_type": "code",
   "execution_count": null,
   "metadata": {
    "collapsed": true
   },
   "outputs": [],
   "source": [
    "#summarise data (statistics - with or without groups)\n",
    "datsubAAR %>%\n",
    "    summarise(mean(popwhite), median(popdensity), n())\n",
    "\n",
    "#?group_by(); #operations according groups"
   ]
  },
  {
   "cell_type": "code",
   "execution_count": null,
   "metadata": {
    "collapsed": true
   },
   "outputs": [],
   "source": [
    "#install.packages('tidyr')\n",
    "library(tidyr)"
   ]
  },
  {
   "cell_type": "code",
   "execution_count": null,
   "metadata": {
    "collapsed": true
   },
   "outputs": [],
   "source": [
    "#dataframes - visualize toy example\n",
    "newdf = data.frame(\n",
    "        sampleID = c(\"exp1\",\"exp2\",\"exp3\",\"exp4\"),\n",
    "        groupID = c(\"control\",\"control\",\"test\",\"test\"),\n",
    "        tp1 = c(10, 12, 11, 11), #measurement @ timepoint-1\n",
    "        tp2 = c(20, 20, 38, 39), #measurement @ timepoint-2\n",
    "        tp3 = c(20, 20, 50, 52) #measurement @ timepoint-3\n",
    ")\n",
    "\n",
    "newdf"
   ]
  },
  {
   "cell_type": "code",
   "execution_count": null,
   "metadata": {
    "collapsed": true
   },
   "outputs": [],
   "source": [
    "#reshape/format - wide to long (ggplot2 likes)\n",
    "newdflong <- gather(newdf, tPoint, tMeasure, tp1:tp3, factor_key=TRUE)\n",
    "newdflong\n",
    "\n",
    "#?spread(); #reshape/format - long to wide"
   ]
  },
  {
   "cell_type": "code",
   "execution_count": null,
   "metadata": {
    "collapsed": true
   },
   "outputs": [],
   "source": [
    "#CHECK-IN POINT \n",
    "#EXERCISE - print group statistics - three of your choice - for 'percadultpoverty' and 'percadultpoverty', \n",
    "#using 'fakegroups', in dataframe datsubAAR (with dplyr). \n",
    "\n",
    "#EXERCISE - reshape dataframe newdflong from long to wide as new dataframe newdfwide (with tidyr).\n"
   ]
  },
  {
   "cell_type": "markdown",
   "metadata": {},
   "source": [
    "<font style=\"color:#68829E; font-family:calibri; font-size:29px\">\n",
    "<b> Graphics </b>\n",
    "</font>\n",
    "<br>\n",
    "<font style=\"color:black; font-family:calibri; font-size:15px\">\n",
    "For visualizations package <code>ggplot2</code> is preferred over base functions (<code>plot()</code>, <code>lines()</code>, <code>barplot()</code>).<br>\n",
    "Mapping data, which can come from multiple sources (dataframes), to graphic attributes (<code>x</code>, <code>y</code>, <code>color</code>, <code>fill</code>, <code>group</code>) is done through aesthetics <code>(aes)</code>. <br>\n",
    "Layers (geoms, stats, position, annotation), scales, facets, coordinate systems, themes can all then be added with <code>+</code>. <br><br>\n",
    "Example geoms: <code>geom_point</code>, <code>geom_line</code>, <code>geom_bar</code>, <code>geom_boxplot</code>, <code>geom_polygon</code>, <code>geom_path</code>.\n",
    "</font>"
   ]
  },
  {
   "cell_type": "code",
   "execution_count": null,
   "metadata": {
    "collapsed": true
   },
   "outputs": [],
   "source": [
    "plt1 = ggplot( data=midwest, aes(x=area, y=poptotal, color=state) ) +\n",
    "    #scatter geometric object (points = observation/county)\n",
    "    geom_point() + ggtitle(\"plot1\")\n",
    "    \n",
    "plt1"
   ]
  },
  {
   "cell_type": "code",
   "execution_count": null,
   "metadata": {
    "collapsed": true
   },
   "outputs": [],
   "source": [
    "plt2 = ggplot( data=midwest, aes(x=poptotal, y=popasian) ) +\n",
    "    #scatter geometric object (points = observation/county)\n",
    "    geom_point( aes(color=county), shape=18, size=3.5, show.legend=FALSE ) + ggtitle(\"plot2\") +\n",
    "    #subplot dataset by column/variable (state)\n",
    "        facet_wrap( ~state, scales=\"fixed\", nrow=2 ) \n",
    "        #facet_wrap( ~state, scales=\"free\", nrow=2 ) \n",
    "      \n",
    "plt2"
   ]
  },
  {
   "cell_type": "code",
   "execution_count": null,
   "metadata": {
    "collapsed": true
   },
   "outputs": [],
   "source": [
    "plt3 = plt2 + ggtitle(\"plot3\") +\n",
    "    facet_wrap( ~state, scales=\"free\", nrow=2 ) +\n",
    "    #statistical transformation (here groups = facets / local vs global)\n",
    "        stat_smooth( method = \"lm\", formula=y~x, size=1, se=T, color=\"black\" ) +\n",
    "        stat_smooth( aes(group=state), method = \"loess\", formula=y~x, size=1, se=T, color=\"red\" )\n",
    "\n",
    "plt3"
   ]
  },
  {
   "cell_type": "code",
   "execution_count": null,
   "metadata": {
    "collapsed": true
   },
   "outputs": [],
   "source": [
    "plt4 = ggplot( data=midwest, aes(x=1, y=area, fill=state) ) + ggtitle(\"plot4\") +\n",
    "    #bar geometric object (stat=\"identity\" - raw data)\n",
    "    geom_bar( stat=\"identity\", position=\"stack\" ) +\n",
    "    labs( x=\"\", y=\"Cumulative Area\", fill=\"Midwest\" ) +\n",
    "    #scale discrete (not continuous) for fill (not color)\n",
    "        scale_fill_brewer( palette=\"Set3\" ) +\n",
    "        #scale_fill_manual(values=c(\"#FFCCFF\",\"#CC99FF\",\"#9933FF\", \"#330099\", \"#000033\")) +\n",
    "    scale_x_discrete( breaks=\"\", labels=\"\" )\n",
    "\n",
    "plt4"
   ]
  },
  {
   "cell_type": "code",
   "execution_count": null,
   "metadata": {
    "collapsed": true
   },
   "outputs": [],
   "source": [
    "#print figures to file (pdf / png / svg / etc)\n",
    "pdf(\"Figures.pdf\", width=40, height=20)\n",
    "print(plt1)\n",
    "print(plt2)\n",
    "print(plt3)\n",
    "print(plt4)\n",
    "dev.off()\n",
    "\n",
    "#?ggsave();#built-in save function"
   ]
  },
  {
   "cell_type": "markdown",
   "metadata": {},
   "source": [
    "<div class=\"alert alert-block alert-info\" style=\"font-style:italic; font-size:13px\">\n",
    "<b>#Tip 7.</b>  packages often come with tutorials called vignettes.\n",
    "</div>"
   ]
  },
  {
   "cell_type": "code",
   "execution_count": null,
   "metadata": {
    "collapsed": true
   },
   "outputs": [],
   "source": [
    "#CHECK-IN POINT \n",
    "#EXERCISE - change plt1 so that size of points are now proportional to 'percbelowpoverty', y-axis log10 transformed, \n",
    "#axis title bold size 10, axis text italics size 8 and major/minor black grid lines.     \n",
    "\n",
    "#EXERCISE - recreate plt4 so that bars are now plotted horizontally per state (unstacked/unfaceted).  \n"
   ]
  },
  {
   "cell_type": "markdown",
   "metadata": {},
   "source": [
    "<font style=\"color:#68829E; font-family:calibri; font-size:29px\">\n",
    "<b> Saving / Writing </b>\n",
    "</font>\n",
    "<br>\n",
    "<font style=\"color:black; font-family:calibri; font-size:15px\">\n",
    "Workspace objects can be saved as <em> .Rdata/.Rda </em> files for logged records or future use. <br>\n",
    "Results (data, figures, apps) can be outputted as other files also.\n",
    "</font>"
   ]
  },
  {
   "cell_type": "code",
   "execution_count": null,
   "metadata": {
    "collapsed": true
   },
   "outputs": [],
   "source": [
    "ls() #print env objects"
   ]
  },
  {
   "cell_type": "code",
   "execution_count": null,
   "metadata": {
    "collapsed": true
   },
   "outputs": [],
   "source": [
    "rm(plt1,plt2,plt3,plt4) #remove env objects\n",
    "ls()"
   ]
  },
  {
   "cell_type": "code",
   "execution_count": null,
   "metadata": {
    "collapsed": true
   },
   "outputs": [],
   "source": [
    "save.image(\"05_29_2019.RData\")\n",
    "#save(list=c(\"datOH\",\"datminusOH\"), file=\"05_29_2019.RData\")\n",
    "\n",
    "#load(\"05_29_2019.RData\")"
   ]
  },
  {
   "cell_type": "code",
   "execution_count": null,
   "metadata": {
    "collapsed": true
   },
   "outputs": [],
   "source": [
    "?write.table"
   ]
  },
  {
   "cell_type": "code",
   "execution_count": null,
   "metadata": {
    "collapsed": true
   },
   "outputs": [],
   "source": [
    "write.table(midwest, file=\"ExampleGGData.csv\", sep=\",\")\n",
    "#write.table(midwest, file=\"ExampleGGData.txt\", sep=\"\\t\")\n",
    "\n",
    "list.files(path=\".\", pattern=\".csv\") \n",
    "\n",
    "#rm(list=ls());cat(\"\\014\")"
   ]
  },
  {
   "cell_type": "markdown",
   "metadata": {},
   "source": [
    "<font style=\"color:#68829E; font-family:calibri; font-size:29px\">\n",
    "<b> Loading / Reading </b>\n",
    "</font>\n",
    "<br>\n",
    "<font style=\"color:black; font-family:calibri; font-size:15px\">\n",
    "Importing data into <em>R</em> from files (.csv/.txt) can range in complexity - multiple options/arguments. <br>\n",
    "Examples: separator/delimiter (<em>\",\", \"\\t\", \" \"</em>), header.\n",
    "</font>"
   ]
  },
  {
   "cell_type": "code",
   "execution_count": null,
   "metadata": {
    "collapsed": true
   },
   "outputs": [],
   "source": [
    "df = read.table(file=\"ExampleGGData.csv\", sep=\",\")\n",
    "#df = read.table(file=\"ExampleGGData.txt\", sep=\"\\t\")\n",
    "head(df)\n",
    "\n",
    "#?read.csv()\n",
    "#?read.delim()"
   ]
  },
  {
   "cell_type": "code",
   "execution_count": null,
   "metadata": {
    "collapsed": true
   },
   "outputs": [],
   "source": [
    "#https://github.com/fivethirtyeight/data\n",
    "\n",
    "dfOnline = read.table(file=\"https://raw.githubusercontent.com/fivethirtyeight/data/master/bachelorette/bachelorette.csv\", sep=\",\", header=TRUE)\n",
    "head(dfOnline)"
   ]
  },
  {
   "cell_type": "markdown",
   "metadata": {},
   "source": [
    "<div class=\"alert alert-block alert-info\" style=\"font-style:italic; font-size:13px\">\n",
    "<b>#Tip 8.</b>  try package 'openxlsx' for Excel.\n",
    "</div>"
   ]
  },
  {
   "cell_type": "code",
   "execution_count": null,
   "metadata": {
    "collapsed": true
   },
   "outputs": [],
   "source": [
    "#print info about R\n",
    "sessionInfo()"
   ]
  },
  {
   "cell_type": "code",
   "execution_count": null,
   "metadata": {
    "collapsed": true
   },
   "outputs": [],
   "source": [
    "#quit()"
   ]
  },
  {
   "cell_type": "markdown",
   "metadata": {},
   "source": [
    "<font style=\"color:#68829E; font-family:calibri; font-size:29px\">\n",
    "<b> Command Line </b>\n",
    "</font>\n",
    "<br>\n",
    "<font style=\"color:black; font-family:calibri; font-size:15px\">\n",
    "Within a terminal <em>R</em> can be interactive (open input) or not/batch (closed execution).\n",
    "</font>"
   ]
  },
  {
   "cell_type": "markdown",
   "metadata": {},
   "source": [
    "``` $ R ``` <br>\n",
    "``` $ Rscript Rcode.R ``` <br>\n",
    "``` $ R CMD BATCH Rcode.R ``` "
   ]
  },
  {
   "cell_type": "markdown",
   "metadata": {},
   "source": [
    "<font style=\"color:black; font-family:calibri; font-size:15px\">\n",
    "<b><em>References</em></b> <br>\n",
    "</font>\n",
    "<font style=\"color:black; font-family:calibri; font-size:15px\">\n",
    "Software Carpentry: Our Lessons (<a href=\"https://software-carpentry.org/lessons/\">https://software-carpentry.org/lessons</a>) <br>\n",
    "R Packages: Organize, test, document and share your code (<a href=\"https://r-pkgs.org/\">https://r-pkgs.org</a>) <br>\n",
    "Tidyverse: R packages for data science (<a href=\"https://www.tidyverse.org/\">https://www.tidyverse.org</a>) <br>\n",
    "RStudio: Cheat Sheets (<a href=\"https://www.rstudio.com/resources/cheatsheets/\">https://www.rstudio.com/resources/cheatsheets</a>) <br>\n",
    "</font>"
   ]
  },
  {
   "cell_type": "markdown",
   "metadata": {},
   "source": [
    "<font size=\"2\" color=\"black\" face=\"calibri\"> <b>\n",
    "Introduction: R and Jupyter <br>\n",
    "</b> </font>"
   ]
  }
 ],
 "metadata": {
  "kernelspec": {
   "display_name": "R 3.4",
   "language": "R",
   "name": "ir"
  },
  "language_info": {
   "codemirror_mode": "r",
   "file_extension": ".r",
   "mimetype": "text/x-r-source",
   "name": "R",
   "pygments_lexer": "r",
   "version": "3.4.1"
  }
 },
 "nbformat": 4,
 "nbformat_minor": 2
}

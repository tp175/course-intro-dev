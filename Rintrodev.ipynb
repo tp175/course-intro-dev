{
 "cells": [
  {
   "cell_type": "markdown",
   "metadata": {},
   "source": [
    "<font size=\"6\" color=\"68829E\" face=\"calibri\"> <b> Introduction: R and Jupyter </b> </font>"
   ]
  },
  {
   "cell_type": "markdown",
   "metadata": {},
   "source": [
    "<font size=\"4\" color=\"#000000\" face=\"calibri\">\n",
    "Welcome to R, on HCC, through Jupyter. <br> <br>\n",
    "<i>\"R is a free software environment for statistical computing and graphics\" </i><br>\n",
    "<a href=\"https://www.r-project.org/\"> www.r-project.org </a> <br> <br>\n",
    "Here, we'll be touching upon some of the fundamentals of the R language. <br>\n",
    "First though lets briefly talk Jupyter ... <br> <br>\n",
    "<i>\"The Jupyter Notebook is an open-source web application that allows you to create and share documents that contain live code, equations, visualizations and narrative text\" </i><br>\n",
    "<a href=\"https://jupyter.org/\"> www.jupyter.org </a>\n",
    "</font>"
   ]
  },
  {
   "cell_type": "markdown",
   "metadata": {},
   "source": [
    "<font size=\"6\" color=\"68829E\" face=\"calibri\">\n",
    "<b> Jupyter Notebook </b>\n",
    "</font>\n",
    "<br>\n",
    "<font size=\"4\" color=\"black\" face=\"calibri\">\n",
    "Segregated into a kernel (execute code) and dashboard/editor (interface), Jupyter permits mixing real-time coding with interactive rich-text ouputs in self-contained ```.ipynb(JSON)``` documents (local or remote). <br>\n",
    "Kernels include Julia, Python, R, MATLAB/Octave, etc. <br>\n",
    "Interact with input cells (code, markdown, etc) that exhibit an order and mode (edit & command). <br>\n",
    "</font>"
   ]
  },
  {
   "cell_type": "markdown",
   "metadata": {},
   "source": [
    "``` $ conda install -c conda-forge jupyterlab ``` <br>\n",
    "``` $ jupyter notebook ```"
   ]
  },
  {
   "cell_type": "markdown",
   "metadata": {},
   "source": [
    "<font size=\"6\" color=\"68829E\" face=\"calibri\">\n",
    "<b> R </b>\n",
    "</font>\n",
    "<br>\n",
    "<font size=\"4\" color=\"black\" face=\"calibri\">\n",
    "Starting R loads an interpreter and creates a workspace/environment to store values and perform commands. <br>\n",
    "Interact with terminal directly or indirectly through scripts. <br> <br>\n",
    "</font>\n",
    "<font size=\"3\" color=\"#000000\" face=\"calibri\">\n",
    "#Tip 1. a popular GUI alternative is R Studio.\n",
    "</font>"
   ]
  },
  {
   "cell_type": "code",
   "execution_count": null,
   "metadata": {
    "collapsed": true,
    "scrolled": false
   },
   "outputs": [],
   "source": [
    "#module load R.3.4\n",
    "#R\n",
    "\n",
    "sessionInfo()"
   ]
  },
  {
   "cell_type": "code",
   "execution_count": null,
   "metadata": {
    "collapsed": true
   },
   "outputs": [],
   "source": [
    "getwd()\n",
    "#setwd('/home/')"
   ]
  },
  {
   "cell_type": "code",
   "execution_count": null,
   "metadata": {
    "collapsed": true
   },
   "outputs": [],
   "source": [
    "list.files()"
   ]
  },
  {
   "cell_type": "markdown",
   "metadata": {},
   "source": [
    "<font size=\"6\" color=\"68829E\" face=\"calibri\">\n",
    "<b> Calculations </b>\n",
    "</font>\n",
    "<br>\n",
    "<font size=\"4\" color=\"black\" face=\"calibri\">\n",
    "Mathematical calculations - elements & arrays (/vectors). <br>\n",
    "Example operators: ``` + , - , * , / , ^ ```.\n",
    "</font>"
   ]
  },
  {
   "cell_type": "code",
   "execution_count": null,
   "metadata": {
    "collapsed": true,
    "scrolled": true
   },
   "outputs": [],
   "source": [
    "(20+20)/5"
   ]
  },
  {
   "cell_type": "code",
   "execution_count": null,
   "metadata": {
    "collapsed": true
   },
   "outputs": [],
   "source": [
    "c(1,2,3,4) * c(1,2,3,4)"
   ]
  },
  {
   "cell_type": "code",
   "execution_count": null,
   "metadata": {
    "collapsed": true
   },
   "outputs": [],
   "source": [
    "sqrt(81) "
   ]
  },
  {
   "cell_type": "markdown",
   "metadata": {},
   "source": [
    "<font size=\"6\" color=\"68829E\" face=\"calibri\">\n",
    "<b> Functions </b>\n",
    "</font>\n",
    "<br>\n",
    "<font size=\"4\" color=\"black\" face=\"calibri\">\n",
    "Perform procedures - Input to Output with options/arguments (<i>round brackets</i>). <br>\n",
    "Combining elements ``` c() ``` is one of the simplest functions. <br>\n",
    "With no defined arguments, functions will resort to default values found in documentation (? / help).\n",
    "</font>\n",
    "<br> <br>\n",
    "<font size=\"3\" color=\"#000000\" face=\"calibri\">\n",
    "#Tip 2. source(\"XXX.R\").\n",
    "</font>"
   ]
  },
  {
   "cell_type": "code",
   "execution_count": null,
   "metadata": {},
   "outputs": [],
   "source": [
    "#nested example (runif = generate random number) \n",
    "sort(runif(10, min=0, max=1), decreasing=FALSE)"
   ]
  },
  {
   "cell_type": "code",
   "execution_count": null,
   "metadata": {
    "collapsed": true
   },
   "outputs": [],
   "source": [
    "?sort"
   ]
  },
  {
   "cell_type": "code",
   "execution_count": null,
   "metadata": {
    "collapsed": true
   },
   "outputs": [],
   "source": [
    "calculate_SE <- function(x){\n",
    "    #function to calculate standard error ({local env})\n",
    "    sqrt(var(x) / length(x))\n",
    "}\n",
    "\n",
    "calculate_SE(c(10.4, 5.6, 3.1, 6.4, 21.7))"
   ]
  },
  {
   "cell_type": "markdown",
   "metadata": {},
   "source": [
    "<font size=\"6\" color=\"68829E\" face=\"calibri\">\n",
    "<b> Assignment </b>\n",
    "</font>\n",
    "<br>\n",
    "<font size=\"4\" color=\"black\" face=\"calibri\">\n",
    "Commands ``` <- OR = ``` assigns and stores outputs (results). <br> <br>\n",
    "R operates on named data structures, that is, sets of ordered entities.<br>\n",
    "Example vectors: numeric (double, integer, complex), logical, character.\n",
    "</font>"
   ]
  },
  {
   "cell_type": "code",
   "execution_count": null,
   "metadata": {
    "collapsed": true
   },
   "outputs": [],
   "source": [
    "x <- c(10.4, 5.6, 3.1, 6.4, 21.7); \n",
    "#x = c(10.4, 5.6, 3.1, 6.4, 21.7);\n",
    "x"
   ]
  },
  {
   "cell_type": "code",
   "execution_count": null,
   "metadata": {
    "collapsed": true
   },
   "outputs": [],
   "source": [
    "y <- c(\"test\", \"control\", \"control\", \"control\", \"test\");\n",
    "#y = c(\"test\", \"control\", \"control\", \"control\", \"test\");\n",
    "y"
   ]
  },
  {
   "cell_type": "code",
   "execution_count": null,
   "metadata": {
    "collapsed": true
   },
   "outputs": [],
   "source": [
    "as.character(x)"
   ]
  },
  {
   "cell_type": "markdown",
   "metadata": {},
   "source": [
    "<font size=\"6\" color=\"68829E\" face=\"calibri\">\n",
    "<b> Objects </b>\n",
    "</font>\n",
    "<br>\n",
    "<font size=\"4\" color=\"black\" face=\"calibri\">\n",
    "While vectors are the most important type of object/structure/variable in R, others exist each with intrinsic attributes (mode and length). Conversion between types is relatively intuitive. <br>\n",
    "Examples: matrices, lists, dataframes.\n",
    "</font>"
   ]
  },
  {
   "cell_type": "code",
   "execution_count": null,
   "metadata": {
    "scrolled": false
   },
   "outputs": [],
   "source": [
    "X = matrix(runif(20, min=0, max=10), nrow=4, ncol=5, byrow=FALSE);\n",
    "\n",
    "dim(X)\n",
    "X"
   ]
  },
  {
   "cell_type": "markdown",
   "metadata": {},
   "source": [
    "<font size=\"6\" color=\"68829E\" face=\"calibri\">\n",
    "<b> Indexing </b>\n",
    "</font>\n",
    "<br>\n",
    "<font size=\"4\" color=\"black\" face=\"calibri\">\n",
    "Access parts of a dataset - rows then columns (<i>square brackets</i>).\n",
    "</font>"
   ]
  },
  {
   "cell_type": "code",
   "execution_count": null,
   "metadata": {
    "collapsed": true,
    "scrolled": true
   },
   "outputs": [],
   "source": [
    "X[2,4]"
   ]
  },
  {
   "cell_type": "code",
   "execution_count": null,
   "metadata": {
    "collapsed": true
   },
   "outputs": [],
   "source": [
    "t(X)[2,4]"
   ]
  },
  {
   "cell_type": "code",
   "execution_count": null,
   "metadata": {
    "collapsed": true
   },
   "outputs": [],
   "source": [
    "X[1:3,2:3]"
   ]
  },
  {
   "cell_type": "code",
   "execution_count": null,
   "metadata": {
    "collapsed": true
   },
   "outputs": [],
   "source": [
    "cbind(X[1:3,2], X[1:3,3])"
   ]
  },
  {
   "cell_type": "code",
   "execution_count": null,
   "metadata": {
    "collapsed": true
   },
   "outputs": [],
   "source": [
    "rbind(X[1,2:3], X[2,2:3], X[3,2:3])"
   ]
  },
  {
   "cell_type": "markdown",
   "metadata": {},
   "source": [
    "<font size=\"6\" color=\"68829E\" face=\"calibri\">\n",
    "<b> Iterations </b>\n",
    "</font>\n",
    "<br>\n",
    "<font size=\"4\" color=\"black\" face=\"calibri\">\n",
    "Scalar loops, element by element, can be used to repeat procedures (for & while). <br>\n",
    "Vectorization, all elements at once, however is faster and scalable - apply (array), lapply (list), sapply (vector). This is because XXX. <br> <br>\n",
    "</font>\n",
    "<font size=\"3\" color=\"#000000\" face=\"calibri\">\n",
    "#Tip 3. check system.time().\n",
    "</font>"
   ]
  },
  {
   "cell_type": "code",
   "execution_count": null,
   "metadata": {},
   "outputs": [],
   "source": [
    "#create variable of NA (missing values) to fill during loop (efficiency)\n",
    "colMean = rep(NA, times=dim(X)[2]);\n",
    "for (i in 1:dim(X)[2]){\n",
    "    colMean[i] = mean(X[,i])\n",
    "}\n",
    "\n",
    "colMean"
   ]
  },
  {
   "cell_type": "code",
   "execution_count": null,
   "metadata": {
    "collapsed": true
   },
   "outputs": [],
   "source": [
    "colMean = apply(X, 2, mean)\n",
    "colMean\n",
    "\n",
    "#colMeans(X)"
   ]
  },
  {
   "cell_type": "code",
   "execution_count": null,
   "metadata": {
    "collapsed": true
   },
   "outputs": [],
   "source": [
    "rowSE = apply(X, 1, calculate_SE)\n",
    "rowSE"
   ]
  },
  {
   "cell_type": "markdown",
   "metadata": {},
   "source": [
    "<font size=\"6\" color=\"68829E\" face=\"calibri\">\n",
    "<b> Conditions </b>\n",
    "</font>\n",
    "<br>\n",
    "<font size=\"4\" color=\"black\" face=\"calibri\">\n",
    "Checks that control the flow of actions/execution. <br>\n",
    "Comparsion: lesser than (``` < ```), greater than (``` > ```), equal (``` == ```), different (``` != ```). <br>\n",
    "Logical: AND (``` & ```) if both <i>true</i>, OR (``` | ```) if either <i>true</i>, NOT (``` ! ```) converts <i>true</i> to <i>false</i>.\n",
    "</font>"
   ]
  },
  {
   "cell_type": "code",
   "execution_count": null,
   "metadata": {
    "collapsed": true
   },
   "outputs": [],
   "source": [
    "if (length(colMean) == 5) {\n",
    "  print(\"good - dimensions match\")\n",
    "#} elseif {\n",
    "} else {\n",
    "  print(\"check - dimensions don't match\")\n",
    "}"
   ]
  },
  {
   "cell_type": "markdown",
   "metadata": {},
   "source": [
    "<font size=\"6\" color=\"68829E\" face=\"calibri\">\n",
    "<b> Packages </b>\n",
    "</font>\n",
    "<br>\n",
    "<font size=\"4\" color=\"black\" face=\"calibri\">\n",
    "Codes/functions developed by the community are organised and shared online in resposities - these can be retrieved/downloaded (source (compile) vs bundled (compressed) vs binary (pre-built)), structured into directories (libraries) and loaded into memory to use. Packages will often require other packages - dependencies. <br> <br>\n",
    "Repositories: CRAN (official network), Bioconductor (bioinformatic specific), GitHub. <br>\n",
    "Packages: Tidyverse, Shiny, dada2, phyloseq, MetaboAnalystR, lme4. <br> <br>\n",
    "</font>\n",
    "<font size=\"3\" color=\"#000000\" face=\"calibri\">\n",
    "#Tip 4. detail active libraries with .libPaths().\n",
    "</font>"
   ]
  },
  {
   "cell_type": "code",
   "execution_count": null,
   "metadata": {},
   "outputs": [],
   "source": [
    "#lapply(.libPaths(), dir)\n",
    "lapply(.libPaths(), list.files)"
   ]
  },
  {
   "cell_type": "code",
   "execution_count": null,
   "metadata": {
    "collapsed": true
   },
   "outputs": [],
   "source": [
    "#install.packages('ggplot2')\n",
    "library(ggplot2)\n",
    "\n",
    "#source(\"https://bioconductor.org/biocLite.R\");biocLite()\n",
    "#install.packages('devtools');devtools::install_github()"
   ]
  },
  {
   "cell_type": "code",
   "execution_count": null,
   "metadata": {
    "collapsed": true
   },
   "outputs": [],
   "source": [
    "data(package = \"ggplot2\")"
   ]
  },
  {
   "cell_type": "code",
   "execution_count": null,
   "metadata": {
    "collapsed": true
   },
   "outputs": [],
   "source": [
    "#data(\"mpg\", package = \"ggplot2\")\n",
    "data(\"midwest\", package = \"ggplot2\")\n",
    "\n",
    "dat = midwest;\n",
    "class(dat)\n",
    "\n",
    "#detach(\"package:ggplot2\")"
   ]
  },
  {
   "cell_type": "markdown",
   "metadata": {},
   "source": [
    "<font size=\"6\" color=\"68829E\" face=\"calibri\">\n",
    "<b> Dataframes </b>\n",
    "</font>\n",
    "<br>\n",
    "<font size=\"4\" color=\"black\" face=\"calibri\">\n",
    "A special list of vectors of equal length that suggests an implicit relationship between elements. <br>\n",
    "Without such restrictions, variable type would default to a basic list. <br> <br>\n",
    "</font>\n",
    "<font size=\"3\" color=\"#000000\" face=\"calibri\">\n",
    "#Tip 5. tibbles are modern dataframes with subtleties (printing & subsetting).\n",
    "</font>"
   ]
  },
  {
   "cell_type": "code",
   "execution_count": null,
   "metadata": {
    "collapsed": true
   },
   "outputs": [],
   "source": [
    "dim(dat)\n",
    "head(dat)"
   ]
  },
  {
   "cell_type": "markdown",
   "metadata": {},
   "source": [
    "<font size=\"6\" color=\"68829E\" face=\"calibri\">\n",
    "<b> Manipulation </b>\n",
    "</font>\n",
    "<br>\n",
    "<font size=\"4\" color=\"black\" face=\"calibri\">\n",
    "Packages ```dplyr``` and ```tidyr``` are popular methods to wield (select, exclude, add) dataframe rows/columns.\n",
    "</font>"
   ]
  },
  {
   "cell_type": "code",
   "execution_count": null,
   "metadata": {
    "collapsed": true
   },
   "outputs": [],
   "source": [
    "print(colnames(dat))\n",
    "#rownames(dat)"
   ]
  },
  {
   "cell_type": "code",
   "execution_count": null,
   "metadata": {
    "collapsed": true
   },
   "outputs": [],
   "source": [
    "unique(dat$state)\n",
    "unique(dat[,\"state\"])\n",
    "unique(dat[,3])"
   ]
  },
  {
   "cell_type": "code",
   "execution_count": null,
   "metadata": {
    "collapsed": true
   },
   "outputs": [],
   "source": [
    "#base method (TRUE/FALSE)\n",
    "datOH = dat[dat$state==\"OH\",];head(datOH)\n",
    "#datOHc = dat[dat$state==\"OH\", 2];head(datOHc)\n",
    "\n",
    "#base method (index)\n",
    "indexOH = which(dat$state==\"OH\");indexOH[1:10]\n",
    "#datOH = dat[indexOH,];head(datOH)\n",
    "\n",
    "datminusOH = dat[-indexOH,];#exclude"
   ]
  },
  {
   "cell_type": "code",
   "execution_count": null,
   "metadata": {
    "collapsed": true
   },
   "outputs": [],
   "source": [
    "#install.packages('dplyr')\n",
    "library(dplyr)\n",
    "\n",
    "#dplyr uses '%>%' as a pipe - pass left side as first argument of right side\n",
    "unique(dat$category)\n",
    "distinct(dat, category)\n",
    "dat %>% distinct(category)"
   ]
  },
  {
   "cell_type": "code",
   "execution_count": null,
   "metadata": {
    "collapsed": true
   },
   "outputs": [],
   "source": [
    "#dplyr filters rows & selects columns \n",
    "datsubAAR = dat %>% \n",
    "    filter(category==\"AAR\" & state==\"IL\") %>%\n",
    "    #arrange(desc(popdensity)) %>%\n",
    "    select(county, state, popdensity, popwhite, popblack, popamerindian, popasian, category)\n",
    "datsubAAR"
   ]
  },
  {
   "cell_type": "code",
   "execution_count": null,
   "metadata": {
    "collapsed": true
   },
   "outputs": [],
   "source": [
    "#add new columns (using current data or not)\n",
    "datsubAAR = datsubAAR %>%\n",
    "    mutate(poptotalrecal = popwhite + popblack + popamerindian + popasian,\n",
    "           fakegroups = rep(c(\"North\",\"South\",\"Central\"), times=17))\n",
    "    #transmute(poptotalrecal = popwhite + popblack + popamerindian + popasian)\n",
    "datsubAAR"
   ]
  },
  {
   "cell_type": "code",
   "execution_count": null,
   "metadata": {
    "collapsed": true
   },
   "outputs": [],
   "source": [
    "#dplyr has helper functions for ease/speed\n",
    "datsubAAR = datsubAAR %>%\n",
    "    #select(-starts_with(\"poptotal\"))\n",
    "    #select(-ends_with(\"recal\"))\n",
    "    select(-contains(\"recal\"))\n",
    "datsubAAR"
   ]
  },
  {
   "cell_type": "code",
   "execution_count": null,
   "metadata": {
    "collapsed": true
   },
   "outputs": [],
   "source": [
    "#summarise data (with or without groups)\n",
    "datsubAAR %>%\n",
    "    #group_by(fakegroups) %>%\n",
    "    summarise(mean(popwhite), min(popdensity), n())"
   ]
  },
  {
   "cell_type": "code",
   "execution_count": null,
   "metadata": {
    "collapsed": true
   },
   "outputs": [],
   "source": [
    "library(tidyr)\n",
    "\n",
    "#switch format - wide to long \n",
    "datsubAARlong <- gather(datsubAAR, populationGroup, populationNum, popwhite:popasian, factor_key=TRUE)\n",
    "datsubAARlong\n",
    "\n",
    "#?spread();#format - long to wide"
   ]
  },
  {
   "cell_type": "markdown",
   "metadata": {},
   "source": [
    "<font size=\"6\" color=\"68829E\" face=\"calibri\">\n",
    "<b> Plotting </b>\n",
    "</font>\n",
    "<br>\n",
    "<font size=\"4\" color=\"black\" face=\"calibri\">\n",
    "For visualizations ``` ggplot2 ``` is preferred over the base plotting system.<br>\n",
    "Mapping data, which can come from multiple sources, to graphic attributes ``` (x, y, color) ``` is done through aesthetics ``` (aes) ```. <br>\n",
    "Layers (geoms, stats, position, annotation), scales, facets, coordinate systems, themes can all then be added ``` (+) ```.<br>\n",
    "</font>"
   ]
  },
  {
   "cell_type": "code",
   "execution_count": null,
   "metadata": {
    "collapsed": true
   },
   "outputs": [],
   "source": [
    "plt1 = ggplot(data=dat, aes(x=area, y=poptotal, color=state)) +\n",
    "    geom_point() + ggtitle(\"plot1\") +\n",
    "    theme(\n",
    "        axis.title = element_text(face=\"bold\", size=9),\n",
    "        axis.text = element_text(size=7),\n",
    "        legend.title = element_text(face=\"bold\", size=9),\n",
    "        legend.text = element_text(size=7),\n",
    "        legend.position = \"bottom\",\n",
    "        plot.title = element_text(face=\"bold\", size=11)\n",
    "    )\n",
    "    \n",
    "plt1"
   ]
  },
  {
   "cell_type": "code",
   "execution_count": null,
   "metadata": {
    "collapsed": true
   },
   "outputs": [],
   "source": [
    "plt2 = ggplot(data=dat, aes(x=poptotal, y=popasian)) +\n",
    "    geom_point(aes(color=county)) + ggtitle(\"plot2\") +\n",
    "    facet_wrap(~state, scales=\"fixed\", nrow=2) +\n",
    "    #facet_wrap(~state, scales=\"free\", nrow=2) +\n",
    "    theme(\n",
    "        axis.title = element_text(face=\"bold\", size=9),\n",
    "        axis.text = element_text(size=7),\n",
    "        legend.title = element_text(face=\"bold\", size=9),\n",
    "        legend.text = element_text(size=7),\n",
    "        legend.position = \"none\",\n",
    "        strip.text=element_text(face=\"italic\", size=8),\n",
    "        plot.title = element_text(face=\"bold\", size=11)\n",
    "    )\n",
    "    \n",
    "plt2"
   ]
  },
  {
   "cell_type": "code",
   "execution_count": null,
   "metadata": {
    "collapsed": true
   },
   "outputs": [],
   "source": [
    "plt3 = plt2 + ggtitle(\"plot3\") +\n",
    "    facet_wrap(~state, scales=\"free\", nrow=2) +\n",
    "    stat_smooth(method = \"lm\", formula=y~x, size=1, se=T, colour=\"black\") +\n",
    "    stat_smooth(aes(group=state), method = \"loess\", formula=y~x, size=1, se=T, colour=\"red\")\n",
    "\n",
    "plt3"
   ]
  },
  {
   "cell_type": "code",
   "execution_count": null,
   "metadata": {
    "collapsed": true
   },
   "outputs": [],
   "source": [
    "#attributes(ggplot_build(plt3))\n",
    "\n",
    "typeof(plt3)\n",
    "\n",
    "head(ggplot_build(plt3)$data[[2]]);#LM fit\n",
    "head(ggplot_build(plt3)$data[[3]]);#LOESS fit"
   ]
  },
  {
   "cell_type": "code",
   "execution_count": null,
   "metadata": {
    "collapsed": true
   },
   "outputs": [],
   "source": [
    "plt4 = ggplot() + ggtitle(\"plot4\") +\n",
    "    geom_bar(data=dat, aes(x=1, y=area, fill=state), stat=\"identity\", position=\"stack\") +\n",
    "    labs(x=\"\", y=\"Cumulative Area\", fill=\"Midwest\") +\n",
    "    scale_x_discrete(breaks=\"\", labels=\"\") +\n",
    "    theme(\n",
    "        axis.title = element_text(face=\"bold\", size=9),\n",
    "        axis.text = element_text(size=7),\n",
    "        legend.title = element_text(face=\"bold\", size=9),\n",
    "        legend.text = element_text(size=7),\n",
    "        plot.title = element_text(face=\"bold\", size=11)\n",
    "    )\n",
    "\n",
    "plt4"
   ]
  },
  {
   "cell_type": "code",
   "execution_count": null,
   "metadata": {
    "collapsed": true
   },
   "outputs": [],
   "source": [
    "pdf(\"Figures.pdf\", width=40, height=20)\n",
    "print(plt1)\n",
    "print(plt2)\n",
    "print(plt3)\n",
    "print(plt4)\n",
    "dev.off()\n",
    "\n",
    "#ggsave()"
   ]
  },
  {
   "cell_type": "markdown",
   "metadata": {},
   "source": [
    "<font size=\"6\" color=\"68829E\" face=\"calibri\">\n",
    "<b> Saving </b>\n",
    "</font>\n",
    "<br>\n",
    "<font size=\"4\" color=\"black\" face=\"calibri\">\n",
    "Workspace objects can be saved for a later date (.Rda/.Rdata). <br>\n",
    "Likewise, results (data, figures, apps) can be outputted as specific files.\n",
    "</font>"
   ]
  },
  {
   "cell_type": "code",
   "execution_count": null,
   "metadata": {
    "collapsed": true
   },
   "outputs": [],
   "source": [
    "ls()"
   ]
  },
  {
   "cell_type": "code",
   "execution_count": null,
   "metadata": {
    "collapsed": true
   },
   "outputs": [],
   "source": [
    "rm(plt1,plt2,plt3,plt4)\n",
    "ls()"
   ]
  },
  {
   "cell_type": "code",
   "execution_count": null,
   "metadata": {
    "collapsed": true
   },
   "outputs": [],
   "source": [
    "save.image(\"05_29_2019.RData\")\n",
    "#save(list=c(\"datOH\",\"datminusOH\"), file=\"05_29_2019.RData\")\n",
    "\n",
    "#load(\"05_29_2019.RData\")\n",
    "\n",
    "#library(session);\n",
    "#save.session(\"RSession.Rda\");\n",
    "#restore.session(\"RSession.Rda\");"
   ]
  },
  {
   "cell_type": "code",
   "execution_count": null,
   "metadata": {
    "collapsed": true
   },
   "outputs": [],
   "source": [
    "write.table(dat, file=\"ExampleGGData.csv\", sep=\",\")\n",
    "list.files(path=\".\", pattern=\".csv\")\n",
    "\n",
    "#rm(list=ls());cat(\"\\014\")"
   ]
  },
  {
   "cell_type": "markdown",
   "metadata": {},
   "source": [
    "<font size=\"6\" color=\"68829E\" face=\"calibri\">\n",
    "<b> Loading </b>\n",
    "</font>\n",
    "<br>\n",
    "<font size=\"4\" color=\"black\" face=\"calibri\">\n",
    "Reading data from files (.csv, .txt, .xlsx) can be tricky in R (multiple options/arugments). <br>\n",
    "Examples: delimiter/separator (/tab, /common), header, XXX. <br> <br>\n",
    "</font>\n",
    "<font size=\"3\" color=\"#000000\" face=\"calibri\">\n",
    "#Tip 6. try package 'openxlsx' for Excel.\n",
    "</font>"
   ]
  },
  {
   "cell_type": "code",
   "execution_count": null,
   "metadata": {
    "collapsed": true
   },
   "outputs": [],
   "source": [
    "df = read.table(file=\"ExampleGGData.csv\", sep=\",\")\n",
    "head(df)\n",
    "\n",
    "#read.csv()\n",
    "#read.delim()"
   ]
  },
  {
   "cell_type": "code",
   "execution_count": null,
   "metadata": {},
   "outputs": [],
   "source": [
    "#https://github.com/fivethirtyeight/data\n",
    "\n",
    "dfOnline = read.table(file=\"https://raw.githubusercontent.com/fivethirtyeight/data/master/bachelorette/bachelorette.csv\", sep=\",\", header=TRUE)\n",
    "head(dfOnline)"
   ]
  },
  {
   "cell_type": "code",
   "execution_count": null,
   "metadata": {
    "collapsed": true
   },
   "outputs": [],
   "source": [
    "#quit()"
   ]
  },
  {
   "cell_type": "markdown",
   "metadata": {},
   "source": [
    "<font size=\"6\" color=\"68829E\" face=\"calibri\">\n",
    "<b> Command Line </b>\n",
    "</font>\n",
    "<br>\n",
    "<font size=\"4\" color=\"black\" face=\"calibri\">\n",
    "XXX. <br>\n",
    "XXX.\n",
    "</font>"
   ]
  },
  {
   "cell_type": "markdown",
   "metadata": {},
   "source": [
    "``` $ R --slave --no-restore --file=print-args.R --args ```"
   ]
  },
  {
   "cell_type": "markdown",
   "metadata": {},
   "source": [
    "<font size=\"4\" color=\"black\" face=\"calibri\">\n",
    "<b><i>References</i></b> <br>\n",
    "</font>\n",
    "<font size=\"4\" color=\"black\" face=\"calibri\">\n",
    "Software Carpentry: Our Lessons (<a href=\"https://software-carpentry.org/lessons/\">https://software-carpentry.org/lessons</a>) <br>\n",
    "R Packages: Organize, test, document and share your code (<a href=\"https://r-pkgs.org/\">https://r-pkgs.org</a>) <br>\n",
    "Tidyverse: R packages for data science (<a href=\"https://www.tidyverse.org/\">https://www.tidyverse.org</a>) <br>\n",
    "</font>"
   ]
  },
  {
   "cell_type": "markdown",
   "metadata": {},
   "source": [
    "<font size=\"2\" color=\"black\" face=\"calibri\"> <b>\n",
    "Introduction: R and Jupyter <br>\n",
    "</b> </font>"
   ]
  }
 ],
 "metadata": {
  "kernelspec": {
   "display_name": "R (dada2_v12)",
   "language": "R",
   "name": "dada2_v12"
  },
  "language_info": {
   "codemirror_mode": "r",
   "file_extension": ".r",
   "mimetype": "text/x-r-source",
   "name": "R",
   "pygments_lexer": "r",
   "version": "3.5.1"
  }
 },
 "nbformat": 4,
 "nbformat_minor": 2
}

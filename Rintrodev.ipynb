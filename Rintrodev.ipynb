{
 "cells": [
  {
   "cell_type": "markdown",
   "metadata": {},
   "source": [
    "<font size=\"6\" color=\"68829E\" face=\"calibri\"> <b> Introduction: R and Jupyter </b> </font>"
   ]
  },
  {
   "cell_type": "markdown",
   "metadata": {},
   "source": [
    "<font size=\"4\" color=\"#000000\" face=\"calibri\">\n",
    "Welcome to R, on HCC, through Jupyter. <br> <br>\n",
    "<i>\"R is a free software environment for statistical computing and graphics\" </i><br>\n",
    "<a href=\"https://www.r-project.org/\"> www.r-project.org </a> <br> <br>\n",
    "Here, we'll be touching upon some of the fundamentals of programming in the R language. Topics to be covered include: functions, data types, manipulation, packages, saving and loading. XXX  <br>\n",
    "First though lets briefly talk Jupyter ... <br> <br>\n",
    "<i>\"The Jupyter Notebook is an open-source web application that allows you to create and share documents that contain live code, equations, visualizations and narrative text\" </i><br>\n",
    "<a href=\"https://jupyter.org/\"> www.jupyter.org </a>\n",
    "</font>"
   ]
  },
  {
   "cell_type": "markdown",
   "metadata": {},
   "source": [
    "<font size=\"6\" color=\"68829E\" face=\"calibri\">\n",
    "<b> Jupyter Notebook </b>\n",
    "</font>\n",
    "<br>\n",
    "<font size=\"4\" color=\"black\" face=\"calibri\">\n",
    "Segregated into a kernel (execute code) and dashboard & editor (interface), Jupyter permits mixing real-time coding with interactive rich-text ouputs in self-contained ```.ipynb(JSON)``` documents (local or remote). <br>\n",
    "Kernels include Julia, Python, R, MATLAB/Octave, etc. <br>\n",
    "Interact with input cells (code, markdown, etc) that exhibit an order and mode - insert, edit, run. <br>\n",
    "</font>"
   ]
  },
  {
   "cell_type": "markdown",
   "metadata": {},
   "source": [
    "``` $ jupyter notebook ```"
   ]
  },
  {
   "cell_type": "markdown",
   "metadata": {},
   "source": [
    "<font size=\"6\" color=\"68829E\" face=\"calibri\">\n",
    "<b> R </b>\n",
    "</font>\n",
    "<br>\n",
    "<font size=\"4\" color=\"black\" face=\"calibri\">\n",
    "Starting R loads an interpreter and creates a workspace/environment to store values and perform commands. <br>\n",
    "Interact with terminal directly or indirectly through scripts. <br> <br>\n",
    "</font>\n",
    "<font size=\"3\" color=\"#000000\" face=\"calibri\">\n",
    "#Tip 1. a popular GUI alternative is R Studio.\n",
    "</font>"
   ]
  },
  {
   "cell_type": "code",
   "execution_count": null,
   "metadata": {
    "collapsed": true
   },
   "outputs": [],
   "source": [
    "#R - load & open (HCC terminal)\n",
    "#module load R.3.4\n",
    "#R"
   ]
  },
  {
   "cell_type": "code",
   "execution_count": null,
   "metadata": {
    "scrolled": false
   },
   "outputs": [],
   "source": [
    "#print info about R\n",
    "sessionInfo()"
   ]
  },
  {
   "cell_type": "code",
   "execution_count": null,
   "metadata": {},
   "outputs": [],
   "source": [
    "#get (/set) current/working directory\n",
    "getwd()\n",
    "#setwd('/home/XXX')"
   ]
  },
  {
   "cell_type": "code",
   "execution_count": null,
   "metadata": {},
   "outputs": [],
   "source": [
    "list.files()"
   ]
  },
  {
   "cell_type": "markdown",
   "metadata": {},
   "source": [
    "<font size=\"6\" color=\"68829E\" face=\"calibri\">\n",
    "<b> Calculations </b>\n",
    "</font>\n",
    "<br>\n",
    "<font size=\"4\" color=\"black\" face=\"calibri\">\n",
    "Mathematical calculations - elements & arrays (/vectors). <br>\n",
    "Example operators: ``` + , - , * , / , ^ ```.\n",
    "</font>"
   ]
  },
  {
   "cell_type": "code",
   "execution_count": null,
   "metadata": {
    "scrolled": true
   },
   "outputs": [],
   "source": [
    "(20+20)/5"
   ]
  },
  {
   "cell_type": "code",
   "execution_count": null,
   "metadata": {},
   "outputs": [],
   "source": [
    "c(1,2,3,4) * c(1,2,3,4)"
   ]
  },
  {
   "cell_type": "code",
   "execution_count": null,
   "metadata": {},
   "outputs": [],
   "source": [
    "sqrt(81); #built-in code (base functions)"
   ]
  },
  {
   "cell_type": "markdown",
   "metadata": {},
   "source": [
    "<font size=\"6\" color=\"68829E\" face=\"calibri\">\n",
    "<b> Functions </b>\n",
    "</font>\n",
    "<br>\n",
    "<font size=\"4\" color=\"black\" face=\"calibri\">\n",
    "Perform procedures - Input to Output with options/arguments (<i>round brackets</i>). <br>\n",
    "Combining elements ``` c() ``` is one of the simplest base functions. <br>\n",
    "With no defined arguments, functions will resort to default values found in documentation (? / help).\n",
    "</font>\n",
    "<br> <br>\n",
    "<font size=\"3\" color=\"#000000\" face=\"calibri\">\n",
    "#Tip 2. source(\"Rcode.R\").\n",
    "</font>"
   ]
  },
  {
   "cell_type": "code",
   "execution_count": null,
   "metadata": {},
   "outputs": [],
   "source": [
    "#nested example (runif = generate random number) \n",
    "sort( runif(10, min=0, max=1) , decreasing=FALSE, index.return=FALSE)"
   ]
  },
  {
   "cell_type": "code",
   "execution_count": null,
   "metadata": {
    "collapsed": true
   },
   "outputs": [],
   "source": [
    "#check documentation (usage, arguments, details, examples, etc)\n",
    "?sort"
   ]
  },
  {
   "cell_type": "code",
   "execution_count": null,
   "metadata": {},
   "outputs": [],
   "source": [
    "calculate_SE <- function(x){\n",
    "    #define function to calculate standard error ({body - local env})\n",
    "    sqrt(var(x) / length(x))\n",
    "}\n",
    "\n",
    "calculate_SE( c(10.4, 5.6, 3.1, 6.4, 21.7) ); #run function"
   ]
  },
  {
   "cell_type": "markdown",
   "metadata": {},
   "source": [
    "<font size=\"6\" color=\"68829E\" face=\"calibri\">\n",
    "<b> Assignment </b>\n",
    "</font>\n",
    "<br>\n",
    "<font size=\"4\" color=\"black\" face=\"calibri\">\n",
    "Commands ``` <- ``` OR ``` = ``` assigns and stores outputs/results as well as functions to memory. <br> <br>\n",
    "R operates on named data structures, that is, sets of ordered entities.<br>\n",
    "Example vectors: numeric (double, integer, complex), logical, character.\n",
    "</font>"
   ]
  },
  {
   "cell_type": "code",
   "execution_count": null,
   "metadata": {},
   "outputs": [],
   "source": [
    "x <- c(10.4, 5.6, 3.1, 6.4, 21.7); \n",
    "#x = c(10.4, 5.6, 3.1, 6.4, 21.7);\n",
    "\n",
    "typeof(x)\n",
    "x"
   ]
  },
  {
   "cell_type": "code",
   "execution_count": null,
   "metadata": {},
   "outputs": [],
   "source": [
    "y <- c(\"test\", \"control\", \"control\", \"control\", \"test\");\n",
    "#y = c(\"test\", \"control\", \"control\", \"control\", \"test\");\n",
    "\n",
    "typeof(y)\n",
    "y"
   ]
  },
  {
   "cell_type": "markdown",
   "metadata": {},
   "source": [
    "<font size=\"6\" color=\"68829E\" face=\"calibri\">\n",
    "<b> Objects </b>\n",
    "</font>\n",
    "<br>\n",
    "<font size=\"4\" color=\"black\" face=\"calibri\">\n",
    "While vectors are the most important type of object/structure/variable in R, others exist each with intrinsic attributes (mode and length). Conversion between types is relatively intuitive with ``` as. ``` functions - as.character, as.numeric, etc. <br> <br>\n",
    "Examples: matrices, lists, dataframes.\n",
    "</font>"
   ]
  },
  {
   "cell_type": "code",
   "execution_count": null,
   "metadata": {
    "scrolled": false
   },
   "outputs": [],
   "source": [
    "set.seed(1); #define starting point to get (reproducibility)\n",
    "\n",
    "#visualize toy matrix\n",
    "X = matrix( runif(20, min=0, max=10) , nrow=4, ncol=5, byrow=FALSE);\n",
    "\n",
    "dim(X)\n",
    "X"
   ]
  },
  {
   "cell_type": "markdown",
   "metadata": {},
   "source": [
    "<font size=\"6\" color=\"68829E\" face=\"calibri\">\n",
    "<b> Indexing </b>\n",
    "</font>\n",
    "<br>\n",
    "<font size=\"4\" color=\"black\" face=\"calibri\">\n",
    "Access parts of a dataset - rows then columns (<i>square brackets</i>) - can be coded multiple ways. <br>\n",
    "Shortcut ``` : ``` generates a regular sequence from start to end (by 1).\n",
    "</font>"
   ]
  },
  {
   "cell_type": "code",
   "execution_count": null,
   "metadata": {
    "scrolled": true
   },
   "outputs": [],
   "source": [
    "X[2, 4]"
   ]
  },
  {
   "cell_type": "code",
   "execution_count": null,
   "metadata": {},
   "outputs": [],
   "source": [
    "t(X)[2, 4]; #transpose (rows to columns, columns to rows)"
   ]
  },
  {
   "cell_type": "code",
   "execution_count": null,
   "metadata": {},
   "outputs": [],
   "source": [
    "X[c(2,4), 4] = c(0,10); #replace elements\n",
    "X"
   ]
  },
  {
   "cell_type": "code",
   "execution_count": null,
   "metadata": {},
   "outputs": [],
   "source": [
    "X[1:3, 2:3]"
   ]
  },
  {
   "cell_type": "code",
   "execution_count": null,
   "metadata": {},
   "outputs": [],
   "source": [
    "cbind(X[1:3, 2], X[1:3, 3]); #concatenate columns"
   ]
  },
  {
   "cell_type": "code",
   "execution_count": null,
   "metadata": {},
   "outputs": [],
   "source": [
    "rbind(X[1, 2:3], X[2, 2:3], X[3, 2:3]); #concatenate rows"
   ]
  },
  {
   "cell_type": "markdown",
   "metadata": {},
   "source": [
    "<font size=\"6\" color=\"68829E\" face=\"calibri\">\n",
    "<b> Conditions </b>\n",
    "</font>\n",
    "<br>\n",
    "<font size=\"4\" color=\"black\" face=\"calibri\">\n",
    "Checks that control the flow of actions/execution (if & else). <br>\n",
    "Comparsion: lesser than ( ``` < ``` ), greater than ( ``` > ``` ), equal ( ``` == ``` ), different ( ``` != ``` ). <br>\n",
    "Logical: AND ( ``` & ``` ) if both <i>true</i>, OR ( ``` | ``` ) if either <i>true</i>, NOT ( ``` ! ``` ) converts <i>true</i> to <i>false</i>.\n",
    "</font>"
   ]
  },
  {
   "cell_type": "code",
   "execution_count": null,
   "metadata": {},
   "outputs": [],
   "source": [
    "X[X > 5]; #output - independent of dimensions (byrow=FALSE)\n",
    "X"
   ]
  },
  {
   "cell_type": "code",
   "execution_count": null,
   "metadata": {},
   "outputs": [],
   "source": [
    "X[X >= 6 & X <= 7]; #across whole matrix\n",
    "X[1, X[1, ] >= 6 & X[1, ] <= 7]; #only first row"
   ]
  },
  {
   "cell_type": "code",
   "execution_count": null,
   "metadata": {},
   "outputs": [],
   "source": [
    "if (dim(X)[1] != 4) {\n",
    "    print(\"check - dimensions don't match\"); #first check cond.1, TRUE do something\n",
    "} else if (dim(X)[2] != 5) {\n",
    "    print(\"check - dimensions don't match\"); #FALSE then try cond.2, TRUE now do something different\n",
    "} else {\n",
    "    print(\"good - dimensions match\"); #FALSE again, do something else\n",
    "}"
   ]
  },
  {
   "cell_type": "code",
   "execution_count": null,
   "metadata": {
    "collapsed": true
   },
   "outputs": [],
   "source": [
    "#CHECK-IN POINT\n",
    "#EXERCISE - create numeric array from 10 to 100 in increments of 0.5 (?seq) \n",
    "\n",
    "#EXERCISE - XXX\n",
    "\n",
    "#EXERCISE - XXX"
   ]
  },
  {
   "cell_type": "markdown",
   "metadata": {},
   "source": [
    "<font size=\"6\" color=\"68829E\" face=\"calibri\">\n",
    "<b> Iterations </b>\n",
    "</font>\n",
    "<br>\n",
    "<font size=\"4\" color=\"black\" face=\"calibri\">\n",
    "Scalar loops, element by element, can be used to repeat procedures (for & while). <br>\n",
    "Vectorization, all elements at once, however is faster and scalable - apply (array), lapply (list), sapply (vector). This is because XXX. <br> <br>\n",
    "</font>\n",
    "<font size=\"3\" color=\"#000000\" face=\"calibri\">\n",
    "#Tip 3. check system.time().\n",
    "</font>"
   ]
  },
  {
   "cell_type": "code",
   "execution_count": null,
   "metadata": {},
   "outputs": [],
   "source": [
    "#initiate variable of NA (missing values) to fill during loop (efficiency)\n",
    "colMean = rep(NA, times=dim(X)[2]);\n",
    "\n",
    "for (i in 1:dim(X)[2]){\n",
    "    #variable i in sequence start:end\n",
    "    print(i)\n",
    "    colMean[i] = mean(X[,i])\n",
    "    #break;#next\n",
    "}\n",
    "\n",
    "colMean"
   ]
  },
  {
   "cell_type": "code",
   "execution_count": null,
   "metadata": {},
   "outputs": [],
   "source": [
    "colMean = apply(X, 2, mean)\n",
    "colMean\n",
    "\n",
    "#colMeans(X)"
   ]
  },
  {
   "cell_type": "code",
   "execution_count": null,
   "metadata": {},
   "outputs": [],
   "source": [
    "rowSE = apply(X, 1, calculate_SE)\n",
    "rowSE"
   ]
  },
  {
   "cell_type": "markdown",
   "metadata": {},
   "source": [
    "<font size=\"6\" color=\"68829E\" face=\"calibri\">\n",
    "<b> Packages </b>\n",
    "</font>\n",
    "<br>\n",
    "<font size=\"4\" color=\"black\" face=\"calibri\">\n",
    "Codes/functions developed by the community are organised and shared online in resposities - these can be retrieved/downloaded (source (compile) vs bundled (compressed) vs binary (pre-built)), structured into directories (libraries) and loaded into memory to use. Packages will often require other packages - dependencies. <br> <br>\n",
    "Repositories: CRAN (official network), Bioconductor (bioinformatic specific), GitHub. <br>\n",
    "Packages: Tidyverse, Shiny, dada2, phyloseq, MetaboAnalystR, lme4. <br> <br>\n",
    "</font>\n",
    "<font size=\"3\" color=\"#000000\" face=\"calibri\">\n",
    "#Tip 4. detail active libraries with .libPaths().\n",
    "</font>"
   ]
  },
  {
   "cell_type": "code",
   "execution_count": null,
   "metadata": {},
   "outputs": [],
   "source": [
    "#lapply(.libPaths(), dir)\n",
    "lapply(.libPaths(), list.files)"
   ]
  },
  {
   "cell_type": "code",
   "execution_count": null,
   "metadata": {
    "collapsed": true
   },
   "outputs": [],
   "source": [
    "#install.packages('ggplot2')\n",
    "library(ggplot2)\n",
    "\n",
    "#source(\"https://bioconductor.org/biocLite.R\");biocLite()\n",
    "#install.packages('devtools');devtools::install_github()"
   ]
  },
  {
   "cell_type": "code",
   "execution_count": null,
   "metadata": {
    "collapsed": true
   },
   "outputs": [],
   "source": [
    "#packages can contain data also \n",
    "data(package = \"ggplot2\")"
   ]
  },
  {
   "cell_type": "code",
   "execution_count": null,
   "metadata": {},
   "outputs": [],
   "source": [
    "#data(\"mpg\", package = \"ggplot2\")\n",
    "data(\"midwest\", package = \"ggplot2\"); #call dataset (midwest demographics) into memory/env\n",
    "\n",
    "class(midwest)\n",
    "\n",
    "#detach(\"package:ggplot2\")"
   ]
  },
  {
   "cell_type": "markdown",
   "metadata": {},
   "source": [
    "<font size=\"6\" color=\"68829E\" face=\"calibri\">\n",
    "<b> Dataframes </b>\n",
    "</font>\n",
    "<br>\n",
    "<font size=\"4\" color=\"black\" face=\"calibri\">\n",
    "A special list of vectors of equal length that suggests an implicit relationship between elements. <br>\n",
    "Without such restrictions, variable type would default to a basic list. <br> <br>\n",
    "</font>\n",
    "<font size=\"3\" color=\"#000000\" face=\"calibri\">\n",
    "#Tip 5. tibbles are modern dataframes with subtleties (printing & subsetting).\n",
    "</font>"
   ]
  },
  {
   "cell_type": "code",
   "execution_count": null,
   "metadata": {},
   "outputs": [],
   "source": [
    "dim(midwest)\n",
    "head(midwest)"
   ]
  },
  {
   "cell_type": "markdown",
   "metadata": {},
   "source": [
    "<font size=\"6\" color=\"68829E\" face=\"calibri\">\n",
    "<b> Manipulation </b>\n",
    "</font>\n",
    "<br>\n",
    "<font size=\"4\" color=\"black\" face=\"calibri\">\n",
    "Packages ```dplyr``` and ```tidyr``` are popular methods to wield (select, exclude, add) dataframes - rows/columns. <br>\n",
    "Base functions exist also and again can be coded multiple ways.\n",
    "</font>"
   ]
  },
  {
   "cell_type": "code",
   "execution_count": null,
   "metadata": {},
   "outputs": [],
   "source": [
    "print(colnames(midwest))\n",
    "#rownames(midwest)"
   ]
  },
  {
   "cell_type": "code",
   "execution_count": null,
   "metadata": {},
   "outputs": [],
   "source": [
    "#get unique 'states'\n",
    "unique(midwest$state)\n",
    "unique(midwest[,\"state\"])\n",
    "unique(midwest[,3])"
   ]
  },
  {
   "cell_type": "code",
   "execution_count": null,
   "metadata": {},
   "outputs": [],
   "source": [
    "#base method (logical TRUE/FALSE)\n",
    "datOH = midwest[midwest$state==\"OH\",];head(datOH)\n",
    "#datOHc = midwest[midwest$state==\"OH\", 2];head(datOHc)"
   ]
  },
  {
   "cell_type": "code",
   "execution_count": null,
   "metadata": {},
   "outputs": [],
   "source": [
    "#base method (indexed INTEGER)\n",
    "indexOH = which(midwest$state==\"OH\");indexOH[1:10]\n",
    "#datOH = midwest[indexOH,];head(datOH)"
   ]
  },
  {
   "cell_type": "code",
   "execution_count": null,
   "metadata": {
    "collapsed": true
   },
   "outputs": [],
   "source": [
    "datminusOH = midwest[-indexOH,]; #exclude (-)"
   ]
  },
  {
   "cell_type": "code",
   "execution_count": null,
   "metadata": {},
   "outputs": [],
   "source": [
    "#install.packages('dplyr')\n",
    "library(dplyr)"
   ]
  },
  {
   "cell_type": "code",
   "execution_count": null,
   "metadata": {},
   "outputs": [],
   "source": [
    "#dplyr uses '%>%' as a pipe - pass left side as first argument of right side\n",
    "unique(midwest$state)\n",
    "distinct(midwest, state)\n",
    "midwest %>% distinct(state)"
   ]
  },
  {
   "cell_type": "code",
   "execution_count": null,
   "metadata": {},
   "outputs": [],
   "source": [
    "#dplyr filters rows & selects columns (%in% = belong to/member of | INVERSE with !%in%)\n",
    "datsubAAR = midwest %>%\n",
    "    #filter(category==\"AAR\") %>%\n",
    "    filter(category %in% \"AAR\" & state %in% \"IL\") %>% #multiple cond.\n",
    "    #arrange(desc(popdensity)) %>%\n",
    "    select(county, state, popdensity, popwhite, popblack, popamerindian, popasian, category)\n",
    "\n",
    "datsubAAR"
   ]
  },
  {
   "cell_type": "code",
   "execution_count": null,
   "metadata": {},
   "outputs": [],
   "source": [
    "#add new columns (using current data or not)\n",
    "datsubAAR = datsubAAR %>%\n",
    "    mutate(poptotalrecal = popwhite + popblack + popamerindian + popasian,\n",
    "           fakegroups = rep(c(\"North\",\"South\",\"Central\"), times=17))\n",
    "    #transmute(poptotalrecal = popwhite + popblack + popamerindian + popasian)\n",
    "\n",
    "datsubAAR"
   ]
  },
  {
   "cell_type": "code",
   "execution_count": null,
   "metadata": {},
   "outputs": [],
   "source": [
    "#dplyr has helper functions for ease/speed\n",
    "datsubAAR = datsubAAR %>%\n",
    "    #select(-starts_with(\"poptotal\"))\n",
    "    #select(-ends_with(\"recal\"))\n",
    "    select(-contains(\"recal\"))\n",
    "\n",
    "datsubAAR"
   ]
  },
  {
   "cell_type": "code",
   "execution_count": null,
   "metadata": {},
   "outputs": [],
   "source": [
    "#summarise data (statistics - with or without groups)\n",
    "datsubAAR %>%\n",
    "    #group_by(fakegroups) %>%\n",
    "    summarise(mean(popwhite), min(popdensity), n())"
   ]
  },
  {
   "cell_type": "code",
   "execution_count": null,
   "metadata": {
    "collapsed": true
   },
   "outputs": [],
   "source": [
    "library(tidyr)"
   ]
  },
  {
   "cell_type": "markdown",
   "metadata": {},
   "source": [
    "![](http://journals.plos.org/plosone/article/figure/image?size=medium&id=info:doi/10.1371/journal.pone.0061217.g003)"
   ]
  },
  {
   "cell_type": "code",
   "execution_count": 113,
   "metadata": {},
   "outputs": [
    {
     "data": {
      "text/html": [
       "<table>\n",
       "<caption>A tibble: 204 × 7</caption>\n",
       "<thead>\n",
       "\t<tr><th scope=col>county</th><th scope=col>state</th><th scope=col>popdensity</th><th scope=col>category</th><th scope=col>fakegroups</th><th scope=col>populationGroup</th><th scope=col>populationNum</th></tr>\n",
       "\t<tr><th scope=col>&lt;chr&gt;</th><th scope=col>&lt;chr&gt;</th><th scope=col>&lt;dbl&gt;</th><th scope=col>&lt;chr&gt;</th><th scope=col>&lt;chr&gt;</th><th scope=col>&lt;fct&gt;</th><th scope=col>&lt;int&gt;</th></tr>\n",
       "</thead>\n",
       "<tbody>\n",
       "\t<tr><td>ADAMS     </td><td>IL</td><td>1270.9615</td><td>AAR</td><td>North  </td><td>popwhite</td><td> 63917</td></tr>\n",
       "\t<tr><td>BOND      </td><td>IL</td><td> 681.4091</td><td>AAR</td><td>South  </td><td>popwhite</td><td> 14477</td></tr>\n",
       "\t<tr><td>BROWN     </td><td>IL</td><td> 324.2222</td><td>AAR</td><td>Central</td><td>popwhite</td><td>  5264</td></tr>\n",
       "\t<tr><td>BUREAU    </td><td>IL</td><td> 713.7600</td><td>AAR</td><td>North  </td><td>popwhite</td><td> 35157</td></tr>\n",
       "\t<tr><td>CARROLL   </td><td>IL</td><td> 622.4074</td><td>AAR</td><td>South  </td><td>popwhite</td><td> 16519</td></tr>\n",
       "\t<tr><td>CASS      </td><td>IL</td><td> 559.8750</td><td>AAR</td><td>Central</td><td>popwhite</td><td> 13384</td></tr>\n",
       "\t<tr><td>CHRISTIAN </td><td>IL</td><td> 819.4762</td><td>AAR</td><td>North  </td><td>popwhite</td><td> 34176</td></tr>\n",
       "\t<tr><td>CLARK     </td><td>IL</td><td> 530.7000</td><td>AAR</td><td>South  </td><td>popwhite</td><td> 15842</td></tr>\n",
       "\t<tr><td>COLES     </td><td>IL</td><td>1721.4667</td><td>AAR</td><td>Central</td><td>popwhite</td><td> 50177</td></tr>\n",
       "\t<tr><td>CRAWFORD  </td><td>IL</td><td> 748.6154</td><td>AAR</td><td>North  </td><td>popwhite</td><td> 19300</td></tr>\n",
       "\t<tr><td>CUMBERLAND</td><td>IL</td><td> 533.5000</td><td>AAR</td><td>South  </td><td>popwhite</td><td> 10627</td></tr>\n",
       "\t<tr><td>DE WITT   </td><td>IL</td><td> 718.0870</td><td>AAR</td><td>Central</td><td>popwhite</td><td> 16387</td></tr>\n",
       "\t<tr><td>DOUGLAS   </td><td>IL</td><td> 778.5600</td><td>AAR</td><td>North  </td><td>popwhite</td><td> 19280</td></tr>\n",
       "\t<tr><td>EDGAR     </td><td>IL</td><td> 544.3056</td><td>AAR</td><td>South  </td><td>popwhite</td><td> 19469</td></tr>\n",
       "\t<tr><td>EDWARDS   </td><td>IL</td><td> 531.4286</td><td>AAR</td><td>Central</td><td>popwhite</td><td>  7401</td></tr>\n",
       "\t<tr><td>EFFINGHAM </td><td>IL</td><td>1132.2857</td><td>AAR</td><td>North  </td><td>popwhite</td><td> 31523</td></tr>\n",
       "\t<tr><td>FAYETTE   </td><td>IL</td><td> 474.8409</td><td>AAR</td><td>South  </td><td>popwhite</td><td> 20148</td></tr>\n",
       "\t<tr><td>FORD      </td><td>IL</td><td> 475.8333</td><td>AAR</td><td>Central</td><td>popwhite</td><td> 14157</td></tr>\n",
       "\t<tr><td>FULTON    </td><td>IL</td><td> 732.3077</td><td>AAR</td><td>North  </td><td>popwhite</td><td> 37117</td></tr>\n",
       "\t<tr><td>GREENE    </td><td>IL</td><td> 464.1515</td><td>AAR</td><td>South  </td><td>popwhite</td><td> 15231</td></tr>\n",
       "\t<tr><td>HANCOCK   </td><td>IL</td><td> 454.7447</td><td>AAR</td><td>Central</td><td>popwhite</td><td> 21272</td></tr>\n",
       "\t<tr><td>HENDERSON </td><td>IL</td><td> 352.0000</td><td>AAR</td><td>North  </td><td>popwhite</td><td>  8037</td></tr>\n",
       "\t<tr><td>IROQUOIS  </td><td>IL</td><td> 459.5075</td><td>AAR</td><td>South  </td><td>popwhite</td><td> 30154</td></tr>\n",
       "\t<tr><td>JASPER    </td><td>IL</td><td> 365.8276</td><td>AAR</td><td>Central</td><td>popwhite</td><td> 10574</td></tr>\n",
       "\t<tr><td>JEFFERSON </td><td>IL</td><td>1121.8182</td><td>AAR</td><td>North  </td><td>popwhite</td><td> 34856</td></tr>\n",
       "\t<tr><td>JO DAVIESS</td><td>IL</td><td> 623.4571</td><td>AAR</td><td>South  </td><td>popwhite</td><td> 21732</td></tr>\n",
       "\t<tr><td>KNOX      </td><td>IL</td><td>1342.6905</td><td>AAR</td><td>Central</td><td>popwhite</td><td> 52413</td></tr>\n",
       "\t<tr><td>LA SALLE  </td><td>IL</td><td>1572.2500</td><td>AAR</td><td>North  </td><td>popwhite</td><td>103805</td></tr>\n",
       "\t<tr><td>LEE       </td><td>IL</td><td> 799.8140</td><td>AAR</td><td>South  </td><td>popwhite</td><td> 32530</td></tr>\n",
       "\t<tr><td>LIVINGSTON</td><td>IL</td><td> 633.8871</td><td>AAR</td><td>Central</td><td>popwhite</td><td> 36551</td></tr>\n",
       "\t<tr><td>⋮</td><td>⋮</td><td>⋮</td><td>⋮</td><td>⋮</td><td>⋮</td><td>⋮</td></tr>\n",
       "\t<tr><td>HENDERSON </td><td>IL</td><td> 352.0000</td><td>AAR</td><td>North  </td><td>popasian</td><td> 10</td></tr>\n",
       "\t<tr><td>IROQUOIS  </td><td>IL</td><td> 459.5075</td><td>AAR</td><td>South  </td><td>popasian</td><td> 69</td></tr>\n",
       "\t<tr><td>JASPER    </td><td>IL</td><td> 365.8276</td><td>AAR</td><td>Central</td><td>popasian</td><td> 17</td></tr>\n",
       "\t<tr><td>JEFFERSON </td><td>IL</td><td>1121.8182</td><td>AAR</td><td>North  </td><td>popasian</td><td>129</td></tr>\n",
       "\t<tr><td>JO DAVIESS</td><td>IL</td><td> 623.4571</td><td>AAR</td><td>South  </td><td>popasian</td><td> 29</td></tr>\n",
       "\t<tr><td>KNOX      </td><td>IL</td><td>1342.6905</td><td>AAR</td><td>Central</td><td>popasian</td><td>320</td></tr>\n",
       "\t<tr><td>LA SALLE  </td><td>IL</td><td>1572.2500</td><td>AAR</td><td>North  </td><td>popasian</td><td>523</td></tr>\n",
       "\t<tr><td>LEE       </td><td>IL</td><td> 799.8140</td><td>AAR</td><td>South  </td><td>popasian</td><td>181</td></tr>\n",
       "\t<tr><td>LIVINGSTON</td><td>IL</td><td> 633.8871</td><td>AAR</td><td>Central</td><td>popasian</td><td>131</td></tr>\n",
       "\t<tr><td>LOGAN     </td><td>IL</td><td> 855.5000</td><td>AAR</td><td>North  </td><td>popasian</td><td>143</td></tr>\n",
       "\t<tr><td>MACOUPIN  </td><td>IL</td><td> 953.5800</td><td>AAR</td><td>South  </td><td>popasian</td><td> 88</td></tr>\n",
       "\t<tr><td>MARION    </td><td>IL</td><td>1187.4571</td><td>AAR</td><td>Central</td><td>popasian</td><td>232</td></tr>\n",
       "\t<tr><td>MARSHALL  </td><td>IL</td><td> 558.5217</td><td>AAR</td><td>North  </td><td>popasian</td><td> 28</td></tr>\n",
       "\t<tr><td>MASON     </td><td>IL</td><td> 493.0000</td><td>AAR</td><td>South  </td><td>popasian</td><td> 38</td></tr>\n",
       "\t<tr><td>MERCER    </td><td>IL</td><td> 523.9394</td><td>AAR</td><td>Central</td><td>popasian</td><td> 35</td></tr>\n",
       "\t<tr><td>MONTGOMERY</td><td>IL</td><td> 749.4634</td><td>AAR</td><td>North  </td><td>popasian</td><td> 66</td></tr>\n",
       "\t<tr><td>MORGAN    </td><td>IL</td><td>1102.9394</td><td>AAR</td><td>South  </td><td>popasian</td><td>130</td></tr>\n",
       "\t<tr><td>MOULTRIE  </td><td>IL</td><td> 663.3333</td><td>AAR</td><td>Central</td><td>popasian</td><td> 13</td></tr>\n",
       "\t<tr><td>PUTNAM    </td><td>IL</td><td> 573.0000</td><td>AAR</td><td>North  </td><td>popasian</td><td>  7</td></tr>\n",
       "\t<tr><td>RICHLAND  </td><td>IL</td><td> 752.0455</td><td>AAR</td><td>South  </td><td>popasian</td><td> 43</td></tr>\n",
       "\t<tr><td>SCHUYLER  </td><td>IL</td><td> 288.3846</td><td>AAR</td><td>Central</td><td>popasian</td><td>  6</td></tr>\n",
       "\t<tr><td>SCOTT     </td><td>IL</td><td> 376.2667</td><td>AAR</td><td>North  </td><td>popasian</td><td>  3</td></tr>\n",
       "\t<tr><td>SHELBY    </td><td>IL</td><td> 505.9318</td><td>AAR</td><td>South  </td><td>popasian</td><td> 27</td></tr>\n",
       "\t<tr><td>STARK     </td><td>IL</td><td> 384.3529</td><td>AAR</td><td>Central</td><td>popasian</td><td> 21</td></tr>\n",
       "\t<tr><td>STEPHENSON</td><td>IL</td><td>1456.1212</td><td>AAR</td><td>North  </td><td>popasian</td><td>304</td></tr>\n",
       "\t<tr><td>VERMILION </td><td>IL</td><td>1697.2500</td><td>AAR</td><td>South  </td><td>popasian</td><td>507</td></tr>\n",
       "\t<tr><td>WABASH    </td><td>IL</td><td>1092.5833</td><td>AAR</td><td>Central</td><td>popasian</td><td> 80</td></tr>\n",
       "\t<tr><td>WARREN    </td><td>IL</td><td> 581.2424</td><td>AAR</td><td>North  </td><td>popasian</td><td> 70</td></tr>\n",
       "\t<tr><td>WHITESIDE </td><td>IL</td><td>1467.9512</td><td>AAR</td><td>South  </td><td>popasian</td><td>187</td></tr>\n",
       "\t<tr><td>WILLIAMSON</td><td>IL</td><td>2309.3200</td><td>AAR</td><td>Central</td><td>popasian</td><td>252</td></tr>\n",
       "</tbody>\n",
       "</table>\n"
      ],
      "text/latex": [
       "A tibble: 204 × 7\n",
       "\\begin{tabular}{r|lllllll}\n",
       " county & state & popdensity & category & fakegroups & populationGroup & populationNum\\\\\n",
       " <chr> & <chr> & <dbl> & <chr> & <chr> & <fct> & <int>\\\\\n",
       "\\hline\n",
       "\t ADAMS      & IL & 1270.9615 & AAR & North   & popwhite &  63917\\\\\n",
       "\t BOND       & IL &  681.4091 & AAR & South   & popwhite &  14477\\\\\n",
       "\t BROWN      & IL &  324.2222 & AAR & Central & popwhite &   5264\\\\\n",
       "\t BUREAU     & IL &  713.7600 & AAR & North   & popwhite &  35157\\\\\n",
       "\t CARROLL    & IL &  622.4074 & AAR & South   & popwhite &  16519\\\\\n",
       "\t CASS       & IL &  559.8750 & AAR & Central & popwhite &  13384\\\\\n",
       "\t CHRISTIAN  & IL &  819.4762 & AAR & North   & popwhite &  34176\\\\\n",
       "\t CLARK      & IL &  530.7000 & AAR & South   & popwhite &  15842\\\\\n",
       "\t COLES      & IL & 1721.4667 & AAR & Central & popwhite &  50177\\\\\n",
       "\t CRAWFORD   & IL &  748.6154 & AAR & North   & popwhite &  19300\\\\\n",
       "\t CUMBERLAND & IL &  533.5000 & AAR & South   & popwhite &  10627\\\\\n",
       "\t DE WITT    & IL &  718.0870 & AAR & Central & popwhite &  16387\\\\\n",
       "\t DOUGLAS    & IL &  778.5600 & AAR & North   & popwhite &  19280\\\\\n",
       "\t EDGAR      & IL &  544.3056 & AAR & South   & popwhite &  19469\\\\\n",
       "\t EDWARDS    & IL &  531.4286 & AAR & Central & popwhite &   7401\\\\\n",
       "\t EFFINGHAM  & IL & 1132.2857 & AAR & North   & popwhite &  31523\\\\\n",
       "\t FAYETTE    & IL &  474.8409 & AAR & South   & popwhite &  20148\\\\\n",
       "\t FORD       & IL &  475.8333 & AAR & Central & popwhite &  14157\\\\\n",
       "\t FULTON     & IL &  732.3077 & AAR & North   & popwhite &  37117\\\\\n",
       "\t GREENE     & IL &  464.1515 & AAR & South   & popwhite &  15231\\\\\n",
       "\t HANCOCK    & IL &  454.7447 & AAR & Central & popwhite &  21272\\\\\n",
       "\t HENDERSON  & IL &  352.0000 & AAR & North   & popwhite &   8037\\\\\n",
       "\t IROQUOIS   & IL &  459.5075 & AAR & South   & popwhite &  30154\\\\\n",
       "\t JASPER     & IL &  365.8276 & AAR & Central & popwhite &  10574\\\\\n",
       "\t JEFFERSON  & IL & 1121.8182 & AAR & North   & popwhite &  34856\\\\\n",
       "\t JO DAVIESS & IL &  623.4571 & AAR & South   & popwhite &  21732\\\\\n",
       "\t KNOX       & IL & 1342.6905 & AAR & Central & popwhite &  52413\\\\\n",
       "\t LA SALLE   & IL & 1572.2500 & AAR & North   & popwhite & 103805\\\\\n",
       "\t LEE        & IL &  799.8140 & AAR & South   & popwhite &  32530\\\\\n",
       "\t LIVINGSTON & IL &  633.8871 & AAR & Central & popwhite &  36551\\\\\n",
       "\t ⋮ & ⋮ & ⋮ & ⋮ & ⋮ & ⋮ & ⋮\\\\\n",
       "\t HENDERSON  & IL &  352.0000 & AAR & North   & popasian &  10\\\\\n",
       "\t IROQUOIS   & IL &  459.5075 & AAR & South   & popasian &  69\\\\\n",
       "\t JASPER     & IL &  365.8276 & AAR & Central & popasian &  17\\\\\n",
       "\t JEFFERSON  & IL & 1121.8182 & AAR & North   & popasian & 129\\\\\n",
       "\t JO DAVIESS & IL &  623.4571 & AAR & South   & popasian &  29\\\\\n",
       "\t KNOX       & IL & 1342.6905 & AAR & Central & popasian & 320\\\\\n",
       "\t LA SALLE   & IL & 1572.2500 & AAR & North   & popasian & 523\\\\\n",
       "\t LEE        & IL &  799.8140 & AAR & South   & popasian & 181\\\\\n",
       "\t LIVINGSTON & IL &  633.8871 & AAR & Central & popasian & 131\\\\\n",
       "\t LOGAN      & IL &  855.5000 & AAR & North   & popasian & 143\\\\\n",
       "\t MACOUPIN   & IL &  953.5800 & AAR & South   & popasian &  88\\\\\n",
       "\t MARION     & IL & 1187.4571 & AAR & Central & popasian & 232\\\\\n",
       "\t MARSHALL   & IL &  558.5217 & AAR & North   & popasian &  28\\\\\n",
       "\t MASON      & IL &  493.0000 & AAR & South   & popasian &  38\\\\\n",
       "\t MERCER     & IL &  523.9394 & AAR & Central & popasian &  35\\\\\n",
       "\t MONTGOMERY & IL &  749.4634 & AAR & North   & popasian &  66\\\\\n",
       "\t MORGAN     & IL & 1102.9394 & AAR & South   & popasian & 130\\\\\n",
       "\t MOULTRIE   & IL &  663.3333 & AAR & Central & popasian &  13\\\\\n",
       "\t PUTNAM     & IL &  573.0000 & AAR & North   & popasian &   7\\\\\n",
       "\t RICHLAND   & IL &  752.0455 & AAR & South   & popasian &  43\\\\\n",
       "\t SCHUYLER   & IL &  288.3846 & AAR & Central & popasian &   6\\\\\n",
       "\t SCOTT      & IL &  376.2667 & AAR & North   & popasian &   3\\\\\n",
       "\t SHELBY     & IL &  505.9318 & AAR & South   & popasian &  27\\\\\n",
       "\t STARK      & IL &  384.3529 & AAR & Central & popasian &  21\\\\\n",
       "\t STEPHENSON & IL & 1456.1212 & AAR & North   & popasian & 304\\\\\n",
       "\t VERMILION  & IL & 1697.2500 & AAR & South   & popasian & 507\\\\\n",
       "\t WABASH     & IL & 1092.5833 & AAR & Central & popasian &  80\\\\\n",
       "\t WARREN     & IL &  581.2424 & AAR & North   & popasian &  70\\\\\n",
       "\t WHITESIDE  & IL & 1467.9512 & AAR & South   & popasian & 187\\\\\n",
       "\t WILLIAMSON & IL & 2309.3200 & AAR & Central & popasian & 252\\\\\n",
       "\\end{tabular}\n"
      ],
      "text/markdown": [
       "\n",
       "A tibble: 204 × 7\n",
       "\n",
       "| county &lt;chr&gt; | state &lt;chr&gt; | popdensity &lt;dbl&gt; | category &lt;chr&gt; | fakegroups &lt;chr&gt; | populationGroup &lt;fct&gt; | populationNum &lt;int&gt; |\n",
       "|---|---|---|---|---|---|---|\n",
       "| ADAMS      | IL | 1270.9615 | AAR | North   | popwhite |  63917 |\n",
       "| BOND       | IL |  681.4091 | AAR | South   | popwhite |  14477 |\n",
       "| BROWN      | IL |  324.2222 | AAR | Central | popwhite |   5264 |\n",
       "| BUREAU     | IL |  713.7600 | AAR | North   | popwhite |  35157 |\n",
       "| CARROLL    | IL |  622.4074 | AAR | South   | popwhite |  16519 |\n",
       "| CASS       | IL |  559.8750 | AAR | Central | popwhite |  13384 |\n",
       "| CHRISTIAN  | IL |  819.4762 | AAR | North   | popwhite |  34176 |\n",
       "| CLARK      | IL |  530.7000 | AAR | South   | popwhite |  15842 |\n",
       "| COLES      | IL | 1721.4667 | AAR | Central | popwhite |  50177 |\n",
       "| CRAWFORD   | IL |  748.6154 | AAR | North   | popwhite |  19300 |\n",
       "| CUMBERLAND | IL |  533.5000 | AAR | South   | popwhite |  10627 |\n",
       "| DE WITT    | IL |  718.0870 | AAR | Central | popwhite |  16387 |\n",
       "| DOUGLAS    | IL |  778.5600 | AAR | North   | popwhite |  19280 |\n",
       "| EDGAR      | IL |  544.3056 | AAR | South   | popwhite |  19469 |\n",
       "| EDWARDS    | IL |  531.4286 | AAR | Central | popwhite |   7401 |\n",
       "| EFFINGHAM  | IL | 1132.2857 | AAR | North   | popwhite |  31523 |\n",
       "| FAYETTE    | IL |  474.8409 | AAR | South   | popwhite |  20148 |\n",
       "| FORD       | IL |  475.8333 | AAR | Central | popwhite |  14157 |\n",
       "| FULTON     | IL |  732.3077 | AAR | North   | popwhite |  37117 |\n",
       "| GREENE     | IL |  464.1515 | AAR | South   | popwhite |  15231 |\n",
       "| HANCOCK    | IL |  454.7447 | AAR | Central | popwhite |  21272 |\n",
       "| HENDERSON  | IL |  352.0000 | AAR | North   | popwhite |   8037 |\n",
       "| IROQUOIS   | IL |  459.5075 | AAR | South   | popwhite |  30154 |\n",
       "| JASPER     | IL |  365.8276 | AAR | Central | popwhite |  10574 |\n",
       "| JEFFERSON  | IL | 1121.8182 | AAR | North   | popwhite |  34856 |\n",
       "| JO DAVIESS | IL |  623.4571 | AAR | South   | popwhite |  21732 |\n",
       "| KNOX       | IL | 1342.6905 | AAR | Central | popwhite |  52413 |\n",
       "| LA SALLE   | IL | 1572.2500 | AAR | North   | popwhite | 103805 |\n",
       "| LEE        | IL |  799.8140 | AAR | South   | popwhite |  32530 |\n",
       "| LIVINGSTON | IL |  633.8871 | AAR | Central | popwhite |  36551 |\n",
       "| ⋮ | ⋮ | ⋮ | ⋮ | ⋮ | ⋮ | ⋮ |\n",
       "| HENDERSON  | IL |  352.0000 | AAR | North   | popasian |  10 |\n",
       "| IROQUOIS   | IL |  459.5075 | AAR | South   | popasian |  69 |\n",
       "| JASPER     | IL |  365.8276 | AAR | Central | popasian |  17 |\n",
       "| JEFFERSON  | IL | 1121.8182 | AAR | North   | popasian | 129 |\n",
       "| JO DAVIESS | IL |  623.4571 | AAR | South   | popasian |  29 |\n",
       "| KNOX       | IL | 1342.6905 | AAR | Central | popasian | 320 |\n",
       "| LA SALLE   | IL | 1572.2500 | AAR | North   | popasian | 523 |\n",
       "| LEE        | IL |  799.8140 | AAR | South   | popasian | 181 |\n",
       "| LIVINGSTON | IL |  633.8871 | AAR | Central | popasian | 131 |\n",
       "| LOGAN      | IL |  855.5000 | AAR | North   | popasian | 143 |\n",
       "| MACOUPIN   | IL |  953.5800 | AAR | South   | popasian |  88 |\n",
       "| MARION     | IL | 1187.4571 | AAR | Central | popasian | 232 |\n",
       "| MARSHALL   | IL |  558.5217 | AAR | North   | popasian |  28 |\n",
       "| MASON      | IL |  493.0000 | AAR | South   | popasian |  38 |\n",
       "| MERCER     | IL |  523.9394 | AAR | Central | popasian |  35 |\n",
       "| MONTGOMERY | IL |  749.4634 | AAR | North   | popasian |  66 |\n",
       "| MORGAN     | IL | 1102.9394 | AAR | South   | popasian | 130 |\n",
       "| MOULTRIE   | IL |  663.3333 | AAR | Central | popasian |  13 |\n",
       "| PUTNAM     | IL |  573.0000 | AAR | North   | popasian |   7 |\n",
       "| RICHLAND   | IL |  752.0455 | AAR | South   | popasian |  43 |\n",
       "| SCHUYLER   | IL |  288.3846 | AAR | Central | popasian |   6 |\n",
       "| SCOTT      | IL |  376.2667 | AAR | North   | popasian |   3 |\n",
       "| SHELBY     | IL |  505.9318 | AAR | South   | popasian |  27 |\n",
       "| STARK      | IL |  384.3529 | AAR | Central | popasian |  21 |\n",
       "| STEPHENSON | IL | 1456.1212 | AAR | North   | popasian | 304 |\n",
       "| VERMILION  | IL | 1697.2500 | AAR | South   | popasian | 507 |\n",
       "| WABASH     | IL | 1092.5833 | AAR | Central | popasian |  80 |\n",
       "| WARREN     | IL |  581.2424 | AAR | North   | popasian |  70 |\n",
       "| WHITESIDE  | IL | 1467.9512 | AAR | South   | popasian | 187 |\n",
       "| WILLIAMSON | IL | 2309.3200 | AAR | Central | popasian | 252 |\n",
       "\n"
      ],
      "text/plain": [
       "    county     state popdensity category fakegroups populationGroup\n",
       "1   ADAMS      IL    1270.9615  AAR      North      popwhite       \n",
       "2   BOND       IL     681.4091  AAR      South      popwhite       \n",
       "3   BROWN      IL     324.2222  AAR      Central    popwhite       \n",
       "4   BUREAU     IL     713.7600  AAR      North      popwhite       \n",
       "5   CARROLL    IL     622.4074  AAR      South      popwhite       \n",
       "6   CASS       IL     559.8750  AAR      Central    popwhite       \n",
       "7   CHRISTIAN  IL     819.4762  AAR      North      popwhite       \n",
       "8   CLARK      IL     530.7000  AAR      South      popwhite       \n",
       "9   COLES      IL    1721.4667  AAR      Central    popwhite       \n",
       "10  CRAWFORD   IL     748.6154  AAR      North      popwhite       \n",
       "11  CUMBERLAND IL     533.5000  AAR      South      popwhite       \n",
       "12  DE WITT    IL     718.0870  AAR      Central    popwhite       \n",
       "13  DOUGLAS    IL     778.5600  AAR      North      popwhite       \n",
       "14  EDGAR      IL     544.3056  AAR      South      popwhite       \n",
       "15  EDWARDS    IL     531.4286  AAR      Central    popwhite       \n",
       "16  EFFINGHAM  IL    1132.2857  AAR      North      popwhite       \n",
       "17  FAYETTE    IL     474.8409  AAR      South      popwhite       \n",
       "18  FORD       IL     475.8333  AAR      Central    popwhite       \n",
       "19  FULTON     IL     732.3077  AAR      North      popwhite       \n",
       "20  GREENE     IL     464.1515  AAR      South      popwhite       \n",
       "21  HANCOCK    IL     454.7447  AAR      Central    popwhite       \n",
       "22  HENDERSON  IL     352.0000  AAR      North      popwhite       \n",
       "23  IROQUOIS   IL     459.5075  AAR      South      popwhite       \n",
       "24  JASPER     IL     365.8276  AAR      Central    popwhite       \n",
       "25  JEFFERSON  IL    1121.8182  AAR      North      popwhite       \n",
       "26  JO DAVIESS IL     623.4571  AAR      South      popwhite       \n",
       "27  KNOX       IL    1342.6905  AAR      Central    popwhite       \n",
       "28  LA SALLE   IL    1572.2500  AAR      North      popwhite       \n",
       "29  LEE        IL     799.8140  AAR      South      popwhite       \n",
       "30  LIVINGSTON IL     633.8871  AAR      Central    popwhite       \n",
       "⋮   ⋮          ⋮     ⋮          ⋮        ⋮          ⋮              \n",
       "175 HENDERSON  IL     352.0000  AAR      North      popasian       \n",
       "176 IROQUOIS   IL     459.5075  AAR      South      popasian       \n",
       "177 JASPER     IL     365.8276  AAR      Central    popasian       \n",
       "178 JEFFERSON  IL    1121.8182  AAR      North      popasian       \n",
       "179 JO DAVIESS IL     623.4571  AAR      South      popasian       \n",
       "180 KNOX       IL    1342.6905  AAR      Central    popasian       \n",
       "181 LA SALLE   IL    1572.2500  AAR      North      popasian       \n",
       "182 LEE        IL     799.8140  AAR      South      popasian       \n",
       "183 LIVINGSTON IL     633.8871  AAR      Central    popasian       \n",
       "184 LOGAN      IL     855.5000  AAR      North      popasian       \n",
       "185 MACOUPIN   IL     953.5800  AAR      South      popasian       \n",
       "186 MARION     IL    1187.4571  AAR      Central    popasian       \n",
       "187 MARSHALL   IL     558.5217  AAR      North      popasian       \n",
       "188 MASON      IL     493.0000  AAR      South      popasian       \n",
       "189 MERCER     IL     523.9394  AAR      Central    popasian       \n",
       "190 MONTGOMERY IL     749.4634  AAR      North      popasian       \n",
       "191 MORGAN     IL    1102.9394  AAR      South      popasian       \n",
       "192 MOULTRIE   IL     663.3333  AAR      Central    popasian       \n",
       "193 PUTNAM     IL     573.0000  AAR      North      popasian       \n",
       "194 RICHLAND   IL     752.0455  AAR      South      popasian       \n",
       "195 SCHUYLER   IL     288.3846  AAR      Central    popasian       \n",
       "196 SCOTT      IL     376.2667  AAR      North      popasian       \n",
       "197 SHELBY     IL     505.9318  AAR      South      popasian       \n",
       "198 STARK      IL     384.3529  AAR      Central    popasian       \n",
       "199 STEPHENSON IL    1456.1212  AAR      North      popasian       \n",
       "200 VERMILION  IL    1697.2500  AAR      South      popasian       \n",
       "201 WABASH     IL    1092.5833  AAR      Central    popasian       \n",
       "202 WARREN     IL     581.2424  AAR      North      popasian       \n",
       "203 WHITESIDE  IL    1467.9512  AAR      South      popasian       \n",
       "204 WILLIAMSON IL    2309.3200  AAR      Central    popasian       \n",
       "    populationNum\n",
       "1    63917       \n",
       "2    14477       \n",
       "3     5264       \n",
       "4    35157       \n",
       "5    16519       \n",
       "6    13384       \n",
       "7    34176       \n",
       "8    15842       \n",
       "9    50177       \n",
       "10   19300       \n",
       "11   10627       \n",
       "12   16387       \n",
       "13   19280       \n",
       "14   19469       \n",
       "15    7401       \n",
       "16   31523       \n",
       "17   20148       \n",
       "18   14157       \n",
       "19   37117       \n",
       "20   15231       \n",
       "21   21272       \n",
       "22    8037       \n",
       "23   30154       \n",
       "24   10574       \n",
       "25   34856       \n",
       "26   21732       \n",
       "27   52413       \n",
       "28  103805       \n",
       "29   32530       \n",
       "30   36551       \n",
       "⋮   ⋮            \n",
       "175  10          \n",
       "176  69          \n",
       "177  17          \n",
       "178 129          \n",
       "179  29          \n",
       "180 320          \n",
       "181 523          \n",
       "182 181          \n",
       "183 131          \n",
       "184 143          \n",
       "185  88          \n",
       "186 232          \n",
       "187  28          \n",
       "188  38          \n",
       "189  35          \n",
       "190  66          \n",
       "191 130          \n",
       "192  13          \n",
       "193   7          \n",
       "194  43          \n",
       "195   6          \n",
       "196   3          \n",
       "197  27          \n",
       "198  21          \n",
       "199 304          \n",
       "200 507          \n",
       "201  80          \n",
       "202  70          \n",
       "203 187          \n",
       "204 252          "
      ]
     },
     "metadata": {},
     "output_type": "display_data"
    },
    {
     "data": {
      "text/html": [
       "<ol class=list-inline>\n",
       "\t<li>51</li>\n",
       "\t<li>9</li>\n",
       "</ol>\n"
      ],
      "text/latex": [
       "\\begin{enumerate*}\n",
       "\\item 51\n",
       "\\item 9\n",
       "\\end{enumerate*}\n"
      ],
      "text/markdown": [
       "1. 51\n",
       "2. 9\n",
       "\n",
       "\n"
      ],
      "text/plain": [
       "[1] 51  9"
      ]
     },
     "metadata": {},
     "output_type": "display_data"
    },
    {
     "data": {
      "text/html": [
       "<ol class=list-inline>\n",
       "\t<li>204</li>\n",
       "\t<li>7</li>\n",
       "</ol>\n"
      ],
      "text/latex": [
       "\\begin{enumerate*}\n",
       "\\item 204\n",
       "\\item 7\n",
       "\\end{enumerate*}\n"
      ],
      "text/markdown": [
       "1. 204\n",
       "2. 7\n",
       "\n",
       "\n"
      ],
      "text/plain": [
       "[1] 204   7"
      ]
     },
     "metadata": {},
     "output_type": "display_data"
    }
   ],
   "source": [
    "#switch format (reshape) - wide to long (redundancy - picture)\n",
    "datsubAARlong <- gather(datsubAAR, populationGroup, populationNum, popwhite:popasian, factor_key=TRUE)\n",
    "datsubAARlong\n",
    "\n",
    "dim(datsubAAR)\n",
    "dim(datsubAARlong)\n",
    "\n",
    "#?spread(); #format - long to wide"
   ]
  },
  {
   "cell_type": "code",
   "execution_count": 114,
   "metadata": {
    "collapsed": true
   },
   "outputs": [],
   "source": [
    "#CHECK-IN POINT \n",
    "#EXERCISE - XXX \n",
    "\n",
    "#EXERCISE - XXX\n",
    "\n",
    "#EXERCISE - XXX"
   ]
  },
  {
   "cell_type": "markdown",
   "metadata": {},
   "source": [
    "<font size=\"6\" color=\"68829E\" face=\"calibri\">\n",
    "<b> Plotting </b>\n",
    "</font>\n",
    "<br>\n",
    "<font size=\"4\" color=\"black\" face=\"calibri\">\n",
    "For visualizations package ``` ggplot2 ``` is preferred over base functions (```plot()``` , ```lines()``` , ```barplot()```).<br>\n",
    "Mapping data, which can come from multiple sources/datasets, to graphic attributes ``` (x, y, color, fill, group) ``` is done through aesthetics ``` (aes) ```. <br>\n",
    "Layers (geoms, stats, position, annotation), scales, facets, coordinate systems, themes can all then be added ``` (+) ```.<br><br>\n",
    "Example geom - point, line, bar, boxplot, density.\n",
    "</font>"
   ]
  },
  {
   "cell_type": "code",
   "execution_count": null,
   "metadata": {},
   "outputs": [],
   "source": [
    "plt1 = ggplot( data=midwest, aes(x=area, y=poptotal, color=state) ) +\n",
    "    #scatter geometric object (points = observation/county)\n",
    "    geom_point() + ggtitle(\"plot1\")\n",
    "    \n",
    "plt1"
   ]
  },
  {
   "cell_type": "code",
   "execution_count": null,
   "metadata": {},
   "outputs": [],
   "source": [
    "plt2 = ggplot( data=midwest, aes(x=poptotal, y=popasian) ) +\n",
    "    #scatter geometric object (points = observation/county)\n",
    "    geom_point( aes(color=county), shape=18, size=3.5, show.legend=FALSE ) + ggtitle(\"plot2\") +\n",
    "    #subplot dataset by column/variable (state)\n",
    "        facet_wrap( ~state, scales=\"fixed\", nrow=2 ) \n",
    "        #facet_wrap( ~state, scales=\"free\", nrow=2 ) \n",
    "      \n",
    "plt2"
   ]
  },
  {
   "cell_type": "code",
   "execution_count": null,
   "metadata": {},
   "outputs": [],
   "source": [
    "plt3 = plt2 + ggtitle(\"plot3\") +\n",
    "    facet_wrap( ~state, scales=\"free\", nrow=2 ) +\n",
    "    #statistical transformation (here groups = facets / local vs global)\n",
    "    stat_smooth( method = \"lm\", formula=y~x, size=1, se=T, color=\"black\" ) +\n",
    "    stat_smooth( aes(group=state), method = \"loess\", formula=y~x, size=1, se=T, color=\"red\" )\n",
    "\n",
    "plt3"
   ]
  },
  {
   "cell_type": "code",
   "execution_count": null,
   "metadata": {},
   "outputs": [],
   "source": [
    "plt4 = ggplot( data=midwest, aes(x=1, y=area, fill=state) ) + ggtitle(\"plot4\") +\n",
    "    #bar geometric object (stat=\"identity\" - raw data)\n",
    "    geom_bar( stat=\"identity\", position=\"stack\" ) +\n",
    "    labs( x=\"\", y=\"Cumulative Area\", fill=\"Midwest\" ) +\n",
    "    #scale discrete (not continuous) for fill (not color)\n",
    "        scale_fill_brewer( palette=\"Set3\" ) +\n",
    "        #scale_fill_manual(values=c(\"#FFCCFF\",\"#CC99FF\",\"#9933FF\", \"#330099\", \"#000033\")) +\n",
    "    scale_x_discrete( breaks=\"\", labels=\"\" )\n",
    "\n",
    "plt4"
   ]
  },
  {
   "cell_type": "code",
   "execution_count": null,
   "metadata": {},
   "outputs": [],
   "source": [
    "#print figures to file (pdf / png / svg / etc)\n",
    "pdf(\"Figures.pdf\", width=40, height=20)\n",
    "print(plt1)\n",
    "print(plt2)\n",
    "print(plt3)\n",
    "print(plt4)\n",
    "dev.off()\n",
    "\n",
    "#?ggsave();#built-in save function"
   ]
  },
  {
   "cell_type": "code",
   "execution_count": null,
   "metadata": {
    "collapsed": true
   },
   "outputs": [],
   "source": [
    "#CHECK-IN POINT \n",
    "#EXERCISE - change themes of plt1 so that\n",
    "\n",
    "#EXERCISE - XXX\n",
    "\n",
    "#EXERCISE - XXX"
   ]
  },
  {
   "cell_type": "markdown",
   "metadata": {},
   "source": [
    "<font size=\"6\" color=\"68829E\" face=\"calibri\">\n",
    "<b> Saving / Writing </b>\n",
    "</font>\n",
    "<br>\n",
    "<font size=\"4\" color=\"black\" face=\"calibri\">\n",
    "Workspace objects can be saved as ``` .Rdata/.Rda ``` files for logged records or future use. <br>\n",
    "Results (data, figures, apps) can be outputted as other files also.\n",
    "</font>"
   ]
  },
  {
   "cell_type": "code",
   "execution_count": null,
   "metadata": {},
   "outputs": [],
   "source": [
    "ls()"
   ]
  },
  {
   "cell_type": "code",
   "execution_count": null,
   "metadata": {},
   "outputs": [],
   "source": [
    "rm(plt1,plt2,plt3,plt4)\n",
    "ls()"
   ]
  },
  {
   "cell_type": "code",
   "execution_count": null,
   "metadata": {
    "collapsed": true
   },
   "outputs": [],
   "source": [
    "save.image(\"05_29_2019.RData\")\n",
    "#save(list=c(\"datOH\",\"datminusOH\"), file=\"05_29_2019.RData\")\n",
    "\n",
    "#load(\"05_29_2019.RData\")"
   ]
  },
  {
   "cell_type": "code",
   "execution_count": null,
   "metadata": {
    "collapsed": true
   },
   "outputs": [],
   "source": [
    "?write.table"
   ]
  },
  {
   "cell_type": "code",
   "execution_count": null,
   "metadata": {},
   "outputs": [],
   "source": [
    "write.table(midwest, file=\"ExampleGGData.csv\", sep=\",\")\n",
    "#write.table(midwest, file=\"ExampleGGData.txt\", sep=\"\\t\")\n",
    "\n",
    "list.files(path=\".\", pattern=\".csv\")\n",
    "\n",
    "#rm(list=ls());cat(\"\\014\")"
   ]
  },
  {
   "cell_type": "markdown",
   "metadata": {},
   "source": [
    "<font size=\"6\" color=\"68829E\" face=\"calibri\">\n",
    "<b> Loading / Reading </b>\n",
    "</font>\n",
    "<br>\n",
    "<font size=\"4\" color=\"black\" face=\"calibri\">\n",
    "Importing data into R from files (.csv/.txt) can range in complexity - multiple options/arugments. <br>\n",
    "Examples: separator/delimiter (<i>\",\", \"\\t\", \" \"</i>), header. <br> <br>\n",
    "</font>\n",
    "<font size=\"3\" color=\"#000000\" face=\"calibri\">\n",
    "#Tip 6. try package 'openxlsx' for Excel.\n",
    "</font>"
   ]
  },
  {
   "cell_type": "code",
   "execution_count": null,
   "metadata": {},
   "outputs": [],
   "source": [
    "df = read.table(file=\"ExampleGGData.csv\", sep=\",\")\n",
    "#df = read.table(file=\"ExampleGGData.txt\", sep=\"\\t\")\n",
    "head(df)\n",
    "\n",
    "#?read.csv()\n",
    "#?read.delim()"
   ]
  },
  {
   "cell_type": "code",
   "execution_count": null,
   "metadata": {},
   "outputs": [],
   "source": [
    "#https://github.com/fivethirtyeight/data\n",
    "\n",
    "dfOnline = read.table(file=\"https://raw.githubusercontent.com/fivethirtyeight/data/master/bachelorette/bachelorette.csv\", sep=\",\", header=TRUE)\n",
    "head(dfOnline)"
   ]
  },
  {
   "cell_type": "code",
   "execution_count": null,
   "metadata": {
    "collapsed": true
   },
   "outputs": [],
   "source": [
    "#quit()"
   ]
  },
  {
   "cell_type": "markdown",
   "metadata": {},
   "source": [
    "<font size=\"6\" color=\"68829E\" face=\"calibri\">\n",
    "<b> Command Line </b>\n",
    "</font>\n",
    "<br>\n",
    "<font size=\"4\" color=\"black\" face=\"calibri\">\n",
    "XXX. <br>\n",
    "XXX.\n",
    "</font>"
   ]
  },
  {
   "cell_type": "markdown",
   "metadata": {},
   "source": [
    "``` $ Rscript Rcode.R ``` <br>\n",
    "``` $ R CMD BATCH Rcode.R ``` "
   ]
  },
  {
   "cell_type": "markdown",
   "metadata": {},
   "source": [
    "<font size=\"4\" color=\"black\" face=\"calibri\">\n",
    "<b><i>References</i></b> <br>\n",
    "</font>\n",
    "<font size=\"4\" color=\"black\" face=\"calibri\">\n",
    "Software Carpentry: Our Lessons (<a href=\"https://software-carpentry.org/lessons/\">https://software-carpentry.org/lessons</a>) <br>\n",
    "R Packages: Organize, test, document and share your code (<a href=\"https://r-pkgs.org/\">https://r-pkgs.org</a>) <br>\n",
    "Tidyverse: R packages for data science (<a href=\"https://www.tidyverse.org/\">https://www.tidyverse.org</a>) <br>\n",
    "</font>"
   ]
  },
  {
   "cell_type": "markdown",
   "metadata": {},
   "source": [
    "<font size=\"2\" color=\"black\" face=\"calibri\"> <b>\n",
    "Introduction: R and Jupyter <br>\n",
    "</b> </font>"
   ]
  }
 ],
 "metadata": {
  "kernelspec": {
   "display_name": "R-dada2",
   "language": "R",
   "name": "dada2"
  },
  "language_info": {
   "codemirror_mode": "r",
   "file_extension": ".r",
   "mimetype": "text/x-r-source",
   "name": "R",
   "pygments_lexer": "r",
   "version": "3.5.1"
  }
 },
 "nbformat": 4,
 "nbformat_minor": 2
}

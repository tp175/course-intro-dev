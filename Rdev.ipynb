{
 "cells": [
  {
   "cell_type": "markdown",
   "metadata": {},
   "source": [
    "<font size=\"6\" color=\"#4B0082\" face=\"calibri\"> <b> 'R: Some Basics' </b> </font>"
   ]
  },
  {
   "cell_type": "markdown",
   "metadata": {},
   "source": [
    "<font size=\"4\" color=\"#000000\" face=\"calibri\">\n",
    "Welcome to R, on HCC, through Jupyter. <br> <br>\n",
    "\"R is a free software environment for statistical computing and graphics\" <br>\n",
    "<a href=\"https://www.r-project.org/\"> www.r-project.org </a> <br> <br>\n",
    "Here, we'll be touching upon some of the fundamentals of the R language.<br> <br>\n",
    "</font>\n",
    "<font size=\"3\" color=\"#000000\" face=\"calibri\">\n",
    "#Tip 1. An alternative GUI to check out is called R Studio.\n",
    "</font>"
   ]
  },
  {
   "cell_type": "markdown",
   "metadata": {},
   "source": [
    "<font size=\"5\" color=\"4B0082\" face=\"calibri\">\n",
    "<b> Environment </b>\n",
    "</font>\n",
    "<br>\n",
    "<font size=\"4\" color=\"000000\" face=\"calibri\">\n",
    "XXX.\n",
    "</font>"
   ]
  },
  {
   "cell_type": "code",
   "execution_count": 40,
   "metadata": {
    "scrolled": false
   },
   "outputs": [
    {
     "data": {
      "text/plain": [
       "R version 3.4.1 (2017-06-30)\n",
       "Platform: x86_64-pc-linux-gnu (64-bit)\n",
       "Running under: Scientific Linux release 6.10 (Carbon)\n",
       "\n",
       "Matrix products: default\n",
       "BLAS: /util/opt/anaconda/4.3.14/envs/r-ipykernel/lib/R/lib/libRblas.so\n",
       "LAPACK: /util/opt/anaconda/4.3.14/envs/r-ipykernel/lib/R/lib/libRlapack.so\n",
       "\n",
       "locale:\n",
       " [1] LC_CTYPE=en_US.UTF-8       LC_NUMERIC=C              \n",
       " [3] LC_TIME=en_US.UTF-8        LC_COLLATE=en_US.UTF-8    \n",
       " [5] LC_MONETARY=en_US.UTF-8    LC_MESSAGES=en_US.UTF-8   \n",
       " [7] LC_PAPER=en_US.UTF-8       LC_NAME=C                 \n",
       " [9] LC_ADDRESS=C               LC_TELEPHONE=C            \n",
       "[11] LC_MEASUREMENT=en_US.UTF-8 LC_IDENTIFICATION=C       \n",
       "\n",
       "attached base packages:\n",
       "[1] stats     graphics  grDevices utils     datasets  methods   base     \n",
       "\n",
       "other attached packages:\n",
       "[1] bindrcpp_0.2  dplyr_0.7.0   ggplot2_2.2.1\n",
       "\n",
       "loaded via a namespace (and not attached):\n",
       " [1] Rcpp_0.12.11     bindr_0.1        magrittr_1.5     munsell_0.4.3   \n",
       " [5] uuid_0.1-2       colorspace_1.3-2 R6_2.2.1         rlang_0.1.1     \n",
       " [9] stringr_1.2.0    plyr_1.8.4       tools_3.4.1      grid_3.4.1      \n",
       "[13] gtable_0.2.0     lazyeval_0.2.0   digest_0.6.12    assertthat_0.2.0\n",
       "[17] tibble_1.3.3     crayon_1.3.2     IRdisplay_0.4.4  repr_0.10       \n",
       "[21] IRkernel_0.7.1   glue_1.1.1       evaluate_0.10    labeling_0.3    \n",
       "[25] pbdZMQ_0.2-6     stringi_1.1.5    compiler_3.4.1   scales_0.4.1    \n",
       "[29] jsonlite_1.5    "
      ]
     },
     "metadata": {},
     "output_type": "display_data"
    }
   ],
   "source": [
    "#module load R.3.4\n",
    "#R\n",
    "sessionInfo()"
   ]
  },
  {
   "cell_type": "code",
   "execution_count": 41,
   "metadata": {},
   "outputs": [
    {
     "data": {
      "text/html": [
       "'/lustre/work/riethoven/tpayne'"
      ],
      "text/latex": [
       "'/lustre/work/riethoven/tpayne'"
      ],
      "text/markdown": [
       "'/lustre/work/riethoven/tpayne'"
      ],
      "text/plain": [
       "[1] \"/lustre/work/riethoven/tpayne\""
      ]
     },
     "metadata": {},
     "output_type": "display_data"
    }
   ],
   "source": [
    "getwd()\n",
    "#setwd('/home/')"
   ]
  },
  {
   "cell_type": "code",
   "execution_count": 42,
   "metadata": {},
   "outputs": [
    {
     "data": {
      "text/html": [
       "<ol class=list-inline>\n",
       "\t<li>'05_29_2019.RData'</li>\n",
       "\t<li>'DMAC'</li>\n",
       "\t<li>'ExampleGGData.csv'</li>\n",
       "\t<li>'Figures.pdf'</li>\n",
       "\t<li>'job-examples'</li>\n",
       "\t<li>'jobs-TP'</li>\n",
       "\t<li>'jupyterhub_slurmspawner_20352540.log'</li>\n",
       "\t<li>'jupyterhub_slurmspawner_20600324.log'</li>\n",
       "\t<li>'jupyterhub_slurmspawner_20612992.log'</li>\n",
       "\t<li>'MS'</li>\n",
       "\t<li>'Untitled.ipynb'</li>\n",
       "</ol>\n"
      ],
      "text/latex": [
       "\\begin{enumerate*}\n",
       "\\item '05\\_29\\_2019.RData'\n",
       "\\item 'DMAC'\n",
       "\\item 'ExampleGGData.csv'\n",
       "\\item 'Figures.pdf'\n",
       "\\item 'job-examples'\n",
       "\\item 'jobs-TP'\n",
       "\\item 'jupyterhub\\_slurmspawner\\_20352540.log'\n",
       "\\item 'jupyterhub\\_slurmspawner\\_20600324.log'\n",
       "\\item 'jupyterhub\\_slurmspawner\\_20612992.log'\n",
       "\\item 'MS'\n",
       "\\item 'Untitled.ipynb'\n",
       "\\end{enumerate*}\n"
      ],
      "text/markdown": [
       "1. '05_29_2019.RData'\n",
       "2. 'DMAC'\n",
       "3. 'ExampleGGData.csv'\n",
       "4. 'Figures.pdf'\n",
       "5. 'job-examples'\n",
       "6. 'jobs-TP'\n",
       "7. 'jupyterhub_slurmspawner_20352540.log'\n",
       "8. 'jupyterhub_slurmspawner_20600324.log'\n",
       "9. 'jupyterhub_slurmspawner_20612992.log'\n",
       "10. 'MS'\n",
       "11. 'Untitled.ipynb'\n",
       "\n",
       "\n"
      ],
      "text/plain": [
       " [1] \"05_29_2019.RData\"                    \n",
       " [2] \"DMAC\"                                \n",
       " [3] \"ExampleGGData.csv\"                   \n",
       " [4] \"Figures.pdf\"                         \n",
       " [5] \"job-examples\"                        \n",
       " [6] \"jobs-TP\"                             \n",
       " [7] \"jupyterhub_slurmspawner_20352540.log\"\n",
       " [8] \"jupyterhub_slurmspawner_20600324.log\"\n",
       " [9] \"jupyterhub_slurmspawner_20612992.log\"\n",
       "[10] \"MS\"                                  \n",
       "[11] \"Untitled.ipynb\"                      "
      ]
     },
     "metadata": {},
     "output_type": "display_data"
    }
   ],
   "source": [
    "list.files()\n",
    "#ls()"
   ]
  },
  {
   "cell_type": "markdown",
   "metadata": {},
   "source": [
    "<font size=\"5\" color=\"4B0082\" face=\"calibri\">\n",
    "<b> Calculations </b>\n",
    "</font>\n",
    "<br>\n",
    "<font size=\"4\" color=\"000000\" face=\"calibri\">\n",
    "Mathematical calculations - elements & arrays (/vectors). <br>\n",
    "Examples: + , - , * , / , ^.\n",
    "</font>"
   ]
  },
  {
   "cell_type": "code",
   "execution_count": 43,
   "metadata": {
    "scrolled": true
   },
   "outputs": [
    {
     "data": {
      "text/html": [
       "8"
      ],
      "text/latex": [
       "8"
      ],
      "text/markdown": [
       "8"
      ],
      "text/plain": [
       "[1] 8"
      ]
     },
     "metadata": {},
     "output_type": "display_data"
    }
   ],
   "source": [
    "(20+20)/5"
   ]
  },
  {
   "cell_type": "code",
   "execution_count": 44,
   "metadata": {},
   "outputs": [
    {
     "data": {
      "text/html": [
       "<ol class=list-inline>\n",
       "\t<li>1</li>\n",
       "\t<li>4</li>\n",
       "\t<li>9</li>\n",
       "\t<li>16</li>\n",
       "</ol>\n"
      ],
      "text/latex": [
       "\\begin{enumerate*}\n",
       "\\item 1\n",
       "\\item 4\n",
       "\\item 9\n",
       "\\item 16\n",
       "\\end{enumerate*}\n"
      ],
      "text/markdown": [
       "1. 1\n",
       "2. 4\n",
       "3. 9\n",
       "4. 16\n",
       "\n",
       "\n"
      ],
      "text/plain": [
       "[1]  1  4  9 16"
      ]
     },
     "metadata": {},
     "output_type": "display_data"
    }
   ],
   "source": [
    "c(1,2,3,4) * c(1,2,3,4)"
   ]
  },
  {
   "cell_type": "code",
   "execution_count": 45,
   "metadata": {},
   "outputs": [
    {
     "data": {
      "text/html": [
       "9"
      ],
      "text/latex": [
       "9"
      ],
      "text/markdown": [
       "9"
      ],
      "text/plain": [
       "[1] 9"
      ]
     },
     "metadata": {},
     "output_type": "display_data"
    }
   ],
   "source": [
    "sqrt(81) "
   ]
  },
  {
   "cell_type": "markdown",
   "metadata": {},
   "source": [
    "<font size=\"5\" color=\"4B0082\" face=\"calibri\">\n",
    "<b> Functions </b>\n",
    "</font>\n",
    "<br>\n",
    "<font size=\"4\" color=\"black\" face=\"calibri\">\n",
    "Perform operations - Input to Output with arguments (round brackets). <br>\n",
    "Writing functions is good practice.\n",
    "</font>\n",
    "<br> <br>\n",
    "<font size=\"3\" color=\"#000000\" face=\"calibri\">\n",
    "#Tip 2. source(\"XXX.R\").\n",
    "</font>"
   ]
  },
  {
   "cell_type": "code",
   "execution_count": 46,
   "metadata": {},
   "outputs": [
    {
     "name": "stdout",
     "output_type": "stream",
     "text": [
      " [1] 0.02557757 0.25994296 0.30267225 0.46182942 0.69829935 0.70410516\n",
      " [7] 0.83880069 0.86180106 0.89283345 0.95078452\n"
     ]
    }
   ],
   "source": [
    "print(sort(runif(10, min=0, max=1)))"
   ]
  },
  {
   "cell_type": "code",
   "execution_count": 47,
   "metadata": {
    "collapsed": true
   },
   "outputs": [],
   "source": [
    "?sort"
   ]
  },
  {
   "cell_type": "code",
   "execution_count": 48,
   "metadata": {},
   "outputs": [
    {
     "data": {
      "text/html": [
       "3.28185922915655"
      ],
      "text/latex": [
       "3.28185922915655"
      ],
      "text/markdown": [
       "3.28185922915655"
      ],
      "text/plain": [
       "[1] 3.281859"
      ]
     },
     "metadata": {},
     "output_type": "display_data"
    }
   ],
   "source": [
    "calculate_SE <- function(x){\n",
    "    #function to calculate standard error.\n",
    "    sqrt(var(x) / length(x))\n",
    "}\n",
    "\n",
    "calculate_SE(c(10.4, 5.6, 3.1, 6.4, 21.7))"
   ]
  },
  {
   "cell_type": "markdown",
   "metadata": {},
   "source": [
    "<font size=\"5\" color=\"4B0082\" face=\"calibri\">\n",
    "<b> Assignment </b>\n",
    "</font>\n",
    "<br>\n",
    "<font size=\"4\" color=\"black\" face=\"calibri\">\n",
    "Commands ``` <- ``` OR ``` = ``` assigns and saves outputs. <br> <br>\n",
    "R operates on named data structures, that is, sets of ordered entities.<br>\n",
    "Example vectors: numeric (double, integer, complex), logical, character.\n",
    "</font>"
   ]
  },
  {
   "cell_type": "code",
   "execution_count": 49,
   "metadata": {},
   "outputs": [
    {
     "data": {
      "text/html": [
       "<ol class=list-inline>\n",
       "\t<li>10.4</li>\n",
       "\t<li>5.6</li>\n",
       "\t<li>3.1</li>\n",
       "\t<li>6.4</li>\n",
       "\t<li>21.7</li>\n",
       "</ol>\n"
      ],
      "text/latex": [
       "\\begin{enumerate*}\n",
       "\\item 10.4\n",
       "\\item 5.6\n",
       "\\item 3.1\n",
       "\\item 6.4\n",
       "\\item 21.7\n",
       "\\end{enumerate*}\n"
      ],
      "text/markdown": [
       "1. 10.4\n",
       "2. 5.6\n",
       "3. 3.1\n",
       "4. 6.4\n",
       "5. 21.7\n",
       "\n",
       "\n"
      ],
      "text/plain": [
       "[1] 10.4  5.6  3.1  6.4 21.7"
      ]
     },
     "metadata": {},
     "output_type": "display_data"
    }
   ],
   "source": [
    "x <- c(10.4, 5.6, 3.1, 6.4, 21.7); \n",
    "#x = c(10.4, 5.6, 3.1, 6.4, 21.7);\n",
    "x"
   ]
  },
  {
   "cell_type": "code",
   "execution_count": 50,
   "metadata": {},
   "outputs": [
    {
     "data": {
      "text/html": [
       "<ol class=list-inline>\n",
       "\t<li>'test'</li>\n",
       "\t<li>'control'</li>\n",
       "\t<li>'control'</li>\n",
       "\t<li>'control'</li>\n",
       "\t<li>'test'</li>\n",
       "</ol>\n"
      ],
      "text/latex": [
       "\\begin{enumerate*}\n",
       "\\item 'test'\n",
       "\\item 'control'\n",
       "\\item 'control'\n",
       "\\item 'control'\n",
       "\\item 'test'\n",
       "\\end{enumerate*}\n"
      ],
      "text/markdown": [
       "1. 'test'\n",
       "2. 'control'\n",
       "3. 'control'\n",
       "4. 'control'\n",
       "5. 'test'\n",
       "\n",
       "\n"
      ],
      "text/plain": [
       "[1] \"test\"    \"control\" \"control\" \"control\" \"test\"   "
      ]
     },
     "metadata": {},
     "output_type": "display_data"
    }
   ],
   "source": [
    "y <- c(\"test\", \"control\", \"control\", \"control\", \"test\");\n",
    "#y = c(\"test\", \"control\", \"control\", \"control\", \"test\");\n",
    "y"
   ]
  },
  {
   "cell_type": "code",
   "execution_count": 51,
   "metadata": {},
   "outputs": [
    {
     "data": {
      "text/html": [
       "<ol class=list-inline>\n",
       "\t<li>'10.4'</li>\n",
       "\t<li>'5.6'</li>\n",
       "\t<li>'3.1'</li>\n",
       "\t<li>'6.4'</li>\n",
       "\t<li>'21.7'</li>\n",
       "</ol>\n"
      ],
      "text/latex": [
       "\\begin{enumerate*}\n",
       "\\item '10.4'\n",
       "\\item '5.6'\n",
       "\\item '3.1'\n",
       "\\item '6.4'\n",
       "\\item '21.7'\n",
       "\\end{enumerate*}\n"
      ],
      "text/markdown": [
       "1. '10.4'\n",
       "2. '5.6'\n",
       "3. '3.1'\n",
       "4. '6.4'\n",
       "5. '21.7'\n",
       "\n",
       "\n"
      ],
      "text/plain": [
       "[1] \"10.4\" \"5.6\"  \"3.1\"  \"6.4\"  \"21.7\""
      ]
     },
     "metadata": {},
     "output_type": "display_data"
    }
   ],
   "source": [
    "as.character(x)"
   ]
  },
  {
   "cell_type": "markdown",
   "metadata": {},
   "source": [
    "<font size=\"5\" color=\"4B0082\" face=\"calibri\">\n",
    "<b> Objects </b>\n",
    "</font>\n",
    "<br>\n",
    "<font size=\"4\" color=\"black\" face=\"calibri\">\n",
    "While vectors are the most important type of object (/variable) in R, others exist each with intrinsic attributes (mode and length). <br>\n",
    "Example objects: matrices, lists, data frames.\n",
    "</font>"
   ]
  },
  {
   "cell_type": "code",
   "execution_count": 52,
   "metadata": {
    "scrolled": false
   },
   "outputs": [
    {
     "data": {
      "text/html": [
       "<table>\n",
       "<tbody>\n",
       "\t<tr><td>8.12053575</td><td>9.2157130 </td><td>2.1355921 </td><td>2.232801  </td><td>9.583520  </td></tr>\n",
       "\t<tr><td>0.68637754</td><td>6.9559819 </td><td>0.6429555 </td><td>8.484845  </td><td>4.976438  </td></tr>\n",
       "\t<tr><td>0.01694622</td><td>0.8271871 </td><td>9.8045424 </td><td>7.590075  </td><td>5.113411  </td></tr>\n",
       "\t<tr><td>6.87766955</td><td>8.7821102 </td><td>7.0556107 </td><td>8.708304  </td><td>1.901753  </td></tr>\n",
       "</tbody>\n",
       "</table>\n"
      ],
      "text/latex": [
       "\\begin{tabular}{lllll}\n",
       "\t 8.12053575 & 9.2157130  & 2.1355921  & 2.232801   & 9.583520  \\\\\n",
       "\t 0.68637754 & 6.9559819  & 0.6429555  & 8.484845   & 4.976438  \\\\\n",
       "\t 0.01694622 & 0.8271871  & 9.8045424  & 7.590075   & 5.113411  \\\\\n",
       "\t 6.87766955 & 8.7821102  & 7.0556107  & 8.708304   & 1.901753  \\\\\n",
       "\\end{tabular}\n"
      ],
      "text/markdown": [
       "\n",
       "| 8.12053575 | 9.2157130  | 2.1355921  | 2.232801   | 9.583520   | \n",
       "| 0.68637754 | 6.9559819  | 0.6429555  | 8.484845   | 4.976438   | \n",
       "| 0.01694622 | 0.8271871  | 9.8045424  | 7.590075   | 5.113411   | \n",
       "| 6.87766955 | 8.7821102  | 7.0556107  | 8.708304   | 1.901753   | \n",
       "\n",
       "\n"
      ],
      "text/plain": [
       "     [,1]       [,2]      [,3]      [,4]     [,5]    \n",
       "[1,] 8.12053575 9.2157130 2.1355921 2.232801 9.583520\n",
       "[2,] 0.68637754 6.9559819 0.6429555 8.484845 4.976438\n",
       "[3,] 0.01694622 0.8271871 9.8045424 7.590075 5.113411\n",
       "[4,] 6.87766955 8.7821102 7.0556107 8.708304 1.901753"
      ]
     },
     "metadata": {},
     "output_type": "display_data"
    }
   ],
   "source": [
    "X = matrix(runif(20, min=0, max=10), nrow=4, ncol=5, byrow=FALSE);X"
   ]
  },
  {
   "cell_type": "markdown",
   "metadata": {},
   "source": [
    "<font size=\"5\" color=\"4B0082\" face=\"calibri\">\n",
    "<b> Indexing </b>\n",
    "</font>\n",
    "<br>\n",
    "<font size=\"4\" color=\"black\" face=\"calibri\">\n",
    "Manipulate parts of a dataset (square brackets).\n",
    "</font>"
   ]
  },
  {
   "cell_type": "code",
   "execution_count": 53,
   "metadata": {
    "scrolled": true
   },
   "outputs": [
    {
     "data": {
      "text/html": [
       "8.48484521498904"
      ],
      "text/latex": [
       "8.48484521498904"
      ],
      "text/markdown": [
       "8.48484521498904"
      ],
      "text/plain": [
       "[1] 8.484845"
      ]
     },
     "metadata": {},
     "output_type": "display_data"
    }
   ],
   "source": [
    "X[2,4]"
   ]
  },
  {
   "cell_type": "code",
   "execution_count": 54,
   "metadata": {},
   "outputs": [
    {
     "data": {
      "text/html": [
       "8.78211015835404"
      ],
      "text/latex": [
       "8.78211015835404"
      ],
      "text/markdown": [
       "8.78211015835404"
      ],
      "text/plain": [
       "[1] 8.78211"
      ]
     },
     "metadata": {},
     "output_type": "display_data"
    }
   ],
   "source": [
    "t(X)[2,4]"
   ]
  },
  {
   "cell_type": "code",
   "execution_count": 55,
   "metadata": {},
   "outputs": [
    {
     "data": {
      "text/html": [
       "<table>\n",
       "<tbody>\n",
       "\t<tr><td>9.2157130</td><td>2.1355921</td></tr>\n",
       "\t<tr><td>6.9559819</td><td>0.6429555</td></tr>\n",
       "\t<tr><td>0.8271871</td><td>9.8045424</td></tr>\n",
       "</tbody>\n",
       "</table>\n"
      ],
      "text/latex": [
       "\\begin{tabular}{ll}\n",
       "\t 9.2157130 & 2.1355921\\\\\n",
       "\t 6.9559819 & 0.6429555\\\\\n",
       "\t 0.8271871 & 9.8045424\\\\\n",
       "\\end{tabular}\n"
      ],
      "text/markdown": [
       "\n",
       "| 9.2157130 | 2.1355921 | \n",
       "| 6.9559819 | 0.6429555 | \n",
       "| 0.8271871 | 9.8045424 | \n",
       "\n",
       "\n"
      ],
      "text/plain": [
       "     [,1]      [,2]     \n",
       "[1,] 9.2157130 2.1355921\n",
       "[2,] 6.9559819 0.6429555\n",
       "[3,] 0.8271871 9.8045424"
      ]
     },
     "metadata": {},
     "output_type": "display_data"
    }
   ],
   "source": [
    "X[1:3,2:3]"
   ]
  },
  {
   "cell_type": "code",
   "execution_count": 56,
   "metadata": {},
   "outputs": [
    {
     "data": {
      "text/html": [
       "<table>\n",
       "<tbody>\n",
       "\t<tr><td>9.2157130</td><td>2.1355921</td></tr>\n",
       "\t<tr><td>6.9559819</td><td>0.6429555</td></tr>\n",
       "\t<tr><td>0.8271871</td><td>9.8045424</td></tr>\n",
       "</tbody>\n",
       "</table>\n"
      ],
      "text/latex": [
       "\\begin{tabular}{ll}\n",
       "\t 9.2157130 & 2.1355921\\\\\n",
       "\t 6.9559819 & 0.6429555\\\\\n",
       "\t 0.8271871 & 9.8045424\\\\\n",
       "\\end{tabular}\n"
      ],
      "text/markdown": [
       "\n",
       "| 9.2157130 | 2.1355921 | \n",
       "| 6.9559819 | 0.6429555 | \n",
       "| 0.8271871 | 9.8045424 | \n",
       "\n",
       "\n"
      ],
      "text/plain": [
       "     [,1]      [,2]     \n",
       "[1,] 9.2157130 2.1355921\n",
       "[2,] 6.9559819 0.6429555\n",
       "[3,] 0.8271871 9.8045424"
      ]
     },
     "metadata": {},
     "output_type": "display_data"
    }
   ],
   "source": [
    "cbind(X[1:3,2], X[1:3,3])"
   ]
  },
  {
   "cell_type": "code",
   "execution_count": 57,
   "metadata": {},
   "outputs": [
    {
     "data": {
      "text/html": [
       "<table>\n",
       "<tbody>\n",
       "\t<tr><td>9.2157130</td><td>2.1355921</td></tr>\n",
       "\t<tr><td>6.9559819</td><td>0.6429555</td></tr>\n",
       "\t<tr><td>0.8271871</td><td>9.8045424</td></tr>\n",
       "</tbody>\n",
       "</table>\n"
      ],
      "text/latex": [
       "\\begin{tabular}{ll}\n",
       "\t 9.2157130 & 2.1355921\\\\\n",
       "\t 6.9559819 & 0.6429555\\\\\n",
       "\t 0.8271871 & 9.8045424\\\\\n",
       "\\end{tabular}\n"
      ],
      "text/markdown": [
       "\n",
       "| 9.2157130 | 2.1355921 | \n",
       "| 6.9559819 | 0.6429555 | \n",
       "| 0.8271871 | 9.8045424 | \n",
       "\n",
       "\n"
      ],
      "text/plain": [
       "     [,1]      [,2]     \n",
       "[1,] 9.2157130 2.1355921\n",
       "[2,] 6.9559819 0.6429555\n",
       "[3,] 0.8271871 9.8045424"
      ]
     },
     "metadata": {},
     "output_type": "display_data"
    }
   ],
   "source": [
    "rbind(X[1,2:3], X[2,2:3], X[3,2:3])"
   ]
  },
  {
   "cell_type": "markdown",
   "metadata": {},
   "source": [
    "<font size=\"5\" color=\"4B0082\" face=\"calibri\">\n",
    "<b> Iterations </b>\n",
    "</font>\n",
    "<br>\n",
    "<font size=\"4\" color=\"black\" face=\"calibri\">\n",
    "Loops can be used to repeat operations. <br>\n",
    "However, vectorize is faster - apply, sapply, lapply. <br> <br>\n",
    "</font>\n",
    "<font size=\"3\" color=\"#000000\" face=\"calibri\">\n",
    "#Tip 3. Check system.time().\n",
    "</font>"
   ]
  },
  {
   "cell_type": "code",
   "execution_count": 58,
   "metadata": {},
   "outputs": [
    {
     "data": {
      "text/html": [
       "<ol class=list-inline>\n",
       "\t<li>3.92538226675242</li>\n",
       "\t<li>6.44524803501554</li>\n",
       "\t<li>4.90967516147066</li>\n",
       "\t<li>6.75400632491801</li>\n",
       "\t<li>5.39378054207191</li>\n",
       "</ol>\n"
      ],
      "text/latex": [
       "\\begin{enumerate*}\n",
       "\\item 3.92538226675242\n",
       "\\item 6.44524803501554\n",
       "\\item 4.90967516147066\n",
       "\\item 6.75400632491801\n",
       "\\item 5.39378054207191\n",
       "\\end{enumerate*}\n"
      ],
      "text/markdown": [
       "1. 3.92538226675242\n",
       "2. 6.44524803501554\n",
       "3. 4.90967516147066\n",
       "4. 6.75400632491801\n",
       "5. 5.39378054207191\n",
       "\n",
       "\n"
      ],
      "text/plain": [
       "[1] 3.925382 6.445248 4.909675 6.754006 5.393781"
      ]
     },
     "metadata": {},
     "output_type": "display_data"
    }
   ],
   "source": [
    "colMean = rep(NA, dim(X)[2]);\n",
    "for (i in 1:dim(X)[2]){\n",
    "    colMean[i] = mean(X[,i])\n",
    "}\n",
    "colMean"
   ]
  },
  {
   "cell_type": "code",
   "execution_count": 59,
   "metadata": {},
   "outputs": [
    {
     "data": {
      "text/html": [
       "<ol class=list-inline>\n",
       "\t<li>3.92538226675242</li>\n",
       "\t<li>6.44524803501554</li>\n",
       "\t<li>4.90967516147066</li>\n",
       "\t<li>6.75400632491801</li>\n",
       "\t<li>5.39378054207191</li>\n",
       "</ol>\n"
      ],
      "text/latex": [
       "\\begin{enumerate*}\n",
       "\\item 3.92538226675242\n",
       "\\item 6.44524803501554\n",
       "\\item 4.90967516147066\n",
       "\\item 6.75400632491801\n",
       "\\item 5.39378054207191\n",
       "\\end{enumerate*}\n"
      ],
      "text/markdown": [
       "1. 3.92538226675242\n",
       "2. 6.44524803501554\n",
       "3. 4.90967516147066\n",
       "4. 6.75400632491801\n",
       "5. 5.39378054207191\n",
       "\n",
       "\n"
      ],
      "text/plain": [
       "[1] 3.925382 6.445248 4.909675 6.754006 5.393781"
      ]
     },
     "metadata": {},
     "output_type": "display_data"
    }
   ],
   "source": [
    "colMean = apply(X, 2, mean)\n",
    "colMean\n",
    "\n",
    "#colMeans(X)"
   ]
  },
  {
   "cell_type": "code",
   "execution_count": 60,
   "metadata": {},
   "outputs": [
    {
     "data": {
      "text/html": [
       "<ol class=list-inline>\n",
       "\t<li>1.68036693716216</li>\n",
       "\t<li>1.60382071615482</li>\n",
       "\t<li>1.89083439217251</li>\n",
       "\t<li>1.25585773653163</li>\n",
       "</ol>\n"
      ],
      "text/latex": [
       "\\begin{enumerate*}\n",
       "\\item 1.68036693716216\n",
       "\\item 1.60382071615482\n",
       "\\item 1.89083439217251\n",
       "\\item 1.25585773653163\n",
       "\\end{enumerate*}\n"
      ],
      "text/markdown": [
       "1. 1.68036693716216\n",
       "2. 1.60382071615482\n",
       "3. 1.89083439217251\n",
       "4. 1.25585773653163\n",
       "\n",
       "\n"
      ],
      "text/plain": [
       "[1] 1.680367 1.603821 1.890834 1.255858"
      ]
     },
     "metadata": {},
     "output_type": "display_data"
    }
   ],
   "source": [
    "rowSE = apply(X, 1, calculate_SE)\n",
    "rowSE"
   ]
  },
  {
   "cell_type": "markdown",
   "metadata": {},
   "source": [
    "<font size=\"5\" color=\"4B0082\" face=\"calibri\">\n",
    "<b> Conditions </b>\n",
    "</font>\n",
    "<br>\n",
    "<font size=\"4\" color=\"black\" face=\"calibri\">\n",
    "Comparisons can control the flow of actions. <br>\n",
    "Examples: logical AND if both *true* (``` & ```), logical OR if either *true* (``` | ```), logical NOT converts *true* to *false* (``` ! ```).\n",
    "</font>"
   ]
  },
  {
   "cell_type": "code",
   "execution_count": 61,
   "metadata": {},
   "outputs": [
    {
     "name": "stdout",
     "output_type": "stream",
     "text": [
      "[1] \"good - dimensions match\"\n"
     ]
    }
   ],
   "source": [
    "if (length(colMean) == 5) {\n",
    "  print(\"good - dimensions match\")\n",
    "} else {\n",
    "  print(\"check - dimensions don't match\")\n",
    "}"
   ]
  },
  {
   "cell_type": "markdown",
   "metadata": {},
   "source": [
    "<font size=\"5\" color=\"4B0082\" face=\"calibri\">\n",
    "<b> Packages </b>\n",
    "</font>\n",
    "<br>\n",
    "<font size=\"4\" color=\"black\" face=\"calibri\">\n",
    "Library from online repositories, which will be unpacked into files/directories... <br>\n",
    "Examples: CRAN, Bioconductor, GitHub.\n",
    "</font>"
   ]
  },
  {
   "cell_type": "code",
   "execution_count": 62,
   "metadata": {},
   "outputs": [
    {
     "data": {
      "text/html": [
       "'list'"
      ],
      "text/latex": [
       "'list'"
      ],
      "text/markdown": [
       "'list'"
      ],
      "text/plain": [
       "[1] \"list\""
      ]
     },
     "metadata": {},
     "output_type": "display_data"
    },
    {
     "data": {
      "text/html": [
       "<ol class=list-inline>\n",
       "\t<li>437</li>\n",
       "\t<li>28</li>\n",
       "</ol>\n"
      ],
      "text/latex": [
       "\\begin{enumerate*}\n",
       "\\item 437\n",
       "\\item 28\n",
       "\\end{enumerate*}\n"
      ],
      "text/markdown": [
       "1. 437\n",
       "2. 28\n",
       "\n",
       "\n"
      ],
      "text/plain": [
       "[1] 437  28"
      ]
     },
     "metadata": {},
     "output_type": "display_data"
    },
    {
     "data": {
      "text/html": [
       "<table>\n",
       "<thead><tr><th scope=col>PID</th><th scope=col>county</th><th scope=col>state</th><th scope=col>area</th><th scope=col>poptotal</th><th scope=col>popdensity</th><th scope=col>popwhite</th><th scope=col>popblack</th><th scope=col>popamerindian</th><th scope=col>popasian</th><th scope=col>⋯</th><th scope=col>percollege</th><th scope=col>percprof</th><th scope=col>poppovertyknown</th><th scope=col>percpovertyknown</th><th scope=col>percbelowpoverty</th><th scope=col>percchildbelowpovert</th><th scope=col>percadultpoverty</th><th scope=col>percelderlypoverty</th><th scope=col>inmetro</th><th scope=col>category</th></tr></thead>\n",
       "<tbody>\n",
       "\t<tr><td>561      </td><td>ADAMS    </td><td>IL       </td><td>0.052    </td><td>66090    </td><td>1270.9615</td><td>63917    </td><td>1702     </td><td>98       </td><td>249      </td><td>⋯        </td><td>19.63139 </td><td>4.355859 </td><td>63628    </td><td>96.27478 </td><td>13.151443</td><td>18.01172 </td><td>11.009776</td><td>12.443812</td><td>0        </td><td>AAR      </td></tr>\n",
       "\t<tr><td>562      </td><td>ALEXANDER</td><td>IL       </td><td>0.014    </td><td>10626    </td><td> 759.0000</td><td> 7054    </td><td>3496     </td><td>19       </td><td> 48      </td><td>⋯        </td><td>11.24331 </td><td>2.870315 </td><td>10529    </td><td>99.08714 </td><td>32.244278</td><td>45.82651 </td><td>27.385647</td><td>25.228976</td><td>0        </td><td>LHR      </td></tr>\n",
       "\t<tr><td>563      </td><td>BOND     </td><td>IL       </td><td>0.022    </td><td>14991    </td><td> 681.4091</td><td>14477    </td><td> 429     </td><td>35       </td><td> 16      </td><td>⋯        </td><td>17.03382 </td><td>4.488572 </td><td>14235    </td><td>94.95697 </td><td>12.068844</td><td>14.03606 </td><td>10.852090</td><td>12.697410</td><td>0        </td><td>AAR      </td></tr>\n",
       "\t<tr><td>564      </td><td>BOONE    </td><td>IL       </td><td>0.017    </td><td>30806    </td><td>1812.1176</td><td>29344    </td><td> 127     </td><td>46       </td><td>150      </td><td>⋯        </td><td>17.27895 </td><td>4.197800 </td><td>30337    </td><td>98.47757 </td><td> 7.209019</td><td>11.17954 </td><td> 5.536013</td><td> 6.217047</td><td>1        </td><td>ALU      </td></tr>\n",
       "\t<tr><td>565      </td><td>BROWN    </td><td>IL       </td><td>0.018    </td><td> 5836    </td><td> 324.2222</td><td> 5264    </td><td> 547     </td><td>14       </td><td>  5      </td><td>⋯        </td><td>14.47600 </td><td>3.367680 </td><td> 4815    </td><td>82.50514 </td><td>13.520249</td><td>13.02289 </td><td>11.143211</td><td>19.200000</td><td>0        </td><td>AAR      </td></tr>\n",
       "\t<tr><td>566      </td><td>BUREAU   </td><td>IL       </td><td>0.050    </td><td>35688    </td><td> 713.7600</td><td>35157    </td><td>  50     </td><td>65       </td><td>195      </td><td>⋯        </td><td>18.90462 </td><td>3.275891 </td><td>35107    </td><td>98.37200 </td><td>10.399635</td><td>14.15882 </td><td> 8.179287</td><td>11.008586</td><td>0        </td><td>AAR      </td></tr>\n",
       "</tbody>\n",
       "</table>\n"
      ],
      "text/latex": [
       "\\begin{tabular}{r|llllllllllllllllllllllllllll}\n",
       " PID & county & state & area & poptotal & popdensity & popwhite & popblack & popamerindian & popasian & ⋯ & percollege & percprof & poppovertyknown & percpovertyknown & percbelowpoverty & percchildbelowpovert & percadultpoverty & percelderlypoverty & inmetro & category\\\\\n",
       "\\hline\n",
       "\t 561       & ADAMS     & IL        & 0.052     & 66090     & 1270.9615 & 63917     & 1702      & 98        & 249       & ⋯         & 19.63139  & 4.355859  & 63628     & 96.27478  & 13.151443 & 18.01172  & 11.009776 & 12.443812 & 0         & AAR      \\\\\n",
       "\t 562       & ALEXANDER & IL        & 0.014     & 10626     &  759.0000 &  7054     & 3496      & 19        &  48       & ⋯         & 11.24331  & 2.870315  & 10529     & 99.08714  & 32.244278 & 45.82651  & 27.385647 & 25.228976 & 0         & LHR      \\\\\n",
       "\t 563       & BOND      & IL        & 0.022     & 14991     &  681.4091 & 14477     &  429      & 35        &  16       & ⋯         & 17.03382  & 4.488572  & 14235     & 94.95697  & 12.068844 & 14.03606  & 10.852090 & 12.697410 & 0         & AAR      \\\\\n",
       "\t 564       & BOONE     & IL        & 0.017     & 30806     & 1812.1176 & 29344     &  127      & 46        & 150       & ⋯         & 17.27895  & 4.197800  & 30337     & 98.47757  &  7.209019 & 11.17954  &  5.536013 &  6.217047 & 1         & ALU      \\\\\n",
       "\t 565       & BROWN     & IL        & 0.018     &  5836     &  324.2222 &  5264     &  547      & 14        &   5       & ⋯         & 14.47600  & 3.367680  &  4815     & 82.50514  & 13.520249 & 13.02289  & 11.143211 & 19.200000 & 0         & AAR      \\\\\n",
       "\t 566       & BUREAU    & IL        & 0.050     & 35688     &  713.7600 & 35157     &   50      & 65        & 195       & ⋯         & 18.90462  & 3.275891  & 35107     & 98.37200  & 10.399635 & 14.15882  &  8.179287 & 11.008586 & 0         & AAR      \\\\\n",
       "\\end{tabular}\n"
      ],
      "text/markdown": [
       "\n",
       "PID | county | state | area | poptotal | popdensity | popwhite | popblack | popamerindian | popasian | ⋯ | percollege | percprof | poppovertyknown | percpovertyknown | percbelowpoverty | percchildbelowpovert | percadultpoverty | percelderlypoverty | inmetro | category | \n",
       "|---|---|---|---|---|---|\n",
       "| 561       | ADAMS     | IL        | 0.052     | 66090     | 1270.9615 | 63917     | 1702      | 98        | 249       | ⋯         | 19.63139  | 4.355859  | 63628     | 96.27478  | 13.151443 | 18.01172  | 11.009776 | 12.443812 | 0         | AAR       | \n",
       "| 562       | ALEXANDER | IL        | 0.014     | 10626     |  759.0000 |  7054     | 3496      | 19        |  48       | ⋯         | 11.24331  | 2.870315  | 10529     | 99.08714  | 32.244278 | 45.82651  | 27.385647 | 25.228976 | 0         | LHR       | \n",
       "| 563       | BOND      | IL        | 0.022     | 14991     |  681.4091 | 14477     |  429      | 35        |  16       | ⋯         | 17.03382  | 4.488572  | 14235     | 94.95697  | 12.068844 | 14.03606  | 10.852090 | 12.697410 | 0         | AAR       | \n",
       "| 564       | BOONE     | IL        | 0.017     | 30806     | 1812.1176 | 29344     |  127      | 46        | 150       | ⋯         | 17.27895  | 4.197800  | 30337     | 98.47757  |  7.209019 | 11.17954  |  5.536013 |  6.217047 | 1         | ALU       | \n",
       "| 565       | BROWN     | IL        | 0.018     |  5836     |  324.2222 |  5264     |  547      | 14        |   5       | ⋯         | 14.47600  | 3.367680  |  4815     | 82.50514  | 13.520249 | 13.02289  | 11.143211 | 19.200000 | 0         | AAR       | \n",
       "| 566       | BUREAU    | IL        | 0.050     | 35688     |  713.7600 | 35157     |   50      | 65        | 195       | ⋯         | 18.90462  | 3.275891  | 35107     | 98.37200  | 10.399635 | 14.15882  |  8.179287 | 11.008586 | 0         | AAR       | \n",
       "\n",
       "\n"
      ],
      "text/plain": [
       "  PID county    state area  poptotal popdensity popwhite popblack popamerindian\n",
       "1 561 ADAMS     IL    0.052 66090    1270.9615  63917    1702     98           \n",
       "2 562 ALEXANDER IL    0.014 10626     759.0000   7054    3496     19           \n",
       "3 563 BOND      IL    0.022 14991     681.4091  14477     429     35           \n",
       "4 564 BOONE     IL    0.017 30806    1812.1176  29344     127     46           \n",
       "5 565 BROWN     IL    0.018  5836     324.2222   5264     547     14           \n",
       "6 566 BUREAU    IL    0.050 35688     713.7600  35157      50     65           \n",
       "  popasian ⋯ percollege percprof poppovertyknown percpovertyknown\n",
       "1 249      ⋯ 19.63139   4.355859 63628           96.27478        \n",
       "2  48      ⋯ 11.24331   2.870315 10529           99.08714        \n",
       "3  16      ⋯ 17.03382   4.488572 14235           94.95697        \n",
       "4 150      ⋯ 17.27895   4.197800 30337           98.47757        \n",
       "5   5      ⋯ 14.47600   3.367680  4815           82.50514        \n",
       "6 195      ⋯ 18.90462   3.275891 35107           98.37200        \n",
       "  percbelowpoverty percchildbelowpovert percadultpoverty percelderlypoverty\n",
       "1 13.151443        18.01172             11.009776        12.443812         \n",
       "2 32.244278        45.82651             27.385647        25.228976         \n",
       "3 12.068844        14.03606             10.852090        12.697410         \n",
       "4  7.209019        11.17954              5.536013         6.217047         \n",
       "5 13.520249        13.02289             11.143211        19.200000         \n",
       "6 10.399635        14.15882              8.179287        11.008586         \n",
       "  inmetro category\n",
       "1 0       AAR     \n",
       "2 0       LHR     \n",
       "3 0       AAR     \n",
       "4 1       ALU     \n",
       "5 0       AAR     \n",
       "6 0       AAR     "
      ]
     },
     "metadata": {},
     "output_type": "display_data"
    }
   ],
   "source": [
    "#install.packages('ggplot2')\n",
    "library(ggplot2)\n",
    "\n",
    "#data(\"mpg\", package = \"ggplot2\")\n",
    "data(\"midwest\", package = \"ggplot2\")\n",
    "\n",
    "dat = midwest;\n",
    "typeof(dat)\n",
    "dim(dat)\n",
    "head(dat)\n",
    "\n",
    "#detach(\"package:ggplot2\")"
   ]
  },
  {
   "cell_type": "markdown",
   "metadata": {},
   "source": [
    "<font size=\"5\" color=\"4B0082\" face=\"calibri\">\n",
    "<b> Subsetting </b>\n",
    "</font>\n",
    "<br>\n",
    "<font size=\"4\" color=\"black\" face=\"calibri\">\n",
    "XXX <br>\n",
    "XXX.\n",
    "</font>"
   ]
  },
  {
   "cell_type": "code",
   "execution_count": 63,
   "metadata": {},
   "outputs": [
    {
     "name": "stdout",
     "output_type": "stream",
     "text": [
      " [1] \"PID\"                  \"county\"               \"state\"               \n",
      " [4] \"area\"                 \"poptotal\"             \"popdensity\"          \n",
      " [7] \"popwhite\"             \"popblack\"             \"popamerindian\"       \n",
      "[10] \"popasian\"             \"popother\"             \"percwhite\"           \n",
      "[13] \"percblack\"            \"percamerindan\"        \"percasian\"           \n",
      "[16] \"percother\"            \"popadults\"            \"perchsd\"             \n",
      "[19] \"percollege\"           \"percprof\"             \"poppovertyknown\"     \n",
      "[22] \"percpovertyknown\"     \"percbelowpoverty\"     \"percchildbelowpovert\"\n",
      "[25] \"percadultpoverty\"     \"percelderlypoverty\"   \"inmetro\"             \n",
      "[28] \"category\"            \n"
     ]
    }
   ],
   "source": [
    "print(colnames(dat))\n",
    "#rownames(dat)"
   ]
  },
  {
   "cell_type": "code",
   "execution_count": 64,
   "metadata": {},
   "outputs": [
    {
     "data": {
      "text/html": [
       "<table>\n",
       "<thead><tr><th scope=col>PID</th><th scope=col>county</th><th scope=col>state</th><th scope=col>area</th><th scope=col>poptotal</th><th scope=col>popdensity</th><th scope=col>popwhite</th><th scope=col>popblack</th><th scope=col>popamerindian</th><th scope=col>popasian</th><th scope=col>⋯</th><th scope=col>percollege</th><th scope=col>percprof</th><th scope=col>poppovertyknown</th><th scope=col>percpovertyknown</th><th scope=col>percbelowpoverty</th><th scope=col>percchildbelowpovert</th><th scope=col>percadultpoverty</th><th scope=col>percelderlypoverty</th><th scope=col>inmetro</th><th scope=col>category</th></tr></thead>\n",
       "<tbody>\n",
       "\t<tr><td>2009     </td><td>ADAMS    </td><td>OH       </td><td>0.035    </td><td> 25371   </td><td> 724.8857</td><td>25212    </td><td>   47    </td><td> 67      </td><td>  30     </td><td>⋯        </td><td> 8.74173 </td><td> 2.158135</td><td> 25028   </td><td>98.64806 </td><td>28.52805 </td><td>35.024685</td><td>25.752259</td><td>26.180060</td><td>0        </td><td>LHR      </td></tr>\n",
       "\t<tr><td>2010     </td><td>ALLEN    </td><td>OH       </td><td>0.024    </td><td>109755   </td><td>4573.1250</td><td>96177    </td><td>12313    </td><td>202      </td><td> 572     </td><td>⋯        </td><td>17.36606 </td><td> 3.479308</td><td>104543   </td><td>95.25124 </td><td>12.66656 </td><td>17.857986</td><td>10.567921</td><td>10.744423</td><td>1        </td><td>AAU      </td></tr>\n",
       "\t<tr><td>2011     </td><td>ASHLAND  </td><td>OH       </td><td>0.025    </td><td> 47507   </td><td>1900.2800</td><td>46686    </td><td>  460    </td><td> 49      </td><td> 271     </td><td>⋯        </td><td>17.26695 </td><td> 4.159440</td><td> 45486   </td><td>95.74589 </td><td>11.34415 </td><td>17.228991</td><td> 9.159434</td><td> 8.674284</td><td>0        </td><td>AAR      </td></tr>\n",
       "\t<tr><td>2012     </td><td>ASHTABULA</td><td>OH       </td><td>0.041    </td><td> 99821   </td><td>2434.6585</td><td>95465    </td><td> 3138    </td><td>196      </td><td> 350     </td><td>⋯        </td><td>13.24354 </td><td> 2.883320</td><td> 97541   </td><td>97.71591 </td><td>16.11733 </td><td>23.818625</td><td>13.669953</td><td>11.907768</td><td>1        </td><td>AAU      </td></tr>\n",
       "\t<tr><td>2013     </td><td>ATHENS   </td><td>OH       </td><td>0.030    </td><td> 59549   </td><td>1984.9667</td><td>56163    </td><td> 1678    </td><td>167      </td><td>1374     </td><td>⋯        </td><td>29.14941 </td><td>12.044799</td><td> 51002   </td><td>85.64711 </td><td>28.67339 </td><td>29.258116</td><td>31.744281</td><td>14.324955</td><td>0        </td><td>AHR      </td></tr>\n",
       "\t<tr><td>2014     </td><td>AUGLAIZE </td><td>OH       </td><td>0.024    </td><td> 44585   </td><td>1857.7083</td><td>44225    </td><td>   66    </td><td> 50      </td><td> 177     </td><td>⋯        </td><td>16.17647 </td><td> 3.244689</td><td> 43911   </td><td>98.48828 </td><td> 6.26950 </td><td> 8.142945</td><td> 5.283800</td><td> 6.088751</td><td>1        </td><td>ALU      </td></tr>\n",
       "</tbody>\n",
       "</table>\n"
      ],
      "text/latex": [
       "\\begin{tabular}{r|llllllllllllllllllllllllllll}\n",
       " PID & county & state & area & poptotal & popdensity & popwhite & popblack & popamerindian & popasian & ⋯ & percollege & percprof & poppovertyknown & percpovertyknown & percbelowpoverty & percchildbelowpovert & percadultpoverty & percelderlypoverty & inmetro & category\\\\\n",
       "\\hline\n",
       "\t 2009      & ADAMS     & OH        & 0.035     &  25371    &  724.8857 & 25212     &    47     &  67       &   30      & ⋯         &  8.74173  &  2.158135 &  25028    & 98.64806  & 28.52805  & 35.024685 & 25.752259 & 26.180060 & 0         & LHR      \\\\\n",
       "\t 2010      & ALLEN     & OH        & 0.024     & 109755    & 4573.1250 & 96177     & 12313     & 202       &  572      & ⋯         & 17.36606  &  3.479308 & 104543    & 95.25124  & 12.66656  & 17.857986 & 10.567921 & 10.744423 & 1         & AAU      \\\\\n",
       "\t 2011      & ASHLAND   & OH        & 0.025     &  47507    & 1900.2800 & 46686     &   460     &  49       &  271      & ⋯         & 17.26695  &  4.159440 &  45486    & 95.74589  & 11.34415  & 17.228991 &  9.159434 &  8.674284 & 0         & AAR      \\\\\n",
       "\t 2012      & ASHTABULA & OH        & 0.041     &  99821    & 2434.6585 & 95465     &  3138     & 196       &  350      & ⋯         & 13.24354  &  2.883320 &  97541    & 97.71591  & 16.11733  & 23.818625 & 13.669953 & 11.907768 & 1         & AAU      \\\\\n",
       "\t 2013      & ATHENS    & OH        & 0.030     &  59549    & 1984.9667 & 56163     &  1678     & 167       & 1374      & ⋯         & 29.14941  & 12.044799 &  51002    & 85.64711  & 28.67339  & 29.258116 & 31.744281 & 14.324955 & 0         & AHR      \\\\\n",
       "\t 2014      & AUGLAIZE  & OH        & 0.024     &  44585    & 1857.7083 & 44225     &    66     &  50       &  177      & ⋯         & 16.17647  &  3.244689 &  43911    & 98.48828  &  6.26950  &  8.142945 &  5.283800 &  6.088751 & 1         & ALU      \\\\\n",
       "\\end{tabular}\n"
      ],
      "text/markdown": [
       "\n",
       "PID | county | state | area | poptotal | popdensity | popwhite | popblack | popamerindian | popasian | ⋯ | percollege | percprof | poppovertyknown | percpovertyknown | percbelowpoverty | percchildbelowpovert | percadultpoverty | percelderlypoverty | inmetro | category | \n",
       "|---|---|---|---|---|---|\n",
       "| 2009      | ADAMS     | OH        | 0.035     |  25371    |  724.8857 | 25212     |    47     |  67       |   30      | ⋯         |  8.74173  |  2.158135 |  25028    | 98.64806  | 28.52805  | 35.024685 | 25.752259 | 26.180060 | 0         | LHR       | \n",
       "| 2010      | ALLEN     | OH        | 0.024     | 109755    | 4573.1250 | 96177     | 12313     | 202       |  572      | ⋯         | 17.36606  |  3.479308 | 104543    | 95.25124  | 12.66656  | 17.857986 | 10.567921 | 10.744423 | 1         | AAU       | \n",
       "| 2011      | ASHLAND   | OH        | 0.025     |  47507    | 1900.2800 | 46686     |   460     |  49       |  271      | ⋯         | 17.26695  |  4.159440 |  45486    | 95.74589  | 11.34415  | 17.228991 |  9.159434 |  8.674284 | 0         | AAR       | \n",
       "| 2012      | ASHTABULA | OH        | 0.041     |  99821    | 2434.6585 | 95465     |  3138     | 196       |  350      | ⋯         | 13.24354  |  2.883320 |  97541    | 97.71591  | 16.11733  | 23.818625 | 13.669953 | 11.907768 | 1         | AAU       | \n",
       "| 2013      | ATHENS    | OH        | 0.030     |  59549    | 1984.9667 | 56163     |  1678     | 167       | 1374      | ⋯         | 29.14941  | 12.044799 |  51002    | 85.64711  | 28.67339  | 29.258116 | 31.744281 | 14.324955 | 0         | AHR       | \n",
       "| 2014      | AUGLAIZE  | OH        | 0.024     |  44585    | 1857.7083 | 44225     |    66     |  50       |  177      | ⋯         | 16.17647  |  3.244689 |  43911    | 98.48828  |  6.26950  |  8.142945 |  5.283800 |  6.088751 | 1         | ALU       | \n",
       "\n",
       "\n"
      ],
      "text/plain": [
       "  PID  county    state area  poptotal popdensity popwhite popblack\n",
       "1 2009 ADAMS     OH    0.035  25371    724.8857  25212       47   \n",
       "2 2010 ALLEN     OH    0.024 109755   4573.1250  96177    12313   \n",
       "3 2011 ASHLAND   OH    0.025  47507   1900.2800  46686      460   \n",
       "4 2012 ASHTABULA OH    0.041  99821   2434.6585  95465     3138   \n",
       "5 2013 ATHENS    OH    0.030  59549   1984.9667  56163     1678   \n",
       "6 2014 AUGLAIZE  OH    0.024  44585   1857.7083  44225       66   \n",
       "  popamerindian popasian ⋯ percollege percprof  poppovertyknown\n",
       "1  67             30     ⋯  8.74173    2.158135  25028         \n",
       "2 202            572     ⋯ 17.36606    3.479308 104543         \n",
       "3  49            271     ⋯ 17.26695    4.159440  45486         \n",
       "4 196            350     ⋯ 13.24354    2.883320  97541         \n",
       "5 167           1374     ⋯ 29.14941   12.044799  51002         \n",
       "6  50            177     ⋯ 16.17647    3.244689  43911         \n",
       "  percpovertyknown percbelowpoverty percchildbelowpovert percadultpoverty\n",
       "1 98.64806         28.52805         35.024685            25.752259       \n",
       "2 95.25124         12.66656         17.857986            10.567921       \n",
       "3 95.74589         11.34415         17.228991             9.159434       \n",
       "4 97.71591         16.11733         23.818625            13.669953       \n",
       "5 85.64711         28.67339         29.258116            31.744281       \n",
       "6 98.48828          6.26950          8.142945             5.283800       \n",
       "  percelderlypoverty inmetro category\n",
       "1 26.180060          0       LHR     \n",
       "2 10.744423          1       AAU     \n",
       "3  8.674284          0       AAR     \n",
       "4 11.907768          1       AAU     \n",
       "5 14.324955          0       AHR     \n",
       "6  6.088751          1       ALU     "
      ]
     },
     "metadata": {},
     "output_type": "display_data"
    },
    {
     "data": {
      "text/html": [
       "<ol class=list-inline>\n",
       "\t<li>278</li>\n",
       "\t<li>279</li>\n",
       "\t<li>280</li>\n",
       "\t<li>281</li>\n",
       "\t<li>282</li>\n",
       "\t<li>283</li>\n",
       "\t<li>284</li>\n",
       "\t<li>285</li>\n",
       "\t<li>286</li>\n",
       "\t<li>287</li>\n",
       "</ol>\n"
      ],
      "text/latex": [
       "\\begin{enumerate*}\n",
       "\\item 278\n",
       "\\item 279\n",
       "\\item 280\n",
       "\\item 281\n",
       "\\item 282\n",
       "\\item 283\n",
       "\\item 284\n",
       "\\item 285\n",
       "\\item 286\n",
       "\\item 287\n",
       "\\end{enumerate*}\n"
      ],
      "text/markdown": [
       "1. 278\n",
       "2. 279\n",
       "3. 280\n",
       "4. 281\n",
       "5. 282\n",
       "6. 283\n",
       "7. 284\n",
       "8. 285\n",
       "9. 286\n",
       "10. 287\n",
       "\n",
       "\n"
      ],
      "text/plain": [
       " [1] 278 279 280 281 282 283 284 285 286 287"
      ]
     },
     "metadata": {},
     "output_type": "display_data"
    }
   ],
   "source": [
    "#unique(dat$state)\n",
    "\n",
    "datOH = dat[dat$state==\"OH\",];head(datOH)\n",
    "indexOH = which(dat$state==\"OH\");indexOH[1:10]\n",
    "\n",
    "datminusOH = dat[-indexOH,];"
   ]
  },
  {
   "cell_type": "code",
   "execution_count": 65,
   "metadata": {},
   "outputs": [
    {
     "data": {
      "text/html": [
       "<table>\n",
       "<thead><tr><th scope=col>county</th><th scope=col>state</th><th scope=col>poptotal</th><th scope=col>category</th></tr></thead>\n",
       "<tbody>\n",
       "\t<tr><td>ADAMS  </td><td>IL     </td><td>66090  </td><td>AAR    </td></tr>\n",
       "\t<tr><td>BOND   </td><td>IL     </td><td>14991  </td><td>AAR    </td></tr>\n",
       "\t<tr><td>BROWN  </td><td>IL     </td><td> 5836  </td><td>AAR    </td></tr>\n",
       "\t<tr><td>BUREAU </td><td>IL     </td><td>35688  </td><td>AAR    </td></tr>\n",
       "\t<tr><td>CARROLL</td><td>IL     </td><td>16805  </td><td>AAR    </td></tr>\n",
       "\t<tr><td>CASS   </td><td>IL     </td><td>13437  </td><td>AAR    </td></tr>\n",
       "</tbody>\n",
       "</table>\n"
      ],
      "text/latex": [
       "\\begin{tabular}{r|llll}\n",
       " county & state & poptotal & category\\\\\n",
       "\\hline\n",
       "\t ADAMS   & IL      & 66090   & AAR    \\\\\n",
       "\t BOND    & IL      & 14991   & AAR    \\\\\n",
       "\t BROWN   & IL      &  5836   & AAR    \\\\\n",
       "\t BUREAU  & IL      & 35688   & AAR    \\\\\n",
       "\t CARROLL & IL      & 16805   & AAR    \\\\\n",
       "\t CASS    & IL      & 13437   & AAR    \\\\\n",
       "\\end{tabular}\n"
      ],
      "text/markdown": [
       "\n",
       "county | state | poptotal | category | \n",
       "|---|---|---|---|---|---|\n",
       "| ADAMS   | IL      | 66090   | AAR     | \n",
       "| BOND    | IL      | 14991   | AAR     | \n",
       "| BROWN   | IL      |  5836   | AAR     | \n",
       "| BUREAU  | IL      | 35688   | AAR     | \n",
       "| CARROLL | IL      | 16805   | AAR     | \n",
       "| CASS    | IL      | 13437   | AAR     | \n",
       "\n",
       "\n"
      ],
      "text/plain": [
       "  county  state poptotal category\n",
       "1 ADAMS   IL    66090    AAR     \n",
       "2 BOND    IL    14991    AAR     \n",
       "3 BROWN   IL     5836    AAR     \n",
       "4 BUREAU  IL    35688    AAR     \n",
       "5 CARROLL IL    16805    AAR     \n",
       "6 CASS    IL    13437    AAR     "
      ]
     },
     "metadata": {},
     "output_type": "display_data"
    }
   ],
   "source": [
    "#install.packages('dplyr')\n",
    "suppressMessages(library(dplyr))\n",
    "\n",
    "#unique(dat$category)\n",
    "\n",
    "datsubAAR = dat %>% \n",
    "    filter(category==\"AAR\") %>%\n",
    "    select(county, state, poptotal, category)\n",
    "head(datsubAAR)"
   ]
  },
  {
   "cell_type": "markdown",
   "metadata": {},
   "source": [
    "<font size=\"5\" color=\"4B0082\" face=\"calibri\">\n",
    "<b> Dataframes </b>\n",
    "</font>\n",
    "<br>\n",
    "<font size=\"4\" color=\"black\" face=\"calibri\">\n",
    "XXX. <br>\n",
    "XXX.\n",
    "</font>"
   ]
  },
  {
   "cell_type": "code",
   "execution_count": 66,
   "metadata": {},
   "outputs": [
    {
     "data": {
      "text/html": [
       "<table>\n",
       "<thead><tr><th scope=col>PID</th><th scope=col>county</th><th scope=col>state</th><th scope=col>area</th><th scope=col>poptotal</th><th scope=col>popdensity</th><th scope=col>popwhite</th><th scope=col>popblack</th><th scope=col>popamerindian</th><th scope=col>popasian</th><th scope=col>⋯</th><th scope=col>percollege</th><th scope=col>percprof</th><th scope=col>poppovertyknown</th><th scope=col>percpovertyknown</th><th scope=col>percbelowpoverty</th><th scope=col>percchildbelowpovert</th><th scope=col>percadultpoverty</th><th scope=col>percelderlypoverty</th><th scope=col>inmetro</th><th scope=col>category</th></tr></thead>\n",
       "<tbody>\n",
       "\t<tr><td>561      </td><td>ADAMS    </td><td>IL       </td><td>0.052    </td><td>66090    </td><td>1270.9615</td><td>63917    </td><td>1702     </td><td>98       </td><td>249      </td><td>⋯        </td><td>19.63139 </td><td>4.355859 </td><td>63628    </td><td>96.27478 </td><td>13.151443</td><td>18.01172 </td><td>11.009776</td><td>12.443812</td><td>0        </td><td>AAR      </td></tr>\n",
       "\t<tr><td>562      </td><td>ALEXANDER</td><td>IL       </td><td>0.014    </td><td>10626    </td><td> 759.0000</td><td> 7054    </td><td>3496     </td><td>19       </td><td> 48      </td><td>⋯        </td><td>11.24331 </td><td>2.870315 </td><td>10529    </td><td>99.08714 </td><td>32.244278</td><td>45.82651 </td><td>27.385647</td><td>25.228976</td><td>0        </td><td>LHR      </td></tr>\n",
       "\t<tr><td>563      </td><td>BOND     </td><td>IL       </td><td>0.022    </td><td>14991    </td><td> 681.4091</td><td>14477    </td><td> 429     </td><td>35       </td><td> 16      </td><td>⋯        </td><td>17.03382 </td><td>4.488572 </td><td>14235    </td><td>94.95697 </td><td>12.068844</td><td>14.03606 </td><td>10.852090</td><td>12.697410</td><td>0        </td><td>AAR      </td></tr>\n",
       "\t<tr><td>564      </td><td>BOONE    </td><td>IL       </td><td>0.017    </td><td>30806    </td><td>1812.1176</td><td>29344    </td><td> 127     </td><td>46       </td><td>150      </td><td>⋯        </td><td>17.27895 </td><td>4.197800 </td><td>30337    </td><td>98.47757 </td><td> 7.209019</td><td>11.17954 </td><td> 5.536013</td><td> 6.217047</td><td>1        </td><td>ALU      </td></tr>\n",
       "\t<tr><td>565      </td><td>BROWN    </td><td>IL       </td><td>0.018    </td><td> 5836    </td><td> 324.2222</td><td> 5264    </td><td> 547     </td><td>14       </td><td>  5      </td><td>⋯        </td><td>14.47600 </td><td>3.367680 </td><td> 4815    </td><td>82.50514 </td><td>13.520249</td><td>13.02289 </td><td>11.143211</td><td>19.200000</td><td>0        </td><td>AAR      </td></tr>\n",
       "\t<tr><td>566      </td><td>BUREAU   </td><td>IL       </td><td>0.050    </td><td>35688    </td><td> 713.7600</td><td>35157    </td><td>  50     </td><td>65       </td><td>195      </td><td>⋯        </td><td>18.90462 </td><td>3.275891 </td><td>35107    </td><td>98.37200 </td><td>10.399635</td><td>14.15882 </td><td> 8.179287</td><td>11.008586</td><td>0        </td><td>AAR      </td></tr>\n",
       "</tbody>\n",
       "</table>\n"
      ],
      "text/latex": [
       "\\begin{tabular}{r|llllllllllllllllllllllllllll}\n",
       " PID & county & state & area & poptotal & popdensity & popwhite & popblack & popamerindian & popasian & ⋯ & percollege & percprof & poppovertyknown & percpovertyknown & percbelowpoverty & percchildbelowpovert & percadultpoverty & percelderlypoverty & inmetro & category\\\\\n",
       "\\hline\n",
       "\t 561       & ADAMS     & IL        & 0.052     & 66090     & 1270.9615 & 63917     & 1702      & 98        & 249       & ⋯         & 19.63139  & 4.355859  & 63628     & 96.27478  & 13.151443 & 18.01172  & 11.009776 & 12.443812 & 0         & AAR      \\\\\n",
       "\t 562       & ALEXANDER & IL        & 0.014     & 10626     &  759.0000 &  7054     & 3496      & 19        &  48       & ⋯         & 11.24331  & 2.870315  & 10529     & 99.08714  & 32.244278 & 45.82651  & 27.385647 & 25.228976 & 0         & LHR      \\\\\n",
       "\t 563       & BOND      & IL        & 0.022     & 14991     &  681.4091 & 14477     &  429      & 35        &  16       & ⋯         & 17.03382  & 4.488572  & 14235     & 94.95697  & 12.068844 & 14.03606  & 10.852090 & 12.697410 & 0         & AAR      \\\\\n",
       "\t 564       & BOONE     & IL        & 0.017     & 30806     & 1812.1176 & 29344     &  127      & 46        & 150       & ⋯         & 17.27895  & 4.197800  & 30337     & 98.47757  &  7.209019 & 11.17954  &  5.536013 &  6.217047 & 1         & ALU      \\\\\n",
       "\t 565       & BROWN     & IL        & 0.018     &  5836     &  324.2222 &  5264     &  547      & 14        &   5       & ⋯         & 14.47600  & 3.367680  &  4815     & 82.50514  & 13.520249 & 13.02289  & 11.143211 & 19.200000 & 0         & AAR      \\\\\n",
       "\t 566       & BUREAU    & IL        & 0.050     & 35688     &  713.7600 & 35157     &   50      & 65        & 195       & ⋯         & 18.90462  & 3.275891  & 35107     & 98.37200  & 10.399635 & 14.15882  &  8.179287 & 11.008586 & 0         & AAR      \\\\\n",
       "\\end{tabular}\n"
      ],
      "text/markdown": [
       "\n",
       "PID | county | state | area | poptotal | popdensity | popwhite | popblack | popamerindian | popasian | ⋯ | percollege | percprof | poppovertyknown | percpovertyknown | percbelowpoverty | percchildbelowpovert | percadultpoverty | percelderlypoverty | inmetro | category | \n",
       "|---|---|---|---|---|---|\n",
       "| 561       | ADAMS     | IL        | 0.052     | 66090     | 1270.9615 | 63917     | 1702      | 98        | 249       | ⋯         | 19.63139  | 4.355859  | 63628     | 96.27478  | 13.151443 | 18.01172  | 11.009776 | 12.443812 | 0         | AAR       | \n",
       "| 562       | ALEXANDER | IL        | 0.014     | 10626     |  759.0000 |  7054     | 3496      | 19        |  48       | ⋯         | 11.24331  | 2.870315  | 10529     | 99.08714  | 32.244278 | 45.82651  | 27.385647 | 25.228976 | 0         | LHR       | \n",
       "| 563       | BOND      | IL        | 0.022     | 14991     |  681.4091 | 14477     |  429      | 35        |  16       | ⋯         | 17.03382  | 4.488572  | 14235     | 94.95697  | 12.068844 | 14.03606  | 10.852090 | 12.697410 | 0         | AAR       | \n",
       "| 564       | BOONE     | IL        | 0.017     | 30806     | 1812.1176 | 29344     |  127      | 46        | 150       | ⋯         | 17.27895  | 4.197800  | 30337     | 98.47757  |  7.209019 | 11.17954  |  5.536013 |  6.217047 | 1         | ALU       | \n",
       "| 565       | BROWN     | IL        | 0.018     |  5836     |  324.2222 |  5264     |  547      | 14        |   5       | ⋯         | 14.47600  | 3.367680  |  4815     | 82.50514  | 13.520249 | 13.02289  | 11.143211 | 19.200000 | 0         | AAR       | \n",
       "| 566       | BUREAU    | IL        | 0.050     | 35688     |  713.7600 | 35157     |   50      | 65        | 195       | ⋯         | 18.90462  | 3.275891  | 35107     | 98.37200  | 10.399635 | 14.15882  |  8.179287 | 11.008586 | 0         | AAR       | \n",
       "\n",
       "\n"
      ],
      "text/plain": [
       "  PID county    state area  poptotal popdensity popwhite popblack popamerindian\n",
       "1 561 ADAMS     IL    0.052 66090    1270.9615  63917    1702     98           \n",
       "2 562 ALEXANDER IL    0.014 10626     759.0000   7054    3496     19           \n",
       "3 563 BOND      IL    0.022 14991     681.4091  14477     429     35           \n",
       "4 564 BOONE     IL    0.017 30806    1812.1176  29344     127     46           \n",
       "5 565 BROWN     IL    0.018  5836     324.2222   5264     547     14           \n",
       "6 566 BUREAU    IL    0.050 35688     713.7600  35157      50     65           \n",
       "  popasian ⋯ percollege percprof poppovertyknown percpovertyknown\n",
       "1 249      ⋯ 19.63139   4.355859 63628           96.27478        \n",
       "2  48      ⋯ 11.24331   2.870315 10529           99.08714        \n",
       "3  16      ⋯ 17.03382   4.488572 14235           94.95697        \n",
       "4 150      ⋯ 17.27895   4.197800 30337           98.47757        \n",
       "5   5      ⋯ 14.47600   3.367680  4815           82.50514        \n",
       "6 195      ⋯ 18.90462   3.275891 35107           98.37200        \n",
       "  percbelowpoverty percchildbelowpovert percadultpoverty percelderlypoverty\n",
       "1 13.151443        18.01172             11.009776        12.443812         \n",
       "2 32.244278        45.82651             27.385647        25.228976         \n",
       "3 12.068844        14.03606             10.852090        12.697410         \n",
       "4  7.209019        11.17954              5.536013         6.217047         \n",
       "5 13.520249        13.02289             11.143211        19.200000         \n",
       "6 10.399635        14.15882              8.179287        11.008586         \n",
       "  inmetro category\n",
       "1 0       AAR     \n",
       "2 0       LHR     \n",
       "3 0       AAR     \n",
       "4 1       ALU     \n",
       "5 0       AAR     \n",
       "6 0       AAR     "
      ]
     },
     "metadata": {},
     "output_type": "display_data"
    }
   ],
   "source": [
    "head(dat)"
   ]
  },
  {
   "cell_type": "markdown",
   "metadata": {},
   "source": [
    "<font size=\"5\" color=\"4B0082\" face=\"calibri\">\n",
    "<b> Plotting </b>\n",
    "</font>\n",
    "<br>\n",
    "<font size=\"4\" color=\"black\" face=\"calibri\">\n",
    "For visualizations 'ggplot2' is preferred over the base plotting system.<br>\n",
    "XXX (layers).\n",
    "</font>"
   ]
  },
  {
   "cell_type": "code",
   "execution_count": 67,
   "metadata": {},
   "outputs": [
    {
     "data": {},
     "metadata": {},
     "output_type": "display_data"
    },
    {
     "data": {
      "image/png": "[encoded data removed]",
      "text/plain": [
       "plot without title"
      ]
     },
     "metadata": {},
     "output_type": "display_data"
    }
   ],
   "source": [
    "plt1 = ggplot(data=dat, aes(x=area, y=poptotal, color=state)) +\n",
    "    geom_point() + ggtitle(\"plot1\") +\n",
    "    theme(\n",
    "        axis.title = element_text(face=\"bold\", size=9),\n",
    "        axis.text = element_text(size=7),\n",
    "        legend.title = element_text(face=\"bold\", size=9),\n",
    "        legend.text = element_text(size=7),\n",
    "        legend.position = \"bottom\",\n",
    "        plot.title = element_text(face=\"bold\", size=11)\n",
    "    )\n",
    "    \n",
    "plt1"
   ]
  },
  {
   "cell_type": "code",
   "execution_count": 68,
   "metadata": {},
   "outputs": [
    {
     "data": {},
     "metadata": {},
     "output_type": "display_data"
    },
    {
     "data": {
      "image/png": "[encoded data removed]",
      "text/plain": [
       "plot without title"
      ]
     },
     "metadata": {},
     "output_type": "display_data"
    }
   ],
   "source": [
    "plt2 = ggplot(data=dat, aes(x=poptotal, y=popasian)) +\n",
    "    geom_point(aes(color=county)) + ggtitle(\"plot2\") +\n",
    "    facet_wrap(~state, scales=\"fixed\", nrow=2) +\n",
    "    #facet_wrap(~state, scales=\"free\", nrow=2) +\n",
    "    theme(\n",
    "        axis.title = element_text(face=\"bold\", size=9),\n",
    "        axis.text = element_text(size=7),\n",
    "        legend.title = element_text(face=\"bold\", size=9),\n",
    "        legend.text = element_text(size=7),\n",
    "        legend.position = \"none\",\n",
    "        strip.text=element_text(face=\"italic\", size=8),\n",
    "        plot.title = element_text(face=\"bold\", size=11)\n",
    "    )\n",
    "    \n",
    "plt2"
   ]
  },
  {
   "cell_type": "code",
   "execution_count": 84,
   "metadata": {
    "scrolled": true
   },
   "outputs": [
    {
     "data": {},
     "metadata": {},
     "output_type": "display_data"
    },
    {
     "data": {
      "image/png": "[encoded data removed]",
      "text/plain": [
       "plot without title"
      ]
     },
     "metadata": {},
     "output_type": "display_data"
    }
   ],
   "source": [
    "plt3 = ggplot(data=dat, aes(x=poptotal, y=popasian)) +\n",
    "    geom_point(aes(color=county)) + ggtitle(\"plot3\") +\n",
    "    stat_smooth(method = \"lm\", formula=y~x, size=1, se=T, colour=\"black\") +\n",
    "    stat_smooth(aes(group=state), method = \"loess\", formula=y~x, size=1, se=T, colour=\"red\") +\n",
    "    #facet_wrap(~state, scales=\"fixed\", nrow=2) +\n",
    "    facet_wrap(~state, scales=\"free\", nrow=2) +\n",
    "    theme(\n",
    "        axis.title = element_text(face=\"bold\", size=9),\n",
    "        axis.text = element_text(size=7),\n",
    "        legend.title = element_text(face=\"bold\", size=9),\n",
    "        legend.text = element_text(size=7),\n",
    "        legend.position = \"none\",\n",
    "        strip.text=element_text(face=\"italic\", size=8),\n",
    "        plot.title = element_text(face=\"bold\", size=11)\n",
    "    )\n",
    "    \n",
    "plt3"
   ]
  },
  {
   "cell_type": "code",
   "execution_count": 70,
   "metadata": {},
   "outputs": [
    {
     "data": {},
     "metadata": {},
     "output_type": "display_data"
    },
    {
     "data": {},
     "metadata": {},
     "output_type": "display_data"
    },
    {
     "data": {},
     "metadata": {},
     "output_type": "display_data"
    },
    {
     "data": {
      "text/html": [
       "<strong>png:</strong> 2"
      ],
      "text/latex": [
       "\\textbf{png:} 2"
      ],
      "text/markdown": [
       "**png:** 2"
      ],
      "text/plain": [
       "png \n",
       "  2 "
      ]
     },
     "metadata": {},
     "output_type": "display_data"
    }
   ],
   "source": [
    "pdf(\"Figures.pdf\", width=40, height=20)\n",
    "plt1\n",
    "plt2\n",
    "plt3\n",
    "dev.off()\n",
    "\n",
    "#ggsave()"
   ]
  },
  {
   "cell_type": "markdown",
   "metadata": {},
   "source": [
    "<font size=\"5\" color=\"4B0082\" face=\"calibri\">\n",
    "<b> Saving</b>\n",
    "</font>\n",
    "<br>\n",
    "<font size=\"4\" color=\"black\" face=\"calibri\">\n",
    "XXX. <br>\n",
    "XXX.\n",
    "</font>"
   ]
  },
  {
   "cell_type": "code",
   "execution_count": 33,
   "metadata": {},
   "outputs": [
    {
     "data": {
      "text/html": [
       "<ol class=list-inline>\n",
       "\t<li>'calculate_SE'</li>\n",
       "\t<li>'colMean'</li>\n",
       "\t<li>'dat'</li>\n",
       "\t<li>'datminusOH'</li>\n",
       "\t<li>'datOH'</li>\n",
       "\t<li>'datsubAAR'</li>\n",
       "\t<li>'i'</li>\n",
       "\t<li>'indexOH'</li>\n",
       "\t<li>'midwest'</li>\n",
       "\t<li>'plt1'</li>\n",
       "\t<li>'plt2'</li>\n",
       "\t<li>'plt3'</li>\n",
       "\t<li>'rowSE'</li>\n",
       "\t<li>'x'</li>\n",
       "\t<li>'X'</li>\n",
       "\t<li>'y'</li>\n",
       "</ol>\n"
      ],
      "text/latex": [
       "\\begin{enumerate*}\n",
       "\\item 'calculate\\_SE'\n",
       "\\item 'colMean'\n",
       "\\item 'dat'\n",
       "\\item 'datminusOH'\n",
       "\\item 'datOH'\n",
       "\\item 'datsubAAR'\n",
       "\\item 'i'\n",
       "\\item 'indexOH'\n",
       "\\item 'midwest'\n",
       "\\item 'plt1'\n",
       "\\item 'plt2'\n",
       "\\item 'plt3'\n",
       "\\item 'rowSE'\n",
       "\\item 'x'\n",
       "\\item 'X'\n",
       "\\item 'y'\n",
       "\\end{enumerate*}\n"
      ],
      "text/markdown": [
       "1. 'calculate_SE'\n",
       "2. 'colMean'\n",
       "3. 'dat'\n",
       "4. 'datminusOH'\n",
       "5. 'datOH'\n",
       "6. 'datsubAAR'\n",
       "7. 'i'\n",
       "8. 'indexOH'\n",
       "9. 'midwest'\n",
       "10. 'plt1'\n",
       "11. 'plt2'\n",
       "12. 'plt3'\n",
       "13. 'rowSE'\n",
       "14. 'x'\n",
       "15. 'X'\n",
       "16. 'y'\n",
       "\n",
       "\n"
      ],
      "text/plain": [
       " [1] \"calculate_SE\" \"colMean\"      \"dat\"          \"datminusOH\"   \"datOH\"       \n",
       " [6] \"datsubAAR\"    \"i\"            \"indexOH\"      \"midwest\"      \"plt1\"        \n",
       "[11] \"plt2\"         \"plt3\"         \"rowSE\"        \"x\"            \"X\"           \n",
       "[16] \"y\"           "
      ]
     },
     "metadata": {},
     "output_type": "display_data"
    }
   ],
   "source": [
    "ls()"
   ]
  },
  {
   "cell_type": "code",
   "execution_count": 34,
   "metadata": {
    "collapsed": true
   },
   "outputs": [],
   "source": [
    "save.image(\"05_29_2019.RData\")\n",
    "#load(\"05_29_2019.RData\")\n",
    "\n",
    "#library(session);\n",
    "#save.session(\"RSession.Rda\");\n",
    "#restore.session(\"RSession.Rda\");"
   ]
  },
  {
   "cell_type": "code",
   "execution_count": 35,
   "metadata": {},
   "outputs": [
    {
     "name": "stdout",
     "output_type": "stream",
     "text": [
      "\f"
     ]
    }
   ],
   "source": [
    "write.table(dat, file=\"ExampleGGData.csv\", sep=\",\")\n",
    "\n",
    "#rm(list=ls());cat(\"\\014\")\n",
    "#q()"
   ]
  },
  {
   "cell_type": "markdown",
   "metadata": {},
   "source": [
    "<font size=\"5\" color=\"4B0082\" face=\"calibri\">\n",
    "<b> Loading</b>\n",
    "</font>\n",
    "<br>\n",
    "<font size=\"4\" color=\"black\" face=\"calibri\">\n",
    "XXX <br>\n",
    "XXX.\n",
    "</font>"
   ]
  },
  {
   "cell_type": "code",
   "execution_count": 36,
   "metadata": {},
   "outputs": [
    {
     "data": {
      "text/html": [
       "<table>\n",
       "<thead><tr><th scope=col>PID</th><th scope=col>county</th><th scope=col>state</th><th scope=col>area</th><th scope=col>poptotal</th><th scope=col>popdensity</th><th scope=col>popwhite</th><th scope=col>popblack</th><th scope=col>popamerindian</th><th scope=col>popasian</th><th scope=col>⋯</th><th scope=col>percollege</th><th scope=col>percprof</th><th scope=col>poppovertyknown</th><th scope=col>percpovertyknown</th><th scope=col>percbelowpoverty</th><th scope=col>percchildbelowpovert</th><th scope=col>percadultpoverty</th><th scope=col>percelderlypoverty</th><th scope=col>inmetro</th><th scope=col>category</th></tr></thead>\n",
       "<tbody>\n",
       "\t<tr><td>561      </td><td>ADAMS    </td><td>IL       </td><td>0.052    </td><td>66090    </td><td>1270.9615</td><td>63917    </td><td>1702     </td><td>98       </td><td>249      </td><td>⋯        </td><td>19.63139 </td><td>4.355859 </td><td>63628    </td><td>96.27478 </td><td>13.151443</td><td>18.01172 </td><td>11.009776</td><td>12.443812</td><td>0        </td><td>AAR      </td></tr>\n",
       "\t<tr><td>562      </td><td>ALEXANDER</td><td>IL       </td><td>0.014    </td><td>10626    </td><td> 759.0000</td><td> 7054    </td><td>3496     </td><td>19       </td><td> 48      </td><td>⋯        </td><td>11.24331 </td><td>2.870315 </td><td>10529    </td><td>99.08714 </td><td>32.244278</td><td>45.82651 </td><td>27.385647</td><td>25.228976</td><td>0        </td><td>LHR      </td></tr>\n",
       "\t<tr><td>563      </td><td>BOND     </td><td>IL       </td><td>0.022    </td><td>14991    </td><td> 681.4091</td><td>14477    </td><td> 429     </td><td>35       </td><td> 16      </td><td>⋯        </td><td>17.03382 </td><td>4.488572 </td><td>14235    </td><td>94.95697 </td><td>12.068844</td><td>14.03606 </td><td>10.852090</td><td>12.697410</td><td>0        </td><td>AAR      </td></tr>\n",
       "\t<tr><td>564      </td><td>BOONE    </td><td>IL       </td><td>0.017    </td><td>30806    </td><td>1812.1176</td><td>29344    </td><td> 127     </td><td>46       </td><td>150      </td><td>⋯        </td><td>17.27895 </td><td>4.197800 </td><td>30337    </td><td>98.47757 </td><td> 7.209019</td><td>11.17954 </td><td> 5.536013</td><td> 6.217047</td><td>1        </td><td>ALU      </td></tr>\n",
       "\t<tr><td>565      </td><td>BROWN    </td><td>IL       </td><td>0.018    </td><td> 5836    </td><td> 324.2222</td><td> 5264    </td><td> 547     </td><td>14       </td><td>  5      </td><td>⋯        </td><td>14.47600 </td><td>3.367680 </td><td> 4815    </td><td>82.50514 </td><td>13.520249</td><td>13.02289 </td><td>11.143211</td><td>19.200000</td><td>0        </td><td>AAR      </td></tr>\n",
       "\t<tr><td>566      </td><td>BUREAU   </td><td>IL       </td><td>0.050    </td><td>35688    </td><td> 713.7600</td><td>35157    </td><td>  50     </td><td>65       </td><td>195      </td><td>⋯        </td><td>18.90462 </td><td>3.275891 </td><td>35107    </td><td>98.37200 </td><td>10.399635</td><td>14.15882 </td><td> 8.179287</td><td>11.008586</td><td>0        </td><td>AAR      </td></tr>\n",
       "</tbody>\n",
       "</table>\n"
      ],
      "text/latex": [
       "\\begin{tabular}{r|llllllllllllllllllllllllllll}\n",
       " PID & county & state & area & poptotal & popdensity & popwhite & popblack & popamerindian & popasian & ⋯ & percollege & percprof & poppovertyknown & percpovertyknown & percbelowpoverty & percchildbelowpovert & percadultpoverty & percelderlypoverty & inmetro & category\\\\\n",
       "\\hline\n",
       "\t 561       & ADAMS     & IL        & 0.052     & 66090     & 1270.9615 & 63917     & 1702      & 98        & 249       & ⋯         & 19.63139  & 4.355859  & 63628     & 96.27478  & 13.151443 & 18.01172  & 11.009776 & 12.443812 & 0         & AAR      \\\\\n",
       "\t 562       & ALEXANDER & IL        & 0.014     & 10626     &  759.0000 &  7054     & 3496      & 19        &  48       & ⋯         & 11.24331  & 2.870315  & 10529     & 99.08714  & 32.244278 & 45.82651  & 27.385647 & 25.228976 & 0         & LHR      \\\\\n",
       "\t 563       & BOND      & IL        & 0.022     & 14991     &  681.4091 & 14477     &  429      & 35        &  16       & ⋯         & 17.03382  & 4.488572  & 14235     & 94.95697  & 12.068844 & 14.03606  & 10.852090 & 12.697410 & 0         & AAR      \\\\\n",
       "\t 564       & BOONE     & IL        & 0.017     & 30806     & 1812.1176 & 29344     &  127      & 46        & 150       & ⋯         & 17.27895  & 4.197800  & 30337     & 98.47757  &  7.209019 & 11.17954  &  5.536013 &  6.217047 & 1         & ALU      \\\\\n",
       "\t 565       & BROWN     & IL        & 0.018     &  5836     &  324.2222 &  5264     &  547      & 14        &   5       & ⋯         & 14.47600  & 3.367680  &  4815     & 82.50514  & 13.520249 & 13.02289  & 11.143211 & 19.200000 & 0         & AAR      \\\\\n",
       "\t 566       & BUREAU    & IL        & 0.050     & 35688     &  713.7600 & 35157     &   50      & 65        & 195       & ⋯         & 18.90462  & 3.275891  & 35107     & 98.37200  & 10.399635 & 14.15882  &  8.179287 & 11.008586 & 0         & AAR      \\\\\n",
       "\\end{tabular}\n"
      ],
      "text/markdown": [
       "\n",
       "PID | county | state | area | poptotal | popdensity | popwhite | popblack | popamerindian | popasian | ⋯ | percollege | percprof | poppovertyknown | percpovertyknown | percbelowpoverty | percchildbelowpovert | percadultpoverty | percelderlypoverty | inmetro | category | \n",
       "|---|---|---|---|---|---|\n",
       "| 561       | ADAMS     | IL        | 0.052     | 66090     | 1270.9615 | 63917     | 1702      | 98        | 249       | ⋯         | 19.63139  | 4.355859  | 63628     | 96.27478  | 13.151443 | 18.01172  | 11.009776 | 12.443812 | 0         | AAR       | \n",
       "| 562       | ALEXANDER | IL        | 0.014     | 10626     |  759.0000 |  7054     | 3496      | 19        |  48       | ⋯         | 11.24331  | 2.870315  | 10529     | 99.08714  | 32.244278 | 45.82651  | 27.385647 | 25.228976 | 0         | LHR       | \n",
       "| 563       | BOND      | IL        | 0.022     | 14991     |  681.4091 | 14477     |  429      | 35        |  16       | ⋯         | 17.03382  | 4.488572  | 14235     | 94.95697  | 12.068844 | 14.03606  | 10.852090 | 12.697410 | 0         | AAR       | \n",
       "| 564       | BOONE     | IL        | 0.017     | 30806     | 1812.1176 | 29344     |  127      | 46        | 150       | ⋯         | 17.27895  | 4.197800  | 30337     | 98.47757  |  7.209019 | 11.17954  |  5.536013 |  6.217047 | 1         | ALU       | \n",
       "| 565       | BROWN     | IL        | 0.018     |  5836     |  324.2222 |  5264     |  547      | 14        |   5       | ⋯         | 14.47600  | 3.367680  |  4815     | 82.50514  | 13.520249 | 13.02289  | 11.143211 | 19.200000 | 0         | AAR       | \n",
       "| 566       | BUREAU    | IL        | 0.050     | 35688     |  713.7600 | 35157     |   50      | 65        | 195       | ⋯         | 18.90462  | 3.275891  | 35107     | 98.37200  | 10.399635 | 14.15882  |  8.179287 | 11.008586 | 0         | AAR       | \n",
       "\n",
       "\n"
      ],
      "text/plain": [
       "  PID county    state area  poptotal popdensity popwhite popblack popamerindian\n",
       "1 561 ADAMS     IL    0.052 66090    1270.9615  63917    1702     98           \n",
       "2 562 ALEXANDER IL    0.014 10626     759.0000   7054    3496     19           \n",
       "3 563 BOND      IL    0.022 14991     681.4091  14477     429     35           \n",
       "4 564 BOONE     IL    0.017 30806    1812.1176  29344     127     46           \n",
       "5 565 BROWN     IL    0.018  5836     324.2222   5264     547     14           \n",
       "6 566 BUREAU    IL    0.050 35688     713.7600  35157      50     65           \n",
       "  popasian ⋯ percollege percprof poppovertyknown percpovertyknown\n",
       "1 249      ⋯ 19.63139   4.355859 63628           96.27478        \n",
       "2  48      ⋯ 11.24331   2.870315 10529           99.08714        \n",
       "3  16      ⋯ 17.03382   4.488572 14235           94.95697        \n",
       "4 150      ⋯ 17.27895   4.197800 30337           98.47757        \n",
       "5   5      ⋯ 14.47600   3.367680  4815           82.50514        \n",
       "6 195      ⋯ 18.90462   3.275891 35107           98.37200        \n",
       "  percbelowpoverty percchildbelowpovert percadultpoverty percelderlypoverty\n",
       "1 13.151443        18.01172             11.009776        12.443812         \n",
       "2 32.244278        45.82651             27.385647        25.228976         \n",
       "3 12.068844        14.03606             10.852090        12.697410         \n",
       "4  7.209019        11.17954              5.536013         6.217047         \n",
       "5 13.520249        13.02289             11.143211        19.200000         \n",
       "6 10.399635        14.15882              8.179287        11.008586         \n",
       "  inmetro category\n",
       "1 0       AAR     \n",
       "2 0       LHR     \n",
       "3 0       AAR     \n",
       "4 1       ALU     \n",
       "5 0       AAR     \n",
       "6 0       AAR     "
      ]
     },
     "metadata": {},
     "output_type": "display_data"
    }
   ],
   "source": [
    "df = read.table(file=\"ExampleGGData.csv\", sep=\",\")\n",
    "head(df)\n",
    "\n",
    "#read.csv()\n",
    "#read.delim()"
   ]
  },
  {
   "cell_type": "markdown",
   "metadata": {},
   "source": [
    "<font size=\"2\" color=\"black\" face=\"calibri\"> <b>\n",
    "'R: Some Basics' <br>\n",
    "</b> </font>"
   ]
  }
 ],
 "metadata": {
  "kernelspec": {
   "display_name": "R 3.4",
   "language": "R",
   "name": "ir"
  },
  "language_info": {
   "codemirror_mode": "r",
   "file_extension": ".r",
   "mimetype": "text/x-r-source",
   "name": "R",
   "pygments_lexer": "r",
   "version": "3.4.1"
  }
 },
 "nbformat": 4,
 "nbformat_minor": 2
}
